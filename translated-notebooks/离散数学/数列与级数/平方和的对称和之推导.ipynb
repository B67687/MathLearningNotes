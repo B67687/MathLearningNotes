{
 "cells": [
  {
   "cell_type": "markdown",
   "id": "813e109e-bd5f-4b62-81b8-a3fa023e1962",
   "metadata": {},
   "source": [
    "# 对称和法推导平方和\n",
    "\n",
    "我们来求平方和：\n",
    "\n",
    "$$\n",
    "\\sum_{k=1}^{n} k^2\n",
    "$$\n",
    "\n",
    "当展开时，它看起来是这样的：\n",
    "\n",
    "$$\n",
    "\\sum_{k=1}^n k^2 = 1^2 + 2^2 + 3^2 + \\cdots + n^2\n",
    "$$"
   ]
  },
  {
   "cell_type": "markdown",
   "id": "6760ca59-5385-4f87-8ca1-2c946abeaeaf",
   "metadata": {},
   "source": [
    "# 平方数的性质\n",
    "\n",
    "记住，**平方数也可以表示为前 n 个奇数的和**：\n",
    "- $n^2$ 是从 `1` 到第 `n` 个奇数（即 $2n - 1$）的和：\n",
    "\n",
    "$$\n",
    "\\sum_{k=1}^n k^2 = \\boxed{1} + \\boxed{1 + 3} + \\boxed{1 + 3 + 5} + \\cdots + \\boxed{1 + 3 + 5 + \\cdots + (2n - 1)}\n",
    "$$"
   ]
  },
  {
   "cell_type": "markdown",
   "id": "7a90edc0-9933-47bf-a4fe-c9961df9c6bb",
   "metadata": {},
   "source": [
    "# 对称和结构\n",
    "\n",
    "同时我们也知道，**奇数的和可以用一个对称、长度为奇数的序列来表示**：\n",
    "\n",
    "- 从 `1` 到 `n` 再回到 `1`\n",
    "\n",
    "$$\n",
    "\\sum_{k=1}^n k^2 = \\boxed{1} + \\boxed{1 + 2 + 1} + \\boxed{1 + 2 + 3 + 2 + 1} + \\cdots + \\boxed{1 + 2 + 3 + \\cdots + n + \\cdots + 3 + 2 + 1}\n",
    "$$\n",
    "\n",
    "如果我们把它垂直排列，可以看到如下形式：\n",
    "\n",
    "$$\n",
    "\\sum_{k=1}^n k^2 = \n",
    "\\begin{array}{c}\n",
    "    & 1 \\\\\n",
    "    & 1 & 2 & 1\\\\\n",
    "    & 1 & 2 & 3 & 2 & 1 \\\\\n",
    "    & 1 & 2 & 3 & 4 & 3 & 2 & 1 \\\\\n",
    "    & \\vdots & \\vdots & \\vdots & \\vdots & \\vdots & \\vdots & \\vdots & \\ddots \\\\\n",
    "    & 1 & 2 & 3 & 4 & 5 & 6 & 7 & \\cdots & n & \\cdots & 5 & 4 & 3 & 2 & 1 \\\\\n",
    "\\end{array}\n",
    "$$"
   ]
  },
  {
   "cell_type": "markdown",
   "id": "0aa65c56-88c2-4fe0-b6fe-f909b7aa24f6",
   "metadata": {},
   "source": [
    "# 三角形数之和\n",
    "\n",
    "注意在每个对称和的**上升部分**中，我们看到的是从 `1` 到 `n` 的等差和（即三角形数）：\n",
    "\n",
    "$$\n",
    "\\sum_{k=1}^n k^2 = \n",
    "\\begin{array}{c}\n",
    "    & 1 \\\\\n",
    "    & 1 & 2 & \\textcolor{lightgray}{1}\\\\\n",
    "    & 1 & 2 & 3 &  \\textcolor{lightgray}{2} &  \\textcolor{lightgray}{1} \\\\\n",
    "    & 1 & 2 & 3 & 4 &  \\textcolor{lightgray}{3} &  \\textcolor{lightgray}{2} &  \\textcolor{lightgray}{1} \\\\\n",
    "    & \\vdots & \\vdots & \\vdots & \\vdots & \\vdots & \\vdots & \\vdots &  \\textcolor{lightgray}{\\ddots} \\\\\n",
    "    & 1 & 2 & 3 & 4 & 5 & 6 & 7 & \\cdots & n &  \\textcolor{lightgray}{\\cdots} &  \\textcolor{lightgray}{5} &  \\textcolor{lightgray}{4} &  \\textcolor{lightgray}{3} &  \\textcolor{lightgray}{2} &  \\textcolor{lightgray}{1} \\\\\n",
    "\\end{array}\n",
    "$$\n",
    "\n",
    "而在每个对称和的**下降部分**中，我们看到的是从 `1` 到 `n-1` 的等差和：\n",
    "\n",
    "$$\n",
    "\\sum_{k=1}^n k^2 = \n",
    "\\begin{array}{}\n",
    "    & \\textcolor{lightgray}{1} \\\\\n",
    "    & \\textcolor{lightgray}{1} & \\textcolor{lightgray}{2} & 1\\\\\n",
    "    & \\textcolor{lightgray}{1} & \\textcolor{lightgray}{2} & \\textcolor{lightgray}{3} & 2 & 1 \\\\\n",
    "    & \\textcolor{lightgray}{1} & \\textcolor{lightgray}{2} & \\textcolor{lightgray}{3} & \\textcolor{lightgray}{4} & 3 & 2 & 1 \\\\\n",
    "    & \\textcolor{lightgray}{\\vdots} & \\textcolor{lightgray}{\\vdots} & \\textcolor{lightgray}{\\vdots} & \\textcolor{lightgray}{\\vdots} & \\textcolor{lightgray}{\\vdots} & \\textcolor{lightgray}{\\vdots} & \\textcolor{lightgray}{\\vdots} & \\ddots \\\\\n",
    "    & \\textcolor{lightgray}{1} & \\textcolor{lightgray}{2} & \\textcolor{lightgray}{3} & \\textcolor{lightgray}{4} & \\textcolor{lightgray}{5} & \\textcolor{lightgray}{6} & \\textcolor{lightgray}{7} & \\textcolor{lightgray}{\\cdots} & \\textcolor{lightgray}{n} & \\underline{n-1} & \\cdots & 5 & 4 & 3 & 2 & 1 \\\\\n",
    "\\end{array}\n",
    "$$\n",
    "\n",
    "因此，**平方和**就等于从 `1` 到 `n` 的**等差和**加上从 `1` 到 `n-1` 的**等差和**。\n",
    "\n",
    "而这些等差和就是所谓的**三角形数**，因为它们可以排列成不断扩大的等边三角形。\n",
    "\n",
    "\n",
    "我们已经知道三角形数的和为：\n",
    "\n",
    "$$\n",
    "\\sum_{k=1}^n \\text{Triangle Numbers} = \\dfrac{n(n+1)(n+2)}{6}\n",
    "$$\n"
   ]
  },
  {
   "cell_type": "markdown",
   "id": "e392c78a-d2cc-48a4-ad42-7c21c000763c",
   "metadata": {},
   "source": [
    "# 代数推导\n",
    "\n",
    "所以，平方和可以写成两个三角形数列和之和：\n",
    "\n",
    "$$\n",
    "\\sum_{k=1}^n k^2 = \\dfrac{n(n+1)(n+2)}{6} + \\dfrac{\\boxed{n-1}(\\boxed{n-1}+1)(\\boxed{n-1}+2)}{6}\n",
    "$$\n",
    "\n",
    "进一步化简：\n",
    "\n",
    "$$\n",
    "\\begin{align}\n",
    "    \\sum_{k=1}^n k^2 &= \\dfrac{n(n+1)(n+2)}{6} + \\dfrac{(n-1)n(n+1)}{6} \\\\\n",
    "    &= \\textcolor{lightgray}{\\dfrac{n(n+1)(n+2)}{6}} + \\dfrac{n(n+1)(n-1)}{6} \\\\\n",
    "    &= \\dfrac{n(n+1)(\\boxed{n+2} + \\boxed{n-1})}{6} \\\\\n",
    "    &= \\dfrac{n(n+1)(2n+1)}{6}\n",
    "\\end{align}\n",
    "$$"
   ]
  },
  {
   "cell_type": "markdown",
   "id": "b0da9d81-ae4f-496f-90fe-7c474b34fae3",
   "metadata": {},
   "source": [
    "# 结论\n",
    "\n",
    "于是我们得到了著名的平方和公式！\n",
    "\n",
    "$$\n",
    "\\sum_{k=1}^n k^2 = \\dfrac{n(n+1)(2n+1)}{6}\n",
    "$$"
   ]
  }
 ],
 "metadata": {
  "kernelspec": {
   "display_name": "Python 3 (ipykernel)",
   "language": "python",
   "name": "python3"
  },
  "language_info": {
   "codemirror_mode": {
    "name": "ipython",
    "version": 3
   },
   "file_extension": ".py",
   "mimetype": "text/x-python",
   "name": "python",
   "nbconvert_exporter": "python",
   "pygments_lexer": "ipython3",
   "version": "3.12.9"
  }
 },
 "nbformat": 4,
 "nbformat_minor": 5
}
