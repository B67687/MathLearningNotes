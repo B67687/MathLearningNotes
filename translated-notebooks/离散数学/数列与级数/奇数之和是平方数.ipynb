{
 "cells": [
  {
   "cell_type": "markdown",
   "id": "bc4af735-9d89-4854-916c-60d35fa37956",
   "metadata": {},
   "source": [
    "# （奇数和 → 平方）恒等式\n",
    "\n",
    "我们观察到一个有趣的规律：\n",
    "\n",
    "$$\n",
    "\\begin{align}\n",
    "    1 &= 1 \\rightarrow 1^{2} \\\\\n",
    "    1 + 3 &= 4 \\rightarrow 2^{2} \\\\\n",
    "    1 + 3 + 5 &= 9 \\rightarrow 3^{2} \\\\\n",
    "    1 + 3 + 5 + 7 &= 16 \\rightarrow 4^{2} \\\\\n",
    "    1 + 3 + 5 + 7 + 9 &= 25 \\rightarrow 5^{2} \\\\\n",
    "    1 + 3 + 5 + 7 + 9 + 11 &= 36 \\rightarrow 6^{2} \\\\\n",
    "    1 + 3 + 5 + 7 + 9 + 11 + 13 &= 49 \\rightarrow 7^{2} \\\\\n",
    "    1 + 3 + 5 + 7 + 9 + 11 + 13 + 15 &= 64 \\rightarrow 8^{2} \\\\\n",
    "\\end{align}\n",
    "$$\n",
    "\n",
    "看起来，前 `n` 个奇数的和恰好等于当前项数的平方。我们来证明这个结论是否成立！\n",
    "\n",
    "---\n",
    "\n",
    "我们从这个表达式开始：\n",
    "\n",
    "$$\n",
    "\\sum_{k=1}^n (2k - 1)\n",
    "$$\n",
    "\n",
    "展开并化简：\n",
    "\n",
    "$$\n",
    "\\begin{align*}\n",
    "    \\sum_{k=1}^n (2k - 1) &= 2\\sum_{k=1}^n k - \\sum_{k=1}^n 1 \\\\\n",
    "    &= \\cancel{2} \\cdot \\dfrac{n(n+1)}{\\cancel{2}} - n \\\\\n",
    "    &= (n^2 + \\cancel{n}) - \\cancel{n} \\\\\n",
    "    &= n^2\n",
    "\\end{align*}\n",
    "$$\n",
    "\n",
    "因此我们已经证明了这个有趣的恒等式：\n",
    "\n",
    "$$\n",
    "\\boxed{\\sum_{k=1}^n (2k - 1) = n^2}\n",
    "$$\n",
    "\n",
    "#### <center>前 n 个奇数的和等于 n 的平方\n",
    "\n",
    "这也描述了平方数列：\n",
    "\n",
    "$$\n",
    "1, 4, 9, 16, \\cdots, n^2\n",
    "$$"
   ]
  }
 ],
 "metadata": {
  "kernelspec": {
   "display_name": "Python 3 (ipykernel)",
   "language": "python",
   "name": "python3"
  },
  "language_info": {
   "codemirror_mode": {
    "name": "ipython",
    "version": 3
   },
   "file_extension": ".py",
   "mimetype": "text/x-python",
   "name": "python",
   "nbconvert_exporter": "python",
   "pygments_lexer": "ipython3",
   "version": "3.12.9"
  }
 },
 "nbformat": 4,
 "nbformat_minor": 5
}
