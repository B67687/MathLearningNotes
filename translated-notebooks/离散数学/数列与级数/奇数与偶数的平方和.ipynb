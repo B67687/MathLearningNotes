{
 "cells": [
  {
   "cell_type": "markdown",
   "id": "fe86c61a-d8e9-4978-8405-9ccdffd4823f",
   "metadata": {},
   "source": [
    "# 平方和\n",
    "\n",
    "平方和的公式如下所示：\n",
    "\n",
    "$$\n",
    "\\sum_{k=1}^n k^2 = \\dfrac{n(n+1)(2n+1)}{6}\n",
    "$$"
   ]
  },
  {
   "cell_type": "markdown",
   "id": "89033391-051b-4c07-b241-a25627e1fba4",
   "metadata": {},
   "source": [
    "# 偶数平方和\n",
    "\n",
    "偶数平方和的形式如下：\n",
    "\n",
    "$$\n",
    "\\sum_{k=1}^n (2k)^2\n",
    "$$\n",
    "\n",
    "我们可以将其拆解为：\n",
    "\n",
    "$$\n",
    "\\begin{align}\n",
    "    \\sum_{k=1}^n (2k)^2 &= \\sum_{k=1}^n 4k^2 \\\\\n",
    "    &= 4 \\sum_{k=1}^n k^2\n",
    "\\end{align}\n",
    "$$\n",
    "\n",
    "然后代入平方和公式：\n",
    "\n",
    "$$\n",
    "\\begin{align}\n",
    "    4 \\sum_{k=1}^n k^2 &= 4 \\cdot \\dfrac{n(n+1)(2n+1)}{6} \\\\\n",
    "    &= \\dfrac{2n(n+1)(2n+1)}{3}\n",
    "\\end{align}\n",
    "$$\n",
    "\n",
    "因此，**前 `n` 个偶数的平方和**（即直到第 `n` 个偶数）为：\n",
    "\n",
    "$$\n",
    "\\boxed{\n",
    "    \\sum_{k=1}^n (2k)^2 = \\dfrac{2n(n+1)(2n+1)}{3}\n",
    "}\n",
    "$$"
   ]
  },
  {
   "cell_type": "markdown",
   "id": "fbc9b7c3-9400-44b0-a10a-09a4918d2da7",
   "metadata": {},
   "source": [
    "# 奇数平方和\n",
    "\n",
    "奇数平方和的形式如下：\n",
    "\n",
    "$$\n",
    "\\sum_{k=1}^n (2k-1)^2\n",
    "$$\n",
    "\n",
    "我们可以通过展开并化简来求解：\n",
    "\n",
    "$$\n",
    "\\begin{align}\n",
    "    \\sum_{k=1}^n (2k-1)^2 &= \\sum_{k=1}^n 4k^2 -4k + 1 \\\\\n",
    "    &= 4 \\sum_{k=1}^n k^2 -4 \\sum_{k=1}^n k + \\sum_{k=1}^n 1 \\\\\n",
    "    \\\\\n",
    "    &= 4 \\cdot \\dfrac{n(n+1)(2n+1)}{6} - 4 \\cdot \\dfrac{n(n+1)}{2} + n \\\\\n",
    "    \\\\\n",
    "    &= \\dfrac{2n(n+1)(2n+1)}{3} - 2n(n+1) + n \\\\\n",
    "    \\\\\n",
    "    &= \\dfrac{2n(n+1)(2n+1)-6n(n+1)+3n}{3} \\\\\n",
    "    \\\\\n",
    "    &= \\dfrac{(2n^2 + 2n)(2n+1) -6n^2 - 6n +3n}{3} \\\\\n",
    "    \\\\\n",
    "    &= \\dfrac{\\boxed{4n^3 + 2n^2 + 4n^2 + 2n} \\space \\boxed{- 6n^2 - 6n} \\space \\boxed{+ 3n}}{3} \\\\\n",
    "    \\\\\n",
    "    &= \\dfrac{4n^3 + \\boxed{2n^2 + 4n^2 - 6n^2} + \\boxed{2n - 6n + 3n}}{3} \\\\\n",
    "    \\\\\n",
    "    &= \\dfrac{4n^3 - n}{3} \\\\\n",
    "    \\\\\n",
    "    &= \\dfrac{n(4n^2 - 1)}{3} \\\\\n",
    "\\end{align}\n",
    "$$\n",
    "\n",
    "因此，**前 `n` 个奇数的平方和**（即直到第 `n` 个奇数）为：\n",
    "\n",
    "$$\n",
    "\\boxed{\n",
    "    \\sum_{k=1}^n (2k-1)^2 = \\dfrac{n(4n^2 - 1)}{3}\n",
    "}\n",
    "$$"
   ]
  }
 ],
 "metadata": {
  "kernelspec": {
   "display_name": "Python 3 (ipykernel)",
   "language": "python",
   "name": "python3"
  },
  "language_info": {
   "codemirror_mode": {
    "name": "ipython",
    "version": 3
   },
   "file_extension": ".py",
   "mimetype": "text/x-python",
   "name": "python",
   "nbconvert_exporter": "python",
   "pygments_lexer": "ipython3",
   "version": "3.12.9"
  }
 },
 "nbformat": 4,
 "nbformat_minor": 5
}
