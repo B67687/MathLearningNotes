{
 "cells": [
  {
   "cell_type": "markdown",
   "id": "17710ad7-1415-4031-ba09-c1e96020a2e0",
   "metadata": {},
   "source": [
    "# 被 `n` 除尽\n",
    "- 其中 `n` 是一个整数\n",
    "\n",
    "当我们寻找一个规则来判断某个数是否**完全能被 `n` 除尽**时，\n",
    "- 我们会将这一性质简称为“**能被 `n` 除尽**”；\n",
    "- 因为严格来讲，**每个数都能被 `n` 除尽**（即使商是无理数或超越数），这种说法没有实际意义；\n",
    "- 所以我们将它重新定义为“**整除**”。\n",
    "\n",
    "换句话说：\n",
    "> 只有当一个数除以 `n` 得到的商是一个整数时，我们才说这个数**能被 `n` 整除**。\n",
    "\n",
    "其实这是英文的表达里的缺陷，并不在存在于中文里"
   ]
  }
 ],
 "metadata": {
  "kernelspec": {
   "display_name": "Python 3 (ipykernel)",
   "language": "python",
   "name": "python3"
  },
  "language_info": {
   "codemirror_mode": {
    "name": "ipython",
    "version": 3
   },
   "file_extension": ".py",
   "mimetype": "text/x-python",
   "name": "python",
   "nbconvert_exporter": "python",
   "pygments_lexer": "ipython3",
   "version": "3.12.9"
  }
 },
 "nbformat": 4,
 "nbformat_minor": 5
}
