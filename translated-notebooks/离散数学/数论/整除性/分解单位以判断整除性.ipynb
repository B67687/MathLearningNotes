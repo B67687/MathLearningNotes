{
 "cells": [
  {
   "cell_type": "markdown",
   "id": "08f40263-3379-4163-9749-a4c71bbe5c92",
   "metadata": {
    "jp-MarkdownHeadingCollapsed": true
   },
   "source": [
    "# 如何进行因式分解\n",
    "\n",
    "我们知道一个数可以表示为如下形式：\n",
    "\n",
    "$$\n",
    "\\text{数} \\space = \\space \\underbrace{\\overline{k \\space m \\space \\cdots \\space c \\space b \\space a}}_{\\text{n 位}}\n",
    "$$\n",
    "\n",
    "也可以展开为如下形式：\n",
    "\n",
    "$$\n",
    "\\text{数} \\space =\n",
    "\\space \\underline{k \\cdot 10^{n-1}} + \n",
    "\\underline{m \\cdot 10^{n-2}} + \n",
    "\\cdots + \n",
    "\\underline{c \\cdot 10^{2}} + \n",
    "\\underline{b \\cdot 10^{1}} + \n",
    "\\underline{a \\cdot 10^{0}}\n",
    "$$\n",
    "\n",
    "为了使这个数能被某个整数 `j` 整除，我们必须能够从该表达式中提出因子 `j`\n",
    "\n",
    "$$\n",
    "\\textcolor{lightgray}{\\text{数} \\space =}\n",
    "\\space \\underline{k \\cdot 10^{n-1}} + \n",
    "\\underline{m \\cdot 10^{n-2}} + \n",
    "\\cdots + \n",
    "\\underline{c \\cdot 10^{2}} + \n",
    "\\underline{b \\cdot 10^{1}} + \n",
    "\\underline{a \\cdot 10^{0}}\n",
    "$$\n",
    "\n",
    "我们注意到可以从两个不同的角度对这个数进行因式分解：\n",
    "- 一个是这个数的**各位权值**\n",
    "\n",
    "$$\n",
    "\\underline{k \\textcolor{lightgray}{\\cdot 10^{n-1}}} + \n",
    "\\underline{m \\textcolor{lightgray}{\\cdot 10^{n-2}}} + \n",
    "\\cdots +\n",
    "\\underline{c \\textcolor{lightgray}{\\cdot 10^{2}}} + \n",
    "\\underline{b \\textcolor{lightgray}{\\cdot 10^{1}}} + \n",
    "\\underline{a \\textcolor{lightgray}{\\cdot 10^{0}}}\n",
    "$$\n",
    "\n",
    "- 另一个是代表**每一位分组方式的 `10` 的幂次**\n",
    "\n",
    "$$\n",
    "\\underline{\\textcolor{lightgray}{k \\space \\cdot} \\space 10^{n-1}} + \n",
    "\\underline{\\textcolor{lightgray}{m \\space \\cdot} \\space 10^{n-2}} + \n",
    "\\cdots + \n",
    "\\underline{\\textcolor{lightgray}{c \\space \\cdot} \\space 10^{2}} + \n",
    "\\underline{\\textcolor{lightgray}{b \\space \\cdot} \\space 10^{1}} + \n",
    "\\underline{\\textcolor{lightgray}{a \\space \\cdot} \\space 10^{0}}\n",
    "$$\n",
    "\n",
    "对于第一部分的权值我们无法做太多操作，因为它们只是变量；\n",
    "\n",
    "> 但我们可以尝试从**单位**本身提取因子 `j`！"
   ]
  }
 ],
 "metadata": {
  "kernelspec": {
   "display_name": "Python 3 (ipykernel)",
   "language": "python",
   "name": "python3"
  },
  "language_info": {
   "codemirror_mode": {
    "name": "ipython",
    "version": 3
   },
   "file_extension": ".py",
   "mimetype": "text/x-python",
   "name": "python",
   "nbconvert_exporter": "python",
   "pygments_lexer": "ipython3",
   "version": "3.12.9"
  }
 },
 "nbformat": 4,
 "nbformat_minor": 5
}
