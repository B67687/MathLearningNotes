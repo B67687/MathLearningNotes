{
 "cells": [
  {
   "cell_type": "markdown",
   "id": "4c985de5-00bb-47f3-af65-37591c90c9b4",
   "metadata": {},
   "source": [
    "# 合数\n",
    "\n",
    "`6` 是一个**合数**，它由 `2` 和 `3` 相乘组成：\n",
    "\n",
    "$$\n",
    "6 = 2 \\cdot 3\n",
    "$$\n",
    "\n",
    "这意味着只要一个数能同时被 `2` 和 `3` 整除，它就能被 `6` 整除。\n",
    "\n",
    "$$\n",
    "\\underline{\\text{能被 6 整除}} = \\boxed{\\text{能被 6 整除}} \\ \\& \\ \\boxed{\\text{能被 3 整除}}\n",
    "$$\n",
    "\n",
    "我们已经在之前的 Jupyter Notebook 中**推导过以下条件**：\n",
    "- 能被 `2` 整除 的条件；\n",
    "- 能被 `3` 整除 的条件。\n",
    "\n",
    "现在我们把它们移过来直接使用：\n",
    "\n",
    "## 被 2 整除的条件\n",
    "\n",
    "要使一个数能被 `2` 整除，必须满足以下条件：\n",
    "\n",
    "$$\n",
    "\\text{个位数字必须是 } 0, 2, 4, 6, \\text{ 或 } 8\n",
    "$$\n",
    "\n",
    "## 被 3 整除的条件\n",
    "\n",
    "要使一个数能被 `3` 整除，必须满足以下条件：\n",
    "\n",
    "$$\n",
    "\\text{该数的各位数字之和必须是 } 3 \\text{ 的倍数}\n",
    "$$"
   ]
  },
  {
   "cell_type": "markdown",
   "id": "2723f18e-7d80-4a42-93a8-2e3ed2370ca2",
   "metadata": {},
   "source": [
    "# 结论\n",
    "\n",
    "因此，要使一个数能被 `6` 整除，它必须**同时满足以下两个条件**：\n",
    "\n",
    "---\n",
    "\n",
    "- **能被 2 整除**\n",
    "\n",
    "$$\n",
    "\\text{个位数字必须是 } 0, 2, 4, 6, \\text{ 或 } 8\n",
    "$$\n",
    "\n",
    "- **能被 3 整除**\n",
    "\n",
    "$$\n",
    "\\text{该数的各位数字之和是 } 3 \\text{ 的倍数}\n",
    "$$\n",
    "\n",
    "> ✅ 只有当这两个条件**都满足**时，这个数才能被 `6` 整除。"
   ]
  }
 ],
 "metadata": {
  "kernelspec": {
   "display_name": "Python 3 (ipykernel)",
   "language": "python",
   "name": "python3"
  },
  "language_info": {
   "codemirror_mode": {
    "name": "ipython",
    "version": 3
   },
   "file_extension": ".py",
   "mimetype": "text/x-python",
   "name": "python",
   "nbconvert_exporter": "python",
   "pygments_lexer": "ipython3",
   "version": "3.12.9"
  }
 },
 "nbformat": 4,
 "nbformat_minor": 5
}
