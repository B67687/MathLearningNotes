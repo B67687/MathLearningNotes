{
 "cells": [
  {
   "cell_type": "markdown",
   "id": "d9cc0a70-2012-4704-83a9-ca565bb51716",
   "metadata": {},
   "source": [
    "## **所有数字系统下的数都能被1整除**\n",
    "\n",
    "作为数字系统的基本单位，1是所有其他数字的基础\n",
    "\n",
    "$$\n",
    "\\boxed{\n",
    "    \\phantom{\\biggr(} \n",
    "        \\textbf{所有数都能被1整除}\n",
    "    \\phantom{\\biggr)}\n",
    "}\n",
    "$$"
   ]
  }
 ],
 "metadata": {
  "kernelspec": {
   "display_name": "Python 3 (ipykernel)",
   "language": "python",
   "name": "python3"
  },
  "language_info": {
   "codemirror_mode": {
    "name": "ipython",
    "version": 3
   },
   "file_extension": ".py",
   "mimetype": "text/x-python",
   "name": "python",
   "nbconvert_exporter": "python",
   "pygments_lexer": "ipython3",
   "version": "3.12.9"
  }
 },
 "nbformat": 4,
 "nbformat_minor": 5
}
