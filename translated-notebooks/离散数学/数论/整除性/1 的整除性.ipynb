{
 "cells": [
  {
   "cell_type": "markdown",
   "id": "d9cc0a70-2012-4704-83a9-ca565bb51716",
   "metadata": {},
   "source": [
    "# 所有整数进制下的数都能被 1 整除\n",
    "\n",
    "$$\n",
    "    \\textbf{这是因为 1 是单位整数}\n",
    "$$\n",
    "\n",
    "因此，根据其本身的定义，**所有整数都能被 1 整除**，`无论它使用的是哪种整数进制`"
   ]
  }
 ],
 "metadata": {
  "kernelspec": {
   "display_name": "Python 3 (ipykernel)",
   "language": "python",
   "name": "python3"
  },
  "language_info": {
   "codemirror_mode": {
    "name": "ipython",
    "version": 3
   },
   "file_extension": ".py",
   "mimetype": "text/x-python",
   "name": "python",
   "nbconvert_exporter": "python",
   "pygments_lexer": "ipython3",
   "version": "3.12.9"
  }
 },
 "nbformat": 4,
 "nbformat_minor": 5
}
