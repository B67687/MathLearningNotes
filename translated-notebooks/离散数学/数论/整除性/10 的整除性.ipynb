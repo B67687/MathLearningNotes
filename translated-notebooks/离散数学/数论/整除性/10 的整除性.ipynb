{
 "cells": [
  {
   "cell_type": "markdown",
   "id": "3141cb7f-9076-47cd-8372-763a3146d798",
   "metadata": {},
   "source": [
    "# 基数的特殊情况\n",
    "\n",
    "由于我们是 `除以基数本身`，而这个数本身就是建立在该基数上的，\n",
    "- 我们用基数表示一个数的方式本质上就是对数量进行分组\n",
    "\n",
    "$$\n",
    "\\text{Number} = \\underbrace{\\overline{k \\space m \\space \\cdots \\space c \\space b \\space a}}_{\\text{n 位}} =\n",
    "\\space \\underline{k \\cdot 10^{n-1}} + \n",
    "\\underline{m \\cdot 10^{n-2}} + \n",
    "\\cdots + \n",
    "\\underline{c \\cdot 10^{2}} + \n",
    "\\underline{b \\cdot 10^{1}} + \n",
    "\\underline{a \\cdot 10^{0}}\n",
    "$$\n",
    "\n",
    "- 然后不断对“组”继续按相同的数进行再分组、再再分组……\n",
    "\n",
    "$$\n",
    "\\text{Number} = \\underbrace{\\overline{k \\space m \\space \\cdots \\space c \\space b \\space \\textcolor{lightgray}{a}}}_{\\text{n 位}} = \n",
    "\\space \\underline{k \\cdot 10^{n-1}} + \n",
    "\\underline{m \\cdot 10^{n-2}} + \n",
    "\\cdots + \n",
    "\\underline{c \\cdot 10^{2}} + \n",
    "\\underline{b \\cdot 10^{1}} \\textcolor{lightgray}{+ \n",
    "\\underline{a \\cdot 10^{0}}}\n",
    "$$\n",
    "\n",
    "因此，要判断一个数是否 `能被它的基数整除`，\n",
    "- 我们只需要检查 `这个分组是否完整`，换句话说\n",
    "- 是否 `没有余数`，即 **个位上没有任何东西**\n",
    "\n",
    "$$\n",
    "\\text{Number} = \\underbrace{\\overline{\\textcolor{lightgray}{k \\space m \\space \\cdots \\space c \\space b} \\space a}}_{\\text{n 位}} = \n",
    "\\textcolor{lightgray}{\\space \\underline{k \\cdot 10^{n-1}} + \n",
    "\\underline{m \\cdot 10^{n-2}} + \n",
    "\\cdots + \n",
    "\\underline{c \\cdot 10^{2}} + \n",
    "\\underline{b \\cdot 10^{1}}} + \n",
    "\\underline{a \\cdot 10^{0}}\n",
    "$$"
   ]
  },
  {
   "cell_type": "markdown",
   "id": "46bfb5b0-de0c-41cf-bb6e-8e4f67e283b4",
   "metadata": {},
   "source": [
    "# 整除规则\n",
    "\n",
    "因此，判断一个数是否 `能被 10 整除`\n",
    "\n",
    "$$\n",
    "\\boxed{\n",
    "    \\phantom{\\biggr(} \n",
    "        \\textbf{个位上的数字必须是 0}\n",
    "    \\phantom{\\biggr)}\n",
    "}\n",
    "$$"
   ]
  }
 ],
 "metadata": {
  "kernelspec": {
   "display_name": "Python 3 (ipykernel)",
   "language": "python",
   "name": "python3"
  },
  "language_info": {
   "codemirror_mode": {
    "name": "ipython",
    "version": 3
   },
   "file_extension": ".py",
   "mimetype": "text/x-python",
   "name": "python",
   "nbconvert_exporter": "python",
   "pygments_lexer": "ipython3",
   "version": "3.12.9"
  }
 },
 "nbformat": 4,
 "nbformat_minor": 5
}
