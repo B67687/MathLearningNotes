{
 "cells": [
  {
   "cell_type": "markdown",
   "id": "bcc11ade-3108-43c2-b8f6-b2da1e90c43a",
   "metadata": {},
   "source": [
    "# 数字的十进制分解形式\n",
    "\n",
    "任何一个数都可以表示为它的**十进制（base-10）形式**如下：\n",
    "- 其中每一位上的数字取值范围从 `0` 到 `9`\n",
    "\n",
    "$$\n",
    "\\text{数} \\space = \\space \\underbrace{\\overline{k \\space m \\space \\cdots \\space c \\space b \\space a}}_{\\text{n 位}}\n",
    "$$\n",
    "\n",
    "将每一位展开后得到：\n",
    "\n",
    "$$\n",
    "\\underbrace{\\overline{k \\space m \\space \\cdots \\space c \\space b \\space a}}_{\\text{n 位}} \\space = \n",
    "\\space \\underline{k \\cdot 10^{n-1}} + \n",
    "\\underline{m \\cdot 10^{n-2}} + \n",
    "\\cdots + \n",
    "\\underline{c \\cdot 10^{2}} + \n",
    "\\underline{b \\cdot 10^{1}} + \n",
    "\\underline{a \\cdot 10^{0}}\n",
    "$$\n",
    "\n",
    "因此，该数可以写成如下形式：\n",
    "\n",
    "$$\n",
    "\\text{数} \\space =\n",
    "\\space \\underline{k \\cdot 10^{n-1}} + \n",
    "\\underline{m \\cdot 10^{n-2}} + \n",
    "\\cdots + \n",
    "\\underline{c \\cdot 10^{2}} + \n",
    "\\underline{b \\cdot 10^{1}} + \n",
    "\\underline{a \\cdot 10^{0}}\n",
    "$$"
   ]
  }
 ],
 "metadata": {
  "kernelspec": {
   "display_name": "Python 3 (ipykernel)",
   "language": "python",
   "name": "python3"
  },
  "language_info": {
   "codemirror_mode": {
    "name": "ipython",
    "version": 3
   },
   "file_extension": ".py",
   "mimetype": "text/x-python",
   "name": "python",
   "nbconvert_exporter": "python",
   "pygments_lexer": "ipython3",
   "version": "3.12.9"
  }
 },
 "nbformat": 4,
 "nbformat_minor": 5
}
