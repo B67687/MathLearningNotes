{
 "cells": [
  {
   "cell_type": "markdown",
   "id": "f386089c-9943-406f-b1de-789a0704b8eb",
   "metadata": {},
   "source": [
    "# Summary of Learnings\n",
    "\n",
    "-   **Summation Basics:**\n",
    "    -    Summation is repeated addition.\n",
    "    -    It follows the laws of addition.\n",
    "    -    Linear multiplication works with summation.\n",
    "    -    Multiplication of two summations results in a double summation.\n",
    "\n",
    "-   **Proving Summation Formulas:**\n",
    "    -    Mathematical induction is a common method.\n",
    "    -    Gauss's method provides a \"ground up\" approach for the sum of integers.\n",
    "    -    Geometric proofs offer visual and constructive derivations.\n",
    "\n",
    "-   **Reversing Summation:**\n",
    "    -    The general formula: $\\sum_{i=h}^{k} f(i) = \\sum_{j=k}^{h} f(h + k - j)$\n",
    "    -    This allows us to rewrite summations with reversed limits.\n",
    "\n",
    "-   **Mathematical Induction:**\n",
    "    -    It's a powerful tool for verification.\n",
    "    -    It can be \"tweaked\" to resemble derivation.\n",
    "    -    It has a recursive structure.\n",
    "\n",
    "-   **Proofs in General:**\n",
    "    -    Derivation proofs provide deeper \"why\" explanations.\n",
    "    -    Verification proofs confirm the validity of results.\n",
    "    -    Proofs by contradiction are powerful but verification-based.\n",
    "\n",
    "-   **Product Rule of Multiple Functions:**\n",
    "    -    It can be proven recursively using derivative rules.\n",
    "    -    It's a \"fully derivative proof using recursion.\"\n",
    "\n",
    "-   **Summation and Derivatives:**\n",
    "    -    There is not a direct correlation between the product rule, and summation.\n",
    "    -    Summations have other methods of manipulation."
   ]
  }
 ],
 "metadata": {
  "kernelspec": {
   "display_name": "Python 3 (ipykernel)",
   "language": "python",
   "name": "python3"
  },
  "language_info": {
   "codemirror_mode": {
    "name": "ipython",
    "version": 3
   },
   "file_extension": ".py",
   "mimetype": "text/x-python",
   "name": "python",
   "nbconvert_exporter": "python",
   "pygments_lexer": "ipython3",
   "version": "3.9.21"
  }
 },
 "nbformat": 4,
 "nbformat_minor": 5
}
