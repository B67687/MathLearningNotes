{
 "cells": [
  {
   "cell_type": "markdown",
   "id": "4034c80c-d3a4-4641-b840-79bb83e568d0",
   "metadata": {},
   "source": [
    "# Understanding the Epsilon-Delta Definition, Limits, Continuity, and Polynomials"
   ]
  },
  {
   "cell_type": "markdown",
   "id": "0403dabc-5d6a-40e4-9687-724afcf21aa7",
   "metadata": {},
   "source": [
    "## Introduction\n",
    "\n",
    "This notebook provides a comprehensive summary of the epsilon-delta definition of a limit, addressing key concepts, distinctions, and common challenges."
   ]
  },
  {
   "cell_type": "markdown",
   "id": "ec8d7a38-2fe3-4a10-a4db-a1acca1d0e67",
   "metadata": {
    "jp-MarkdownHeadingCollapsed": true
   },
   "source": [
    "# 1. The Epsilon-Delta (E.D.) Definition of a Limit"
   ]
  },
  {
   "cell_type": "markdown",
   "id": "42d4c0ea-7f22-4767-b6cf-bd789b6ad569",
   "metadata": {},
   "source": [
    "### The Epsilon-Delta Definition\n",
    "\n",
    "The epsilon-delta definition of a limit states:\n",
    "\n",
    "For a function $f(x)$ defined on an open interval containing $a$ (except possibly at $a$), the limit of $f(x)$ as $x$ approaches $a$ is $L$, written as:\n",
    "\n",
    "$$\n",
    "\\lim_{x \\to a} f(x) = L\n",
    "$$\n",
    "\n",
    "if and only if for every $\\epsilon > 0$, there exists a $\\delta > 0$ such that if $0 < |x - a| < \\delta$, then $|f(x) - L| < \\epsilon$."
   ]
  },
  {
   "cell_type": "markdown",
   "id": "9a8251f0-f76c-4f24-aae6-692a555f0665",
   "metadata": {},
   "source": [
    "## The Logic of the Definition\n",
    "\n",
    "The epsilon-delta definition formalizes the idea of a function approaching a limit. It states that for any desired level of closeness to the limit ($\\epsilon$), we can find a neighborhood around the input value ($a$) such that all points in that neighborhood (except possibly $a$ itself) map to function values within the desired closeness to the limit ($L$).\n",
    "\n",
    "In simpler terms:\n",
    "\n",
    "-   You give me a target accuracy ($\\epsilon$).\n",
    "-   I need to show you that I can make the function's output meet that accuracy by restricting the input to a small enough neighborhood around $a$ ($\\delta$).\n"
   ]
  },
  {
   "cell_type": "markdown",
   "id": "c7fa46bc-035b-4b1d-ac4c-390bcefd614c",
   "metadata": {},
   "source": [
    "## Why the Different Conditions for $\\epsilon$ and $\\delta$?\n",
    "- **$\\delta$: Input Condition: $0 < |x - a| < \\delta$**:\n",
    "  - The $0 < |x - a|$ ensures $x \\neq a$, because the limit is about the behavior of $f(x)$ as $x$ approaches $a$ from either side, not at $x = a$.\n",
    "  - This is necessary to exclude $f(a)$, which may not equal $L$ or may be undefined.\n",
    "- **$\\epsilon$: Output Condition: $|f(x) - L| < \\epsilon$**:\n",
    "  - We don’t need $0 < |f(x) - L|$ because the limit only requires $f(x)$ to be close to $L$, and $f(x) = L$ (i.e., $|f(x) - L| = 0$) is acceptable.\n",
    "  - The limit doesn’t evaluate $f$ at $x = a$, but in the interval $0 < |x - a| < \\delta$, $f(x)$ may equal $L$ at some points, and that’s allowed."
   ]
  },
  {
   "cell_type": "markdown",
   "id": "61c232e5-56a0-475c-937b-b3b35b861b8e",
   "metadata": {},
   "source": [
    "## What does this imply for finding the limit:\n",
    "- **$ L $: Existence of the Limit**:\n",
    "    - If the limit exists, for any $\\epsilon > 0$, we can find a $\\delta > 0$ that satisfies the condition. If there exists some $\\epsilon > 0$ for which no $\\delta$ works, the limit does not exist."
   ]
  },
  {
   "cell_type": "markdown",
   "id": "a0c78804-1d6c-48bf-8a82-6154b3c872f3",
   "metadata": {},
   "source": [
    "### Why Is $0 < |f(x) - L| < \\epsilon$ Too Restrictive?\n",
    "- **Over-Restricting the Output**:\n",
    "  - Requiring $0 < |f(x) - L| < \\epsilon$ means $f(x) \\neq L$ for all $x$ in $0 < |x - a| < \\delta$, which restricts the overall tendency of $f(x)$.\n",
    "  - This invalidates functions that oscillate toward $L$, such as $f(x) = x \\sin(1/x)$ at $x = 0$, which equals $0$ at some points but still tends to $0$.\n",
    "\n",
    "- **Examples**:\n",
    "  - **Constant Function**: $f(x) = 2$, $\\lim_{x \\to 1} 2 = 2$. $|f(x) - 2| = 0$, so $0 < |f(x) - L|$ fails.\n",
    "  - **Oscillatory Function**: $f(x) = x \\sin(1/x)$ at $x = 0$. At $x = 1/(\\pi k)$, $f(x) = 0$, so $|f(x) - 0| = 0$, violating $0 < |f(x) - L|$, but the limit is $0$.\n",
    "  - **Polynomial**: $f(x) = (x - 1)^2$ at $x = 2$, limit is $1$. At $x = 0$, $f(0) = 1$, so $|f(0) - 1| = 0$, violating $0 < |f(x) - L|$.\n",
    "\n",
    "- **Conclusion**: The standard condition $|f(x) - L| < \\epsilon$ allows $f(x) = L$, capturing the true tendency of $f(x)$ without invalidating functions that oscillate or hit $L$ near $a$."
   ]
  },
  {
   "cell_type": "markdown",
   "id": "ba74f3d2-17a4-417c-90d4-421b975d2503",
   "metadata": {},
   "source": [
    "## Real-Life Analogy: $\\sin(1/x)$ and Quantum Superposition\n",
    "- $\\sin(1/x)$ oscillates between $-1$ and $1$ as $x \\to 0$, so the limit doesn’t exist.\n",
    "- Analogized this to quantum superposition, where a system exists in multiple states simultaneously.\n",
    "- In calculus, however, a limit requires convergence to a single value, so $\\sin(1/x)$ has no limit at $x = 0$."
   ]
  },
  {
   "cell_type": "markdown",
   "id": "a3e82be0-e664-4fd0-8da9-0a565bd445f4",
   "metadata": {
    "jp-MarkdownHeadingCollapsed": true
   },
   "source": [
    "# 2. Logics of the Definition"
   ]
  },
  {
   "cell_type": "markdown",
   "id": "e2e99cc4-4c23-4b76-91de-7adb2676c36f",
   "metadata": {},
   "source": [
    "## Why the E.D. Definition Is Unidirectional\n",
    "- **Unidirectional Implication**:\n",
    "  - The e.d. definition uses a unidirectional implication: $(0 < |x - a| < \\delta) \\implies (|f(x) - L| < \\epsilon)$.\n",
    "  - This means: if $x$ is close to $a$, then $f(x)$ must be close to $L$. It focuses on the behavior of $f(x)$ when $x$ is near $a$.\n",
    "- **Why Not Bidirectional ($\\iff$)?**:\n",
    "  - A bidirectional condition would require: $(0 < |x - a| < \\delta) \\iff (|f(x) - L| < \\epsilon)$.\n",
    "  - The converse ($|f(x) - L| < \\epsilon \\implies 0 < |x - a| < \\delta$) means all $x$ where $|f(x) - L| < \\epsilon$ must have $0 < |x - a| < \\delta$.\n",
    "  - **Example**: For $f(x) = x \\sin(1/x)$ at $x = 0$, $\\epsilon = 0.01$, $\\delta = 0.01$:\n",
    "    - $|x \\sin(1/x)| < 0.01$ holds for $|x| < 0.01$, but also at $x = 1/(\\pi k)$, e.g., $x = 1/\\pi \\approx 0.318$.\n",
    "    - The converse fails because $x = 1/\\pi$ has $|f(x)| = 0 < 0.01$, but $0 < |x| < 0.01$ is false.\n",
    "  - **Problem**: The converse is too restrictive—it requires all $x$ where $f(x) \\approx L$ to be near $a$, but functions can be close to $L$ far from $a$.\n",
    "- **Conclusion**: The unidirectional implication ensures the limit only cares about $x$ values near $a$, making it general enough for all functions, including oscillatory ones."
   ]
  },
  {
   "cell_type": "markdown",
   "id": "81cfced8-2cdc-4084-b9ec-0d6ef560ca00",
   "metadata": {},
   "source": [
    "## Can We Replace \"Whenever\" with $\\land$ to Determine the Limit?\n",
    "- **Proposed Statement**: Replace \"whenever\" in $|x^2 - 0| < \\epsilon$ whenever $0 < |x - 0| < \\delta$ with $\\land$, so it becomes $(|x^2| < \\epsilon) \\land (0 < |x| < \\delta)$.\n",
    "- **Proposed Conclusion**:\n",
    "  - If the statement is true, the limit exists.\n",
    "  - If the statement is false, the limit does not exist (DNE).\n",
    "- **Why This Doesn’t Work**:\n",
    "  - The e.d. definition uses an implication: $(0 < |x| < \\delta) \\implies (|x^2| < \\epsilon)$, which must hold for all $x$, and there must exist a $\\delta$ for every $\\epsilon$.\n",
    "  - Using $\\land$ creates a conjunction for a specific $x$. The statement’s truth for one $x$ doesn’t tell us if the implication holds for all $x$.\n",
    "  - **Example**: For $f(x) = x^2$, $\\epsilon = 0.01$, $\\delta = 0.1$:\n",
    "    - At $x = 0.05$: $(0.05^2 < 0.01) \\land (0 < 0.05 < 0.1)$ is true.\n",
    "    - At $x = 0.2$: $(0.2^2 < 0.01) \\land (0 < 0.2 < 0.1)$ is false (because $0.2 < 0.1$ is false).\n",
    "    - The truth value depends on $x$, but the e.d. definition requires the implication to hold for all $x$ in the interval.\n",
    "  - **Conclusion**: Evaluating the $\\land$ statement for specific $x$ values doesn’t determine the limit’s existence. We must check the implication for all $x$ and ensure a $\\delta$ exists for every $\\epsilon$.\n"
   ]
  },
  {
   "cell_type": "markdown",
   "id": "9a8d965c-84eb-4bb8-ae85-b4cef998b3f3",
   "metadata": {},
   "source": [
    "## Writing the E.D. Definition in Logical Form\n",
    "- **Statement**: $|x^2 - 0| < \\epsilon$ whenever $0 < |x - 0| < \\delta$ (for $\\lim_{x \\to 0} x^2 = 0$).\n",
    "- **Implication**: The \"whenever\" means an implication:\n",
    "  $\n",
    "  (0 < |x| < \\delta) \\implies (|x^2| < \\epsilon).\n",
    "  $\n",
    "- **For All $x$**: The implication must hold for all $x$:\n",
    "  $\n",
    "  \\forall x, (0 < |x| < \\delta) \\implies (|x^2| < \\epsilon).\n",
    "  $\n",
    "- **Full E.D. Definition**: Add the quantifiers for $\\epsilon$ and $\\delta$:\n",
    "  $\n",
    "  \\forall \\epsilon > 0, \\exists \\delta > 0, \\forall x, (0 < |x| < \\delta) \\implies (|x^2| < \\epsilon).\n",
    "  $\n",
    "- **Limit Statement**:\n",
    "  $\n",
    "  \\lim_{x \\to 0} x^2 = 0 \\iff \\forall \\epsilon > 0, \\exists \\delta > 0, \\forall x, (0 < |x| < \\delta) \\implies (|x^2| < \\epsilon).\n",
    "  $\n",
    "- **Verification**: For $f(x) = x^2$, choose $\\delta = \\sqrt{\\epsilon}$. The implication holds for all $x$, so the limit is $0$."
   ]
  },
  {
   "cell_type": "markdown",
   "id": "1d4c4559-3584-4d4a-a53f-8c14c739b54c",
   "metadata": {},
   "source": [
    "## Preserving the Order of the Original Statement\n",
    "- **Original Order**: The statement $|x^2 - 0| < \\epsilon$ whenever $0 < |x - 0| < \\delta$ has the input condition ($0 < |x| < \\delta$) leading to the output condition ($|x^2| < \\epsilon$).\n",
    "- **Logical Form**: The implication $(0 < |x| < \\delta) \\implies (|x^2| < \\epsilon)$ preserves this order:\n",
    "  - The \"if\" part ($0 < |x| < \\delta$) comes first.\n",
    "  - The \"then\" part ($|x^2| < \\epsilon$) comes second.\n",
    "- **Quantifiers**: The $\\forall \\epsilon > 0, \\exists \\delta > 0, \\forall x$ are added before the implication to provide context, but they don’t change the order of the core \"whenever\" relationship."
   ]
  },
  {
   "cell_type": "markdown",
   "id": "53caa605-a777-4de2-a7d8-25454d38632a",
   "metadata": {},
   "source": [
    "## Does the Implication Indicate Direction of Causation?\n",
    "- **Implication as Logical Dependency**:\n",
    "  - The implication $(0 < |x| < \\delta) \\implies (|x^2| < \\epsilon)$ means: if the input condition is true, the output condition must be true.\n",
    "  - In this context, it’s a form of \"mathematical causation\": the input constraint ($x$ being close to $0$) forces the output ($x^2$ being close to $0$).\n",
    "  - However, in logic, $\\implies$ is about truth values, not physical causation: it ensures that whenever the input condition holds, the output condition holds.\n",
    "- **Direction**: The arrow $\\implies$ indicates the direction of this dependency: from the input to the output, matching the \"whenever\" in the original statement."
   ]
  },
  {
   "cell_type": "markdown",
   "id": "818e9da5-bcfa-40f8-83c6-2b5f76cebac8",
   "metadata": {
    "jp-MarkdownHeadingCollapsed": true
   },
   "source": [
    "## Does $b$ Being True Imply $a$ Is True?\n",
    "- **Question**: In $a \\implies b$, if $b$ is true, does that mean $a$ is true?\n",
    "- **Answer**: No.\n",
    "- **Truth Table for Implication**:\n",
    "  \\\n",
    "  \\begin{array}{|c|c|c|}\n",
    "  \\hline\n",
    "  a & b & a \\implies b \\\\\n",
    "  \\hline\n",
    "  \\text{True} & \\text{True} & \\text{True} \\\\\n",
    "  \\text{True} & \\text{False} & \\text{False} \\\\\n",
    "  \\text{False} & \\text{True} & \\text{True} \\\\\n",
    "  \\text{False} & \\text{False} & \\text{True} \\\\\n",
    "  \\hline\n",
    "  \\end{array}\n",
    "  \n",
    "- **Explanation**:\n",
    "  - Let $a$: $0 < |x| < \\delta$, $b$: $|x^2| < \\epsilon$.\n",
    "  - The implication $(0 < |x| < \\delta) \\implies (|x^2| < \\epsilon)$ means: if $a$ is true, then $b$ must be true.\n",
    "  - **When $a$ is False**:\n",
    "    - If $a$ is false (e.g., $|x| \\geq \\delta$ or $x = 0$), the implication is true regardless of $b$.\n",
    "    - This is called \"vacuous truth\": since the premise $a$ isn’t satisfied, the implication can’t be violated.\n",
    "    - Example: For $\\epsilon = 0.01$, $\\delta = 0.01$:\n",
    "      - At $x = 0.05$: $a$: $0 < 0.05 < 0.01$ (False), $b$: $|0.05^2| = 0.0025 < 0.01$ (True). Implication: False $\\implies$ True, which is True.\n",
    "      - At $x = 0.2$: $a$: $0 < 0.2 < 0.01$ (False), $b$: $|0.2^2| = 0.04 < 0.01$ (False). Implication: False $\\implies$ False, which is True.\n",
    "  - **Why $a$ Being False Implies Both $b$ True and False**:\n",
    "    - When $a$ is false, the implication $a \\implies b$ is true by definition (vacuous truth), because the premise isn’t satisfied, and the implication can’t be violated.\n",
    "    - This isn’t a contradiction: it reflects that the e.d. definition only cares about $x$ values where $a$ is true.\n",
    "  - **Does $b$ Imply $a$?**:\n",
    "    - If $b$ is true (e.g., $|x^2| < \\epsilon$), $a$ doesn’t have to be true.\n",
    "    - From the truth table: when $b$ is true, $a$ can be true (row 1) or false (row 3).\n",
    "    - Example: At $x = 0.05$, $|x^2| < 0.01$ is true, but $0 < 0.05 < 0.01$ is false.\n",
    "- **Conclusion**: $b$ being true doesn’t guarantee $a$ is true. The implication is unidirectional, and the converse ($b \\implies a$) doesn’t hold."
   ]
  },
  {
   "cell_type": "markdown",
   "id": "4a416c5a-5861-4441-920b-786b187c9ff5",
   "metadata": {
    "jp-MarkdownHeadingCollapsed": true
   },
   "source": [
    "# 3. Proving a Limit Using the Epsilon-Delta Definition"
   ]
  },
  {
   "cell_type": "markdown",
   "id": "de424a52-5be0-4041-acf1-20450a32b869",
   "metadata": {},
   "source": [
    "To prove that $\\lim_{x \\to a} f(x) = L$ using the epsilon-delta definition, you must:\n",
    "\n",
    "1.  **State the definition:** Write out the formal epsilon-delta definition.\n",
    "2.  **Start with $\\epsilon$:** Begin by taking an arbitrary $\\epsilon > 0$.\n",
    "3.  **Find $\\delta$:** The core of the proof is to find a $\\delta > 0$ (which will usually depend on $\\epsilon$) that satisfies the definition. This often involves algebraic manipulation of the inequality $|f(x) - L| < \\epsilon$.\n",
    "4.  **Show the implication:** Show that if $0 < |x - a| < \\delta$, then $|f(x) - L| < \\epsilon$.\n",
    "5.  **Conclude:** State that you have proven the limit.\n"
   ]
  },
  {
   "cell_type": "markdown",
   "id": "384fc6d5-36e7-4ad0-a045-596c29c257bc",
   "metadata": {
    "jp-MarkdownHeadingCollapsed": true
   },
   "source": [
    "# Examples"
   ]
  },
  {
   "cell_type": "markdown",
   "id": "e4437006-b7a2-48f3-abfd-67ac7dc3dfc2",
   "metadata": {},
   "source": [
    "## Polynomial"
   ]
  },
  {
   "cell_type": "markdown",
   "id": "fc36a893-b73e-475b-a2f2-d3a7ceef4385",
   "metadata": {},
   "source": [
    "### $\\lim_{x \\to 1} (2x + 1) = 3$\n",
    "- Need: If $0 < |x - 1| < \\delta$, then $|(2x + 1) - 3| < \\epsilon$.\n",
    "- Simplify: $|(2x + 1) - 3| = 2|x - 1|$.\n",
    "- Require: $2|x - 1| < \\epsilon \\implies |x - 1| < \\epsilon/2$.\n",
    "- Choose $\\delta = \\epsilon/2$.\n",
    "- **Stopping Here**: The transformation directly gives a $\\delta$ for any $\\epsilon > 0$, so the limit exists and is $3$. The relationship between $\\epsilon$ and $\\delta$ is not circular—it’s a direct functional dependence: $\\delta$ is determined by $\\epsilon$."
   ]
  },
  {
   "cell_type": "markdown",
   "id": "9cf38f46-d678-450c-88f7-0fbc32c81703",
   "metadata": {},
   "source": [
    "### $\\lim_{x \\to 2} x^2 = 4$\n",
    "\n",
    "1.  **Definition:** We want to show that for every $\\epsilon > 0$, there exists a $\\delta > 0$ such that if $0 < |x - 2| < \\delta$, then $|x^2 - 4| < \\epsilon$.\n",
    "2.  **Start with $\\epsilon$:** Let $\\epsilon > 0$ be given.\n",
    "3.  **Find $\\delta$:**\n",
    "    -   We have $|x^2 - 4| = |(x - 2)(x + 2)| = |x - 2| |x + 2|$.\n",
    "    -   Assume $|x - 2| < 1$. Then $-1 < x - 2 < 1$, so $3 < x < 5$, and $5 < x + 2 < 7$. Thus, $|x + 2| < 7$.\n",
    "    -   We want $|x^2 - 4| < \\epsilon$, so $|x - 2| |x + 2| < \\epsilon$. Since $|x + 2| < 7$, we have $|x - 2| |x + 2| < 7|x - 2|$.\n",
    "    -   If we choose $|x - 2| < \\frac{\\epsilon}{7}$, then $7|x - 2| < \\epsilon$.\n",
    "    -   Choose $\\delta = \\min\\{1, \\frac{\\epsilon}{7}\\}$.\n",
    "4.  **Show the implication:**\n",
    "    -   Suppose $0 < |x - 2| < \\delta$.\n",
    "    -   Since $\\delta \\le 1$, we have $|x - 2| < 1$, so $|x + 2| < 7$.\n",
    "    -   Since $\\delta \\le \\frac{\\epsilon}{7}$, we have $|x - 2| < \\frac{\\epsilon}{7}$.\n",
    "    -   Therefore, $|x^2 - 4| = |x - 2| |x + 2| < \\frac{\\epsilon}{7} \\cdot 7 = \\epsilon$.\n",
    "5.  **Conclusion:** We have shown that for every $\\epsilon > 0$, there exists a $\\delta > 0$ such that if $0 < |x - 2| < \\delta$, then $|x^2 - 4| < \\epsilon$. Therefore, $\\lim_{x \\to 2} x^2 = 4$."
   ]
  },
  {
   "cell_type": "markdown",
   "id": "5f67bf31-a2b5-4ee2-9713-4ff618619abf",
   "metadata": {},
   "source": [
    "### $\\lim_{x \\to 1} x^4 = 1$\n",
    "\n",
    "1.  **Definition:** We want to show that for every $\\epsilon > 0$, there exists a $\\delta > 0$ such that if $0 < |x - 1| < \\delta$, then $|x^4 - 1| < \\epsilon$.\n",
    "\n",
    "2.  **Start with $\\epsilon$:** Let $\\epsilon > 0$ be given.\n",
    "\n",
    "3.  **Find $\\delta$:**\n",
    "    - We have $|x^4 - 1| = |(x^2 - 1)(x^2 + 1)| = |(x - 1)(x + 1)(x^2 + 1)| = |x - 1| |x + 1| |x^2 + 1|$.\n",
    "    - Assume $|x - 1| < 1$. Then $-1 < x - 1 < 1$, so $0 < x < 2$.\n",
    "    - Thus, $1 < x + 1 < 3$, and $1 < x^2 < 4$, so $2 < x^2 + 1 < 5$. Therefore, $|x + 1| < 3$ and $|x^2 + 1| < 5$.\n",
    "    - We want $|x^4 - 1| < \\epsilon$, so $|x - 1| |x + 1| |x^2 + 1| < \\epsilon$. Since $|x + 1| < 3$ and $|x^2 + 1| < 5$, we have $|x - 1| |x + 1| |x^2 + 1| < 15|x - 1|$.\n",
    "    - If we choose $|x - 1| < \\frac{\\epsilon}{15}$, then $15|x - 1| < \\epsilon$.\n",
    "    - Choose $\\delta = \\min\\{1, \\frac{\\epsilon}{15}\\}$.\n",
    "\n",
    "4.  **Show the implication:**\n",
    "    - Suppose $0 < |x - 1| < \\delta$.\n",
    "    - Since $\\delta \\le 1$, we have $|x - 1| < 1$, so $|x + 1| < 3$ and $|x^2 + 1| < 5$.\n",
    "    - Since $\\delta \\le \\frac{\\epsilon}{15}$, we have $|x - 1| < \\frac{\\epsilon}{15}$.\n",
    "    - Therefore, $|x^4 - 1| = |x - 1| |x + 1| |x^2 + 1| < \\frac{\\epsilon}{15} \\cdot 3 \\cdot 5 = \\epsilon$.\n",
    "\n",
    "5.  **Conclusion:** We have shown that for every $\\epsilon > 0$, there exists a $\\delta > 0$ such that if $0 < |x - 1| < \\delta$, then $|x^4 - 1| < \\epsilon$. Therefore, $\\lim_{x \\to 1} x^4 = 1$."
   ]
  },
  {
   "cell_type": "markdown",
   "id": "af9de6f8-7174-4164-8f2f-caecc7e84a88",
   "metadata": {
    "jp-MarkdownHeadingCollapsed": true
   },
   "source": [
    "## Normal Polynomial\n",
    "\n",
    "<img src=\"epsilon-delta-proof-normal-polynomial.png\" width=430>"
   ]
  },
  {
   "cell_type": "markdown",
   "id": "c141ac7c-13d5-4b18-abe1-0e22d5d5fbca",
   "metadata": {},
   "source": [
    "## Multi-Factored polynomial\n",
    "<img src=\"epsilon-delta-proof-multi-factored-polynomial-normal-approach.png\" width=430>"
   ]
  },
  {
   "cell_type": "markdown",
   "id": "d47e4fda-1b9d-480a-b559-92999902f218",
   "metadata": {},
   "source": [
    "## Input Positive Approach to Output Negative Infinity\n",
    "<img src=\"epsilon-delta-proof-positive-approach-result-negative-infinity.jpg\" width=430>"
   ]
  },
  {
   "cell_type": "markdown",
   "id": "f2f36938-3e29-4305-8471-1b4bfb4356db",
   "metadata": {},
   "source": [
    "## Cube Root Rational Expression, Input Infinity\n",
    "<img src=\"epsilon-delta-proof-cuberoot-rational-expression-input-approach-infinity.png\" width=430>"
   ]
  },
  {
   "cell_type": "markdown",
   "id": "b3f894fa-963d-4619-bfb5-23f873d8c581",
   "metadata": {
    "jp-MarkdownHeadingCollapsed": true
   },
   "source": [
    "## Oscillatory"
   ]
  },
  {
   "cell_type": "markdown",
   "id": "01aaad12-2859-4be6-98b8-9d85caf333f5",
   "metadata": {},
   "source": [
    "\n",
    "### $\\lim_{x \\to 0} \\sin(1/x) = 0$\n",
    "- Need: If $0 < |x| < \\delta$, then $|\\sin(1/x)| < \\epsilon$.\n",
    "- For $\\epsilon = 0.5$, $\\sin(1/x)$ oscillates between $-1$ and $1$ in any interval $(0, \\delta)$.\n",
    "- Since $|\\sin(1/x)| = 1 > 0.5$ at some points, no $\\delta$ works.\n",
    "- The limit does not exist."
   ]
  },
  {
   "cell_type": "markdown",
   "id": "83858ebf-c706-4a57-a412-c9c52c9ef9dd",
   "metadata": {},
   "source": [
    "---"
   ]
  },
  {
   "cell_type": "markdown",
   "id": "9387d2d7-e59a-4ace-bf98-3d512fdee672",
   "metadata": {},
   "source": [
    "## Common Challenges and Misconceptions\n",
    "\n",
    "-   **Confusing $\\epsilon$ and $\\delta$:** $\\epsilon$ is related to the function's output, while $\\delta$ is related to the input.\n",
    "-   **Assuming $\\epsilon = 0$ or $\\delta = 0$:** Both $\\epsilon$ and $\\delta$ must be strictly positive.\n",
    "-   **Not showing the dependence of $\\delta$ on $\\epsilon$:** A proper proof must demonstrate how $\\delta$ is chosen based on $\\epsilon$.\n",
    "-   **Difficulty in finding $\\delta$:** Finding the appropriate $\\delta$ often requires algebraic manipulation and a good understanding of inequalities.\n",
    "-   **Thinking the limit is about what happens *at* a point:** The limit is about the behavior of a function *near* a point."
   ]
  },
  {
   "cell_type": "markdown",
   "id": "56160a44-3e86-4389-8b54-2d483504c89a",
   "metadata": {},
   "source": [
    "## The Importance of Bounding\n",
    "\n",
    "-   For functions more complex than linear ones, it's generally not possible to avoid some form of restriction or bounding argument.\n",
    "-   This is because many functions have terms whose values depend on $x$.\n",
    "-   To show that $|f(x) - L|$ can be made arbitrarily small, these terms need to be controlled.\n",
    "-   The \"assume $|x - a| < c$\" step is a way to put a limit on how large these terms can be."
   ]
  },
  {
   "cell_type": "markdown",
   "id": "95350436-3da0-4a3f-86cc-684b328dfda7",
   "metadata": {},
   "source": [
    "## Choosing the Restriction Constant\n",
    "\n",
    "-   The choice of the constant (e.g., 1) in the restriction $|x - a| < \\text{constant}$ is not unique.\n",
    "-   It's a matter of strategy and convenience.\n",
    "-   The goal is to find *a* $\\delta$ that works, not necessarily the largest possible $\\delta$.\n",
    "-   Common choices like 1 often simplify calculations.\n",
    "-   Other values would also lead to a valid proof."
   ]
  },
  {
   "cell_type": "markdown",
   "id": "7ec9777e-c053-4c1d-9706-4c0a424a26b3",
   "metadata": {},
   "source": [
    "## Bounding and Absolute Values\n",
    "\n",
    "**Key Idea:** When you have an inequality of the form $a < x < b$, you can bound the absolute value of $x$, $|x|$, by the maximum of the absolute values of $a$ and $b$.\n",
    "\n",
    "**In other words:** $|x| < \\max(|a|, |b|)$.\n",
    "\n",
    "**Example:**\n",
    "\n",
    "We have $-3 < x + 1 < -1$.\n",
    "\n",
    "To find a bound for $|x + 1|$, we take the absolute values of -3 and -1, which are 3 and 1, respectively.\n",
    "\n",
    "The maximum of these is 3.\n",
    "\n",
    "Therefore, $|x + 1| < 3$.\n",
    "\n",
    "**Explanation:**\n",
    "\n",
    "The inequality $-3 < x + 1 < -1$ means that $x + 1$ lies between -3 and -1 on the number line. The distance of $x + 1$ from zero is therefore less than the distance of -3 from zero.\n"
   ]
  },
  {
   "cell_type": "markdown",
   "id": "13929a85-46d2-4252-b63b-43d1f384da9b",
   "metadata": {
    "jp-MarkdownHeadingCollapsed": true
   },
   "source": [
    "# 4. Generalization of the Epsilon-Delta Restriction"
   ]
  },
  {
   "cell_type": "markdown",
   "id": "3a61f730-3766-41d7-a20a-ecccd3a4cfbc",
   "metadata": {},
   "source": [
    "###  The Standard Approach\n",
    "\n",
    "In many epsilon-delta proofs, particularly when dealing with polynomials or rational functions, a common step involves introducing a temporary restriction of the form:\n",
    "\n",
    "$$\n",
    "|x - a| < 1\n",
    "$$\n",
    "\n",
    "where 'a' is the point at which the limit is being evaluated. This restriction is used to bound terms in the expression $|f(x) - L|$ that depend on 'x'."
   ]
  },
  {
   "cell_type": "markdown",
   "id": "0fb9c5e6-11ca-4e81-83a3-5ac55e559235",
   "metadata": {},
   "source": [
    "### The Generalized Approach\n",
    "\n",
    "A more general approach is to use an arbitrary positive constant 'c' instead of 1:\n",
    "\n",
    "$$\n",
    "|x - a| < c\n",
    "$$\n",
    "\n",
    "where $ c \\in \\mathbb R,  c > 0 $"
   ]
  },
  {
   "cell_type": "markdown",
   "id": "1beef80c-f380-4843-83b7-68b70700d936",
   "metadata": {},
   "source": [
    "### Why This Generalization Is Valid\n",
    "\n",
    "1.  **Arbitrary Choice:** The epsilon-delta definition requires us to show that for any given ε > 0, we can find a δ > 0. The specific value of the constant used in the temporary restriction does not affect the validity of the proof, as long as it's a positive number.\n",
    "\n",
    "2.  **Flexibility:** Using 'c' provides more flexibility in manipulating the inequalities and finding a suitable δ.  The choice of 'c' can be made to simplify the algebra in a particular proof.\n",
    "\n",
    "3.  **Correctness:** If a δ is found using the restriction |x - a| < c, it can always be shown that this δ satisfies the epsilon-delta definition without relying on the restriction.  The restriction is merely a tool to help us find δ.\n"
   ]
  },
  {
   "cell_type": "markdown",
   "id": "828b9738-690b-4d57-8120-1016fc1c530f",
   "metadata": {},
   "source": [
    "### Acceptance of the Generalized Approach\n",
    "\n",
    "-   **Mathematically Correct:** This approach is mathematically correct. The constant 'c' is an arbitrary positive number, and the logic of the epsilon-delta proof remains valid.\n",
    "-   **Accepted Alternative:** This is an accepted alternative.  Mathematicians and textbooks often use '1' for simplicity, but using a general 'c' is equally valid and demonstrates a deeper understanding of the proof technique.\n",
    "\n",
    "### Conclusion\n",
    "\n",
    "Using a general constant 'c' in the temporary restriction of an epsilon-delta proof is a valid and more general approach. It provides more flexibility and emphasizes that the specific value of the constant is not crucial to the proof's correctness.\n"
   ]
  },
  {
   "cell_type": "markdown",
   "id": "6cb183a7-ec8f-4e4d-8c84-a28891b37137",
   "metadata": {
    "jp-MarkdownHeadingCollapsed": true
   },
   "source": [
    "# 5. Continuity"
   ]
  },
  {
   "cell_type": "markdown",
   "id": "a112b2c8-2ac6-4313-a648-23e0d854e7c7",
   "metadata": {},
   "source": [
    "### Limits Are More Fundamental Than Continuity\n",
    "- **Limits**: The foundation of calculus, used to define continuity, derivatives, and integrals.\n",
    "- **Continuity**: A function $f$ is continuous at $x = a$ if:\n",
    "  1. $\\lim_{x \\to a} f(x)$ exists,\n",
    "  2. $f(a)$ is defined,\n",
    "  3. $\\lim_{x \\to a} f(x) = f(a)$.\n",
    "- The e.d. definition is used to verify the limit in the first condition, making limits more fundamental."
   ]
  },
  {
   "cell_type": "markdown",
   "id": "7858bda3-1cd1-4a25-8b96-bc7648c73457",
   "metadata": {},
   "source": [
    "\n",
    "### Proving Continuity Using the E.D. Definition\n",
    "To prove a function is continuous at a point, we need:\n",
    "- The limit to exist (via the e.d. definition).\n",
    "- The function to be defined at the point.\n",
    "- The limit to equal the function’s value at the point.\n"
   ]
  },
  {
   "cell_type": "markdown",
   "id": "9c8ab55d-39a3-4425-b2e2-1b1d8519b0da",
   "metadata": {
    "jp-MarkdownHeadingCollapsed": true
   },
   "source": [
    "### Polynomials: Definition vs. Continuity\n",
    "- **Definition of Polynomials**:\n",
    "  - A polynomial is a function of the form $p(x) = a_n x^n + \\cdots + a_1 x + a_0$, where $a_i$ are constants and $n$ is a non-negative integer.\n",
    "  - This is a purely algebraic definition—no mention of limits or continuity.\n",
    "- **Continuity of Polynomials**:\n",
    "  - Polynomials are continuous everywhere, but this is a property we *prove*, not part of their definition.\n",
    "  - **Proof Process**:\n",
    "    1. Use the e.d. definition to show $\\lim_{x \\to a} p(x) = p(a)$ for any point $a$.\n",
    "    2. Note that $p(a)$ is always defined (polynomials are defined everywhere).\n",
    "    3. Since the limit equals $p(a)$, the polynomial is continuous at $a$.\n",
    "  - This holds for all $a$, so polynomials are continuous on their entire domain (all real numbers).\n"
   ]
  }
 ],
 "metadata": {
  "kernelspec": {
   "display_name": "Python 3 (ipykernel)",
   "language": "python",
   "name": "python3"
  },
  "language_info": {
   "codemirror_mode": {
    "name": "ipython",
    "version": 3
   },
   "file_extension": ".py",
   "mimetype": "text/x-python",
   "name": "python",
   "nbconvert_exporter": "python",
   "pygments_lexer": "ipython3",
   "version": "3.12.9"
  }
 },
 "nbformat": 4,
 "nbformat_minor": 5
}
