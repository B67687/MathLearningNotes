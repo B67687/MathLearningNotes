{
 "cells": [
  {
   "cell_type": "markdown",
   "id": "43225bb6-f175-4c2e-96e0-a29ebcf9cebe",
   "metadata": {},
   "source": [
    "# My Learning Summary: Logarithms, Exponents, and Reality"
   ]
  },
  {
   "cell_type": "markdown",
   "id": "e62d5d94-de78-4889-ae37-a9993f31a9fd",
   "metadata": {},
   "source": [
    "## Starting Point: Logarithms and Limits\n",
    "- **Observation**: Logarithms of small numbers (e.g., $\\ln(0.01) = -4.6$) give big negative numbers because they’re exponents, and small numbers come from negative exponents (e.g., $e^{-4.6} \\approx 0.01$).\n",
    "- **Limit Question**: Solving $\\lim_{x \\to 0^-} \\ln(-x)$.\n",
    "  - As $x \\to 0^-$, $-x \\to 0^+$, so $\\ln(-x) \\to -\\infty$, not 0 as I first thought.\n",
    "  - Why? $e^p$ never hits 0; $p$ must dive to $-\\infty$.\n",
    "- **New Insight**: For $\\lim_{x \\to 0^+} \\ln(-x)$, $-x$ becomes negative (e.g., $-0.1$ when $x = 0.1$), and $\\ln$ requires a positive argument. Since it’s undefined for $x > 0$, the limit \"does not exist\". I thought \"undefined,\" but \"does not exist\" is the correct limit term due to domain issues.\n",
    "- **New Example**: For $h(z) = \\ln|z|$, evaluate limits:\n",
    "  - (a) $\\lim_{z \\to 0^-} \\ln|z|$: $|z| \\to 0^+$, so $\\ln|z| \\to -\\infty$.\n",
    "  - (b) $\\lim_{z \\to 0^+} \\ln|z|$: $|z| \\to 0^+$, so $\\ln|z| \\to -\\infty$.\n",
    "  - (c) $\\lim_{z \\to -3} \\ln|z|$: $|z| = |-3| = 3$, so $\\ln|z| = \\ln 3 \\approx 1.0986$.\n",
    "  - **Note**: (a) and (b) both $\\to -\\infty$, so the two-sided $\\lim_{z \\to 0} \\ln|z|$ is $-\\infty$ (asymptotic behavior), while (c) is finite.\n"
   ]
  },
  {
   "cell_type": "markdown",
   "id": "3ac20c95-bda8-4533-b6d7-4314b9ae6470",
   "metadata": {},
   "source": [
    "## Exponents: Why $a^0 = 1$?\n",
    "- **Intuition**: If exponents are \"multiples,\" $a^0$ = \"0 multiples\" = 0?\n",
    "- **Test**: $5^2 / 5^2 = 5^{2-2} = 5^0 = 1$, not 0. Rules ($a^m / a^n = a^{m-n}$) need $a^0 = 1$.\n",
    "- **Alternative**: If $a^0 = 0$, $5^1 \\cdot 5^0 = 5 \\cdot 0 = 0$, but $5^{1+0} = 5$. Inconsistent."
   ]
  },
  {
   "cell_type": "markdown",
   "id": "57bbbd69-0eb3-4def-91c6-b6e9c746d7a4",
   "metadata": {},
   "source": [
    "## Philosophical Insight\n",
    "- **Nothingness (0)**: Non-existence. Can’t start from it—$0 \\cdot a = 0$, no change possible.\n",
    "- **Undifferentiated State (1)**: The unit, a starting point with potential.\n",
    "- **Reality**: Can’t begin from nothing (paradox: how does nothing spark something?). Must be eternal, no start/end."
   ]
  },
  {
   "cell_type": "markdown",
   "id": "6469abf9-bb3f-4114-b40e-eff8fbd952ae",
   "metadata": {},
   "source": [
    "## New Learning: Vertical Asymptotes\n",
    "- **Definition**: Vertical asymptotes occur where a function is undefined, typically when the denominator is zero (e.g., rational functions like $f(x)$ or $g(x)$).\n",
    "- **Example 1**: For $f(x) = \\frac{7x}{(10 - 3x)^4}$, set denominator to zero: $(10 - 3x)^4 = 0$ $\\to$ $10 - 3x = 0$ $\\to$ $x = \\frac{10}{3}$. Vertical asymptote at $x = \\frac{10}{3}$.\n",
    "- **Example 2**: For $g(x) = \\frac{8}{(x + 5)(x - 9)}$, set denominator to zero: $(x + 5)(x - 9) = 0$ $\\to$ $x = -5$ or $x = 9$. Vertical asymptotes at $x = -5$ and $x = 9$.\n",
    "- **New Insight: Even vs. Odd Powers**:\n",
    "  - For $g(x) = \\frac{-4}{(x - 1)^2}$:\n",
    "    - (a) $\\lim_{x \\to 1^-} g(x)$: $(x - 1)^2 \\to 0^+$, so $g(x) \\to \\frac{-4}{0^+} = -\\infty$.\n",
    "    - (b) $\\lim_{x \\to 1^+} g(x)$: $(x - 1)^2 \\to 0^+$, so $g(x) \\to \\frac{-4}{0^+} = -\\infty$.\n",
    "    - (c) $\\lim_{x \\to 1} g(x)$: Both sides $-\\infty$, but as a two-sided limit, it \"does not exist\" (though often noted as $-\\infty$ for asymptotes).\n",
    "  - **Pattern**: Terms like $(x - a)^{\\text{even}}$ (e.g., $(x - 1)^2$) yield the same infinity on both sides if the numerator is consistent, due to the even power ensuring positivity. Odd powers (e.g., $x - 1$) or mixed terms (e.g., $(x + 5)(x - 9)$) can lead to opposite infinities, so the two-sided limit typically DNE.\n",
    "  - **Refinement**: The \"even power trick\" applies to forms like $(a - b)^{\\text{even}}$, but not universally. For $(a + b)$ or complex denominators, the sign and power of each factor must be evaluated carefully on both sides.\n",
    "  - **Polarity**: The function’s sign (e.g., $-4$ gives $-\\infty$) sets the infinity direction.\n",
    "- **New Technique: Evaluating Limits Near Asymptotes**:\n",
    "  - For rational functions, as $x$ approaches the asymptote (e.g., $x = a$):\n",
    "    - Left ($x \\to a^-$): $x - a$ is a small negative number.\n",
    "    - Right ($x \\to a^+$): $x - a$ is a small positive number.\n",
    "    - If the denominator is an even power (e.g., $(x - a)^2$), it’s $0^+$ on both sides.\n",
    "    - If the denominator is an odd power (e.g., $x - a$), it changes sign.\n",
    "  - **Rule**: If the denominator is infinitesimally small ($0^+$ or $0^-$), and the numerator is finite:\n",
    "    - $\\frac{\\text{big}}{\\text{small}}$ (positive numerator, $0^+$) $\\to +\\infty$.\n",
    "    - $\\frac{\\text{negative}}{\\text{small}}$ (negative numerator, $0^+$) $\\to -\\infty$.\n",
    "    - If both sides tend to the same number, the difference is infinitesimally small, making the denominator tiny, so the function goes to $\\pm\\infty$ based on the numerator.\n",
    "  - **Example Check**: For $g(x) = \\frac{-4}{(x - 1)^2}$, both sides $\\to -\\infty$ due to the negative numerator and tiny positive denominator.\n",
    "- **Connection**: This mirrors $\\lim_{x \\to 0^+} \\ln(-x)$ not existing due to an undefined domain, reinforcing that math needs a defined \"something\" to operate."
   ]
  },
  {
   "cell_type": "markdown",
   "id": "57f078bb-59c1-4244-99d7-7d3ccb472c13",
   "metadata": {},
   "source": [
    "## Conclusion\n",
    "- $a^0 = 1$ reflects reality starting from \"something,\" not nothing.\n",
    "- $\\ln(-x) \\to -\\infty$ (for $x \\to 0^-$) shows existence stretching, not collapsing to 0.\n",
    "- $\\lim_{x \\to 0^+} \\ln(-x)$ does not exist due to negative arguments, and vertical asymptotes occur where functions are undefined (denominator zero).\n",
    "- Even-powered terms like $(x - a)^{\\text{even}}$ can lead to consistent infinity limits if the numerator aligns, while odd or mixed terms require careful evaluation, often resulting in DNE.\n",
    "- Limits near asymptotes depend on denominator size and sign, with infinitesimally small denominators driving the function to $\\pm\\infty$ based on the numerator.\n",
    "- For $h(z) = \\ln|z|$, $\\lim_{z \\to 0^-}$ and $\\lim_{z \\to 0^+}$ both $\\to -\\infty$, while $\\lim_{z \\to -3} = \\ln 3$, showing finite vs. infinite behavior.\n",
    "- Nothingness can’t exist logically; reality begins from 1, the \"empty slate.\""
   ]
  }
 ],
 "metadata": {
  "kernelspec": {
   "display_name": "Python 3 (ipykernel)",
   "language": "python",
   "name": "python3"
  },
  "language_info": {
   "codemirror_mode": {
    "name": "ipython",
    "version": 3
   },
   "file_extension": ".py",
   "mimetype": "text/x-python",
   "name": "python",
   "nbconvert_exporter": "python",
   "pygments_lexer": "ipython3",
   "version": "3.12.9"
  }
 },
 "nbformat": 4,
 "nbformat_minor": 5
}
