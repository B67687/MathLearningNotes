{
 "cells": [
  {
   "cell_type": "markdown",
   "id": "477b969a-de64-4506-a622-c4aa73ae0012",
   "metadata": {},
   "source": [
    "# Finding Derivatives Using the Limit Definition\n",
    "\n",
    "This notebook demonstrates how to find derivatives of functions using the limit definition."
   ]
  },
  {
   "cell_type": "markdown",
   "id": "25f4c15b-131e-4ff0-a40d-c0ed06199509",
   "metadata": {},
   "source": [
    "## Limit Definition of a Derivative\n",
    "\n",
    "The derivative of a function $f(x)$ is defined as:\n",
    "\n",
    "$$f'(x) = \\lim_{h \\to 0} \\frac{f(x + h) - f(x)}{h}$$\n",
    "\n",
    "We'll work through a few examples to illustrate the process."
   ]
  },
  {
   "cell_type": "markdown",
   "id": "1a77acc9-a71a-4b4a-ab75-8b42a748820b",
   "metadata": {},
   "source": [
    "### $f(x) = x^2$\n",
    "\n",
    "1.  **Apply the limit definition:**\n",
    "\n",
    "    $$f'(x) = \\lim_{h \\to 0} \\frac{(x + h)^2 - x^2}{h}$$\n",
    "\n",
    "2.  **Expand the expression:**\n",
    "\n",
    "    $$f'(x) = \\lim_{h \\to 0} \\frac{x^2 + 2xh + h^2 - x^2}{h}$$\n",
    "\n",
    "3.  **Simplify:**\n",
    "\n",
    "    $$f'(x) = \\lim_{h \\to 0} \\frac{2xh + h^2}{h}$$\n",
    "\n",
    "4.  **Factor out $h$:**\n",
    "\n",
    "    $$f'(x) = \\lim_{h \\to 0} \\frac{h(2x + h)}{h}$$\n",
    "\n",
    "5.  **Cancel $h$:**\n",
    "\n",
    "    $$f'(x) = \\lim_{h \\to 0} (2x + h)$$\n",
    "\n",
    "6.  **Evaluate the limit:**\n",
    "\n",
    "    $$f'(x) = 2x$$"
   ]
  },
  {
   "cell_type": "markdown",
   "id": "c14e5db0-525d-4648-b20d-d7e94a45222e",
   "metadata": {},
   "source": [
    "### $f(x) = \\frac{1}{x}$\n",
    "\n",
    "1.  **Apply the limit definition:**\n",
    "\n",
    "    $$f'(x) = \\lim_{h \\to 0} \\frac{\\frac{1}{x + h} - \\frac{1}{x}}{h}$$\n",
    "\n",
    "2.  **Find a common denominator in the numerator:**\n",
    "\n",
    "    $$f'(x) = \\lim_{h \\to 0} \\frac{\\frac{x - (x + h)}{x(x + h)}}{h}$$\n",
    "\n",
    "3.  **Simplify the numerator:**\n",
    "\n",
    "    $$f'(x) = \\lim_{h \\to 0} \\frac{\\frac{-h}{x(x + h)}}{h}$$\n",
    "\n",
    "4.  **Rewrite the expression:**\n",
    "\n",
    "    $$f'(x) = \\lim_{h \\to 0} \\frac{-h}{h x(x + h)}$$\n",
    "\n",
    "5.  **Cancel $h$:**\n",
    "\n",
    "    $$f'(x) = \\lim_{h \\to 0} \\frac{-1}{x(x + h)}$$\n",
    "\n",
    "6.  **Evaluate the limit:**\n",
    "\n",
    "    $$f'(x) = \\frac{-1}{x^2}$$\n"
   ]
  },
  {
   "cell_type": "markdown",
   "id": "2522c94c-b4dc-41a1-ae54-1da0cf6c94cc",
   "metadata": {},
   "source": [
    "### $f(x) = \\sqrt{x}$\n",
    "\n",
    "1.  **Apply the limit definition:**\n",
    "\n",
    "    $$f'(x) = \\lim_{h \\to 0} \\frac{\\sqrt{x + h} - \\sqrt{x}}{h}$$\n",
    "\n",
    "2.  **Rationalize the numerator by multiplying by the conjugate:**\n",
    "\n",
    "    $$f'(x) = \\lim_{h \\to 0} \\frac{(\\sqrt{x + h} - \\sqrt{x})(\\sqrt{x + h} + \\sqrt{x})}{h(\\sqrt{x + h} + \\sqrt{x})}$$\n",
    "\n",
    "3.  **Simplify the numerator using the difference of squares:**\n",
    "\n",
    "    $$f'(x) = \\lim_{h \\to 0} \\frac{(x + h) - x}{h(\\sqrt{x + h} + \\sqrt{x})}$$\n",
    "\n",
    "4.  **Simplify further:**\n",
    "\n",
    "    $$f'(x) = \\lim_{h \\to 0} \\frac{h}{h(\\sqrt{x + h} + \\sqrt{x})}$$\n",
    "\n",
    "5.  **Cancel $h$:**\n",
    "\n",
    "    $$f'(x) = \\lim_{h \\to 0} \\frac{1}{\\sqrt{x + h} + \\sqrt{x}}$$\n",
    "\n",
    "6.  **Evaluate the limit:**\n",
    "\n",
    "    $$f'(x) = \\frac{1}{2\\sqrt{x}}$$"
   ]
  },
  {
   "cell_type": "markdown",
   "id": "3e294fdc-a16b-4b00-994e-9a283e6ae810",
   "metadata": {
    "jp-MarkdownHeadingCollapsed": true
   },
   "source": [
    "## $ f(x) = x + \\sqrt x $\n",
    "\n",
    "**1. Derivative Definition:**\n",
    "\n",
    "-   The derivative of a function $f(x)$ is defined as:\n",
    "    $$f'(x) = \\lim_{h \\to 0} \\frac{f(x + h) - f(x)}{h}$$\n",
    "\n",
    "**2. Applying the Definition to f(x) = x + √x:**\n",
    "\n",
    "-   We found $f(x + h) = (x + h) + \\sqrt{x + h}$.\n",
    "-   Plugging into the derivative definition:\n",
    "    $$f'(x) = \\lim_{h \\to 0} \\frac{[(x + h) + \\sqrt{x + h}] - [x + \\sqrt{x}]}{h}$$\n",
    "\n",
    "**3. Simplifying the Expression:**\n",
    "\n",
    "-   Simplifying the numerator:\n",
    "    $$f'(x) = \\lim_{h \\to 0} \\frac{h + \\sqrt{x + h} - \\sqrt{x}}{h}$$\n",
    "\n",
    "**4. Separating the Limit:**\n",
    "\n",
    "-   We separated the limit into two parts:\n",
    "    $$f'(x) = \\lim_{h \\to 0} \\frac{h}{h} + \\lim_{h \\to 0} \\frac{\\sqrt{x + h} - \\sqrt{x}}{h}$$\n",
    "-   The first limit is 1:\n",
    "    $$f'(x) = 1 + \\lim_{h \\to 0} \\frac{\\sqrt{x + h} - \\sqrt{x}}{h}$$\n",
    "\n",
    "**5. Rationalizing the Numerator:**\n",
    "\n",
    "-   We rationalized the numerator of the second limit:\n",
    "    $$f'(x) = 1 + \\lim_{h \\to 0} \\frac{(\\sqrt{x + h} - \\sqrt{x})(\\sqrt{x + h} + \\sqrt{x})}{h(\\sqrt{x + h} + \\sqrt{x})}$$\n",
    "    $$f'(x) = 1 + \\lim_{h \\to 0} \\frac{h}{h(\\sqrt{x + h} + \\sqrt{x})}$$\n",
    "\n",
    "**6. Canceling h and Evaluating the Limit:**\n",
    "\n",
    "-   Canceling $h$ and substituting $h = 0$:\n",
    "    $$f'(x) = 1 + \\frac{1}{2\\sqrt{x}}$$\n",
    "\n",
    "**7. Key Learnings:**\n",
    "\n",
    "-   Separating the limit into parts can be a useful technique when dealing with complex expressions.\n",
    "-   Rationalization is a powerful tool for simplifying expressions with radicals, but it must be applied strategically.\n",
    "-   Rationalization to remove the h can only happen in some circumstances, and we must either make the circumstances or see that we can utilize it.\n",
    "-   In this case, separating the fraction before rationalizing allowed us to simplify the limit effectively."
   ]
  },
  {
   "cell_type": "markdown",
   "id": "1865296a-89e7-4413-8951-7f3e582f0b49",
   "metadata": {
    "jp-MarkdownHeadingCollapsed": true
   },
   "source": [
    "## $ g(x) = \\frac{4}{\\sqrt{1 - x}} $\n",
    "\n",
    "This notebook cell demonstrates how to find the derivative of $g(x) = \\frac{4}{\\sqrt{1 - x}}$ using the definition of the derivative.\n",
    "\n",
    "**1. Definition of the Derivative:**\n",
    "\n",
    "-   The derivative of a function $g(x)$ is defined as:\n",
    "    $$g'(x) = \\lim_{h \\to 0} \\frac{g(x + h) - g(x)}{h}$$\n",
    "\n",
    "**2. Applying the Definition:**\n",
    "\n",
    "-   Given $g(x) = \\frac{4}{\\sqrt{1 - x}}$, we find $g(x + h)$:\n",
    "    $$g(x + h) = \\frac{4}{\\sqrt{1 - (x + h)}}$$\n",
    "-   Plugging $g(x + h)$ and $g(x)$ into the derivative definition:\n",
    "    $$g'(x) = \\lim_{h \\to 0} \\frac{\\frac{4}{\\sqrt{1 - (x + h)}} - \\frac{4}{\\sqrt{1 - x}}}{h}$$\n",
    "\n",
    "**3. Simplifying the Numerator:**\n",
    "\n",
    "-   Finding a common denominator for the fractions in the numerator:\n",
    "    $$g'(x) = \\lim_{h \\to 0} \\frac{\\frac{4\\sqrt{1 - x} - 4\\sqrt{1 - (x + h)}}{\\sqrt{1 - (x + h)} \\sqrt{1 - x}}}{h}$$\n",
    "    $$g'(x) = \\lim_{h \\to 0} \\frac{4(\\sqrt{1 - x} - \\sqrt{1 - x - h})}{h \\sqrt{1 - (x + h)} \\sqrt{1 - x}}$$\n",
    "\n",
    "**4. Rationalizing the Numerator:**\n",
    "\n",
    "-   Multiplying by the conjugate to rationalize the numerator:\n",
    "    $$g'(x) = \\lim_{h \\to 0} \\frac{4(\\sqrt{1 - x} - \\sqrt{1 - x - h})}{h \\sqrt{1 - (x + h)} \\sqrt{1 - x}} \\cdot \\frac{\\sqrt{1 - x} + \\sqrt{1 - x - h}}{\\sqrt{1 - x} + \\sqrt{1 - x - h}}$$\n",
    "    $$g'(x) = \\lim_{h \\to 0} \\frac{4[(1 - x) - (1 - x - h)]}{h \\sqrt{1 - (x + h)} \\sqrt{1 - x} (\\sqrt{1 - x} + \\sqrt{1 - x - h})}$$\n",
    "    $$g'(x) = \\lim_{h \\to 0} \\frac{4h}{h \\sqrt{1 - (x + h)} \\sqrt{1 - x} (\\sqrt{1 - x} + \\sqrt{1 - x - h})}$$\n",
    "\n",
    "**5. Canceling h and Evaluating the Limit:**\n",
    "\n",
    "-   Canceling the $h$ terms:\n",
    "    $$g'(x) = \\lim_{h \\to 0} \\frac{4}{\\sqrt{1 - (x + h)} \\sqrt{1 - x} (\\sqrt{1 - x} + \\sqrt{1 - x - h})}$$\n",
    "-   Substituting $h = 0$:\n",
    "    $$g'(x) = \\frac{4}{\\sqrt{1 - x} \\sqrt{1 - x} (\\sqrt{1 - x} + \\sqrt{1 - x})}$$\n",
    "    $$g'(x) = \\frac{4}{(1 - x) (2\\sqrt{1 - x})}$$\n",
    "    $$g'(x) = \\frac{2}{(1 - x)^{3/2}}$$\n",
    "\n",
    "**Conclusion:**\n",
    "\n",
    "-   The derivative of $g(x) = \\frac{4}{\\sqrt{1 - x}}$ is:\n",
    "    $$g'(x) = \\frac{2}{(1 - x)^{3/2}}$$"
   ]
  },
  {
   "cell_type": "markdown",
   "id": "3581fe5f-1793-4072-bf3b-7564f8a59530",
   "metadata": {},
   "source": [
    "## Conclusion\n",
    "\n",
    "These examples demonstrate how to find derivatives using the limit definition. The key is to manipulate the expression to eliminate the $h$ in the denominator before evaluating the limit."
   ]
  },
  {
   "cell_type": "markdown",
   "id": "fbc38cc6-f311-482a-b978-1c3d21e1a8e0",
   "metadata": {},
   "source": [
    "---"
   ]
  },
  {
   "cell_type": "markdown",
   "id": "66333e25-18c6-4637-982d-b6da15d2373e",
   "metadata": {},
   "source": [
    "# Derivatives and Limits: A Deeper Dive\n",
    "\n",
    "This notebook expands on our understanding of derivatives and their relationship to limits, building on the previous concepts."
   ]
  },
  {
   "cell_type": "markdown",
   "id": "d77b506b-2199-48cb-8ec0-cea3561a210d",
   "metadata": {},
   "source": [
    "### Derivative as a Special Limit\n",
    "-   The derivative of a function $f(x)$ at a point $x = a$ is defined as:\n",
    "        $$f'(a) = \\lim_{h \\to 0} \\frac{f(a + h) - f(a)}{h}$$\n",
    "-   This is a specific type of limit that measures the *instantaneous rate of change* or the slope of the tangent line."
   ]
  },
  {
   "cell_type": "markdown",
   "id": "1fc19e08-b94d-415c-a9b7-a631f3f73a5e",
   "metadata": {},
   "source": [
    "### Limit of the Slope vs. Derivative Function\n",
    "\n",
    "-   The limit of the slope (the limit of the difference quotient) can approach infinity.\n",
    "-   However, the derivative $f'(x)$ is itself a function.\n",
    "-   Functions must have real number outputs for real number inputs.\n",
    "-   Infinity is not a real number.\n",
    "-   Therefore, the derivative function $f'(x)$ is undefined (or \"does not exist\") at points where the limit of the slope is infinite.\n",
    "-   Example: $f(x) = x^{2/3}$ at $x = 0$. The limit of the slope is infinite, but the derivative function does not exist."
   ]
  },
  {
   "cell_type": "markdown",
   "id": "1c2cdb75-3954-4f41-9fc9-c3b90438e1b1",
   "metadata": {},
   "source": [
    "### One-Sided Limits and Derivatives\n",
    "-   When dealing with functions like $f(x) = |x|$, we must consider one-sided limits to determine if the derivative exists.\n",
    "-   If the left-hand limit ($\\lim_{h \\to 0^-}$) and the right-hand limit ($\\lim_{h \\to 0^+}$) are different, the general limit does not exist, and therefore the derivative does not exist."
   ]
  },
  {
   "cell_type": "markdown",
   "id": "b00ecc80-ab47-4333-a807-edcb3f4d4665",
   "metadata": {},
   "source": [
    "#### Example: Derivative of f(x) = |x| at x = 0\n",
    "-   The derivative of $f(x) = |x|$ at $x = 0$ does not exist.\n",
    "-   This is because the one-sided limits are:\n",
    "    -   $\\lim_{h \\to 0^-} \\frac{|h|}{h} = -1$\n",
    "    -   $\\lim_{h \\to 0^+} \\frac{|h|}{h} = 1$\n",
    "-   Since $-1 \\neq 1$, the limit $\\lim_{h \\to 0} \\frac{|h|}{h}$ does not exist, and thus $f'(0)$ does not exist."
   ]
  },
  {
   "cell_type": "markdown",
   "id": "4482a5ec-824c-49e8-99fb-795cdb309b79",
   "metadata": {},
   "source": [
    "### General Limits vs. Derivative Limits\n",
    "-   General limits (e.g., $\\lim_{x \\to a} f(x)$) describe the behavior of a function near a point.\n",
    "-   Derivative limits specifically measure the rate of change.\n",
    "-   The existence of a general limit does not guarantee the existence of a derivative.\n",
    "-   However, if the derivative exists, the limit defining it *must* exist.\n",
    "-   Conversely, if the limit that defines the derivative doesn't exist, the derivative doesn't exist."
   ]
  },
  {
   "cell_type": "markdown",
   "id": "6af7585c-2324-4f4f-96bd-a3ae11807373",
   "metadata": {},
   "source": [
    "### Limits at Infinity (Plateau Limits)\n",
    "-   These limits (e.g., $\\lim_{x \\to \\infty} f(x)$) describe the long-term behavior of a function.\n",
    "-   They reveal horizontal asymptotes or \"plateaus.\"\n"
   ]
  },
  {
   "cell_type": "markdown",
   "id": "04c57909-3165-4f4b-aad9-5a76f1cc1f56",
   "metadata": {},
   "source": [
    "### Limits of Sequences\n",
    "-   These limits describe the behavior of sequences as the index approaches infinity."
   ]
  },
  {
   "cell_type": "markdown",
   "id": "858d4958-ec6e-4079-8c3c-e98e848d5b47",
   "metadata": {},
   "source": [
    "## Conclusion\n",
    "\n",
    "We've reinforced the critical distinction between general limits and the specific limits that define derivatives. We've also highlighted the importance of one-sided limits when dealing with functions that have discontinuities or sharp changes."
   ]
  },
  {
   "cell_type": "markdown",
   "id": "362159ec-98ff-44c4-bd7d-3204d57d2ce1",
   "metadata": {},
   "source": [
    "---"
   ]
  },
  {
   "cell_type": "markdown",
   "id": "5fe074d4-1de1-43da-bb65-a8f8fe0c3c1c",
   "metadata": {},
   "source": [
    "## Continuity vs. Smoothness and Differentiability\n",
    "\n",
    "This notebook cell summarizes the important distinction between continuity, smoothness, and differentiability, building upon our previous discussions.\n",
    "\n",
    "**1. Continuity:**\n",
    "\n",
    "-   A function $f(x)$ is **continuous at a point x = a** if and only if:\n",
    "    -   $f(a)$ is defined.\n",
    "    -   $\\lim_{x \\to a} f(x)$ exists (left-hand and right-hand limits are equal).\n",
    "    -   $\\lim_{x \\to a} f(x) = f(a)$.\n",
    "-   Continuity is about the function being \"connected\" without breaks, jumps, or holes.\n",
    "\n",
    "**2. Smoothness:**\n",
    "\n",
    "-   A function is **smooth** if it has a well-defined derivative (i.e., a tangent line) at every point.\n",
    "-   Smoothness implies that the function has no sharp corners or cusps.\n",
    "\n",
    "**3. Differentiability:**\n",
    "\n",
    "-   A function is **differentiable at a point x = a** if its derivative $f'(a)$ exists.\n",
    "-   Differentiability implies smoothness.\n",
    "\n",
    "**4. Relationships:**\n",
    "\n",
    "-   **Differentiatiable => Smooth => Continuous:** Differentiability implies smoothness, which implies continuity.\n",
    "-   **Continuous $ \\ne $ Smooth:** Continuity does not imply smoothness. Functions like $f(x) = |x|$ and $f(x) = x^{2/3}$ are continuous but not smooth.\n",
    "-   **Continuous $ \\ne $ Differentiatiable:** Continuity does not imply differentiability. The Weierstrass function is continuous everywhere but differentiable nowhere.\n",
    "\n",
    "**5. Why the Distinction Matters:**\n",
    "\n",
    "-   It clarifies the hierarchy of \"niceness\" of functions.\n",
    "-   It emphasizes that differentiability is a stronger condition than continuity.\n",
    "-   It highlights that smoothness is an intermediate step between differentiability and continuity.\n",
    "\n",
    "**6. Importance of Formal Definition:**\n",
    "\n",
    "-   The intuitive understanding of continuity as \"being able to draw the function without lifting your pencil\" is not sufficient.\n",
    "-   The formal definition of continuity is crucial for a deeper understanding of calculus.\n",
    "-   The distinction between continuity and smoothness is often not emphasized enough in calculus teachings."
   ]
  },
  {
   "cell_type": "markdown",
   "id": "f4ea2187-fed3-4f34-96f8-c68a97241e92",
   "metadata": {},
   "source": [
    "---"
   ]
  },
  {
   "cell_type": "markdown",
   "id": "911bada6-8342-407c-be77-55cefe5782d7",
   "metadata": {},
   "source": [
    "## Sudden Changes and Non-Differentiability\n",
    "\n",
    "This notebook cell documents the learning about why points of sudden change in a function cannot have a derivative.\n",
    "\n",
    "**1. Points of Sudden Change:**\n",
    "\n",
    "-   Points of sudden change in a function's graph are points where the function has:\n",
    "    -   Sharp corners (e.g., $f(x) = |x|$ at $x = 0$)\n",
    "    -   Cusps (e.g., $f(x) = x^{2/3}$ at $x = 0$)\n",
    "    -   Vertical tangents\n",
    "\n",
    "**2. Infinite Slope:**\n",
    "\n",
    "-   At these points, the slope of the tangent line becomes infinitely steep.\n",
    "-   This means the change in y over the change in x approaches infinity.\n",
    "\n",
    "**3. Derivative as Slope:**\n",
    "\n",
    "-   The derivative $f'(x)$ represents the slope of the tangent line.\n",
    "\n",
    "**4. Derivative Function:**\n",
    "\n",
    "-   The derivative $f'(x)$ is itself a function.\n",
    "-   Functions must have real number outputs for real number inputs.\n",
    "\n",
    "**5. Infinity is Not a Real Number:**\n",
    "\n",
    "-   Therefore, if the slope is infinite, the derivative function is undefined at that point.\n",
    "\n",
    "**6. Conclusion:**\n",
    "\n",
    "-   Points of sudden change have an infinite slope.\n",
    "-   The derivative function cannot have an infinite value.\n",
    "-   Therefore, functions with sudden changes are not differentiable at those points.\n",
    "\n",
    "**7. Examples:**\n",
    "\n",
    "-   $f(x) = |x|$ at $x = 0$: sharp corner, undefined derivative.\n",
    "-   $f(x) = x^{2/3}$ at $x = 0$: cusp, undefined derivative.\n",
    "-   Vertical tangents: infinite slope, undefined derivative."
   ]
  },
  {
   "cell_type": "markdown",
   "id": "8c70a713-e351-415f-af9c-0cd13b836ac9",
   "metadata": {},
   "source": [
    "---"
   ]
  },
  {
   "cell_type": "markdown",
   "id": "6b9f01c4-41b5-42a9-b8ed-194ecbe24eba",
   "metadata": {},
   "source": [
    "## Proof: Differentiability Implies Continuity\n",
    "\n",
    "This notebook cell explains the proof provided in the image that demonstrates that if a function $f(x)$ is differentiable at $x=a$, then it is also continuous at $x=a$.\n",
    "\n",
    "**Proof Breakdown:**\n",
    "\n",
    "1.  **Given:** We are given that $f(x)$ is differentiable at $x=a$. This means that the limit:\n",
    "    $$f'(a) = \\lim_{x \\to a} \\frac{f(x) - f(a)}{x - a}$$\n",
    "    exists.\n",
    "\n",
    "2.  **Manipulation of f(x) - f(a):**\n",
    "    -   We can rewrite $f(x) - f(a)$ as:\n",
    "        $$f(x) - f(a) = \\frac{f(x) - f(a)}{x - a} (x - a)$$\n",
    "\n",
    "3.  **Taking the Limit:**\n",
    "    -   Taking the limit of both sides as $x \\to a$:\n",
    "        $$\\lim_{x \\to a} (f(x) - f(a)) = \\lim_{x \\to a} \\left[ \\frac{f(x) - f(a)}{x - a} (x - a) \\right]$$\n",
    "    -   Using limit properties:\n",
    "        $$\\lim_{x \\to a} (f(x) - f(a)) = \\lim_{x \\to a} \\frac{f(x) - f(a)}{x - a} \\cdot \\lim_{x \\to a} (x - a)$$\n",
    "    -   Since $\\lim_{x \\to a} \\frac{f(x) - f(a)}{x - a} = f'(a)$ (from step 1) and $\\lim_{x \\to a} (x - a) = 0$, we have:\n",
    "        $$\\lim_{x \\to a} (f(x) - f(a)) = f'(a) \\cdot 0 = 0$$\n",
    "\n",
    "4.  **Connecting to Continuity:**\n",
    "    -   We want to show that $\\lim_{x \\to a} f(x) = f(a)$, which is the definition of continuity.\n",
    "    -   We can rewrite $\\lim_{x \\to a} f(x)$ as:\n",
    "        $$\\lim_{x \\to a} f(x) = \\lim_{x \\to a} [f(a) + (f(x) - f(a))]$$\n",
    "    -   Using limit properties:\n",
    "        $$\\lim_{x \\to a} f(x) = \\lim_{x \\to a} f(a) + \\lim_{x \\to a} (f(x) - f(a))$$\n",
    "    -   Since $\\lim_{x \\to a} f(a) = f(a)$ (because $f(a)$ is a constant) and $\\lim_{x \\to a} (f(x) - f(a)) = 0$ (from step 3), we have:\n",
    "        $$\\lim_{x \\to a} f(x) = f(a) + 0 = f(a)$$\n",
    "\n",
    "5.  **Conclusion:**\n",
    "    -   We have shown that $\\lim_{x \\to a} f(x) = f(a)$, which is the definition of continuity at $x=a$.\n",
    "    -   Therefore, if $f(x)$ is differentiable at $x=a$, it is also continuous at $x=a$."
   ]
  },
  {
   "cell_type": "markdown",
   "id": "01d75304-7ad0-49fa-a260-df490b5f200e",
   "metadata": {},
   "source": [
    "## Conceptual Understanding vs. Formal Proof\n",
    "\n",
    "-   While the formal proof in the image is mathematically sound, it can appear convoluted due to its reliance on algebraic manipulation and seemingly arbitrary steps.\n",
    "-   A more intuitive understanding can be gained by recognizing that differentiability implies the existence of a limit of the difference quotient, which is a stronger condition than continuity.\n",
    "-   Differentiability also implies smoothness, which in turn implies continuity.\n",
    "-   The conceptual understanding, which connects differentiability to smoothness and continuity, is often more direct and easier to grasp.\n",
    "-   The formal proof essentially demonstrates the same concept using rigorous algebraic steps, but the connection might be less apparent."
   ]
  },
  {
   "cell_type": "markdown",
   "id": "1d48d583-61ee-4f76-9868-f61b15c8f913",
   "metadata": {},
   "source": [
    "---"
   ]
  },
  {
   "cell_type": "markdown",
   "id": "ccfcdde4-22a7-4a84-b77e-fa512f07dbfb",
   "metadata": {},
   "source": [
    "## Order of Writing Limit Expressions\n",
    "\n",
    "This notebook cell documents the discussion about the order of writing limit expressions and its implications for clarity and readability."
   ]
  },
  {
   "cell_type": "markdown",
   "id": "71de4660-dae7-4a01-a588-dcbf49879d1d",
   "metadata": {},
   "source": [
    "**1. Standard Practice:**\n",
    "\n",
    "-   The standard practice in mathematics is to write the limit notation *to the left* of the expression.\n",
    "    -   $ lim_{x \\to a} f(x) $\n",
    "-   This is generally considered the most common and widely accepted notation in mathematics textbooks and academic writing.\n",
    "-   This practice aids reading by immediately indicating that a limit is being taken.\n",
    "\n",
    "**2. Alternative Approach (Expression First):**\n",
    "\n",
    "-   An alternative approach is to write the expression first and then the limit notation.\n",
    "    -   $ f(x)  lim_{x \\to a} $\n",
    "-   This approach is not technically incorrect, but it is not the standard practice.\n",
    "-   It might be considered less conventional or even confusing by some readers who are accustomed to the standard notation.\n",
    "\n",
    "**3. Rationale for Alternative Approach:**\n",
    "\n",
    "-   The rationale behind writing the expression first is to emphasize the function's behavior, which is the core concept of limits and derivatives.\n",
    "-   In derivatives, we're examining the *rate of change* of the function, which is captured by the expression $\\frac{f(x + h) - f(x)}{h}$ or $\\frac{f(x) - f(a)}{x - a}$.\n",
    "-   Writing this expression first allows us to perform algebraic manipulations before considering the limit itself.\n",
    "\n",
    "**4. Why Standard Practice is Preferred:**\n",
    "\n",
    "-   **Readability:** The standard notation allows for a smoother flow of reading, as the reader immediately understands the context of the expression.\n",
    "-   **Consistency:** Consistent notation is essential for clear communication in mathematics.\n",
    "-   **Established Convention:** Mathematical notation is often based on established conventions that have evolved over time.\n",
    "\n",
    "**5. Recommendation:**\n",
    "\n",
    "-   It is recommended to follow the standard practice of writing the limit notation to the left of the expression.\n",
    "-   This ensures that your notation is consistent with common mathematical conventions and avoids potential confusion.\n",
    "-   If you prefer writing the expression first, you can leave a space for the limit notation to the left, but ultimately the limit notation should be placed to the left."
   ]
  }
 ],
 "metadata": {
  "kernelspec": {
   "display_name": "Python 3 (ipykernel)",
   "language": "python",
   "name": "python3"
  },
  "language_info": {
   "codemirror_mode": {
    "name": "ipython",
    "version": 3
   },
   "file_extension": ".py",
   "mimetype": "text/x-python",
   "name": "python",
   "nbconvert_exporter": "python",
   "pygments_lexer": "ipython3",
   "version": "3.9.21"
  }
 },
 "nbformat": 4,
 "nbformat_minor": 5
}
