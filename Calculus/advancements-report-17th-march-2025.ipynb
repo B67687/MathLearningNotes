{
 "cells": [
  {
   "cell_type": "markdown",
   "id": "c5d2f4c4-05a6-4408-b8a2-dc984289ae75",
   "metadata": {},
   "source": [
    "# Best Practices for Limit Evaluation and Related Concepts"
   ]
  },
  {
   "cell_type": "markdown",
   "id": "01342a39-1356-4cf0-a42e-d6ad06638ed3",
   "metadata": {},
   "source": [
    "## 1. Prioritize Standard Notation and Methods\n",
    "   - Use $ \\lim_{x \\to a^-} f(x) $ for left-hand limits and $ \\lim_{x \\to a^+} f(x) $ for right-hand limits.\n",
    "   - Avoid unconventional symbols to ensure consistency."
   ]
  },
  {
   "cell_type": "markdown",
   "id": "b45c6d70-2fed-4061-97d8-c1e4fec2a25d",
   "metadata": {},
   "source": [
    "## 2. Evaluate Limits Using One-Sided Limits\n",
    "   - For $ \\lim_{x \\to a} f(x) $ to exist, check $ \\lim_{x \\to a^-} f(x) = \\lim_{x \\to a^+} f(x) $.\n",
    "   - If they differ, the limit does not exist (D.N.E.)."
   ]
  },
  {
   "cell_type": "markdown",
   "id": "ac81a079-51c4-49f0-a4ec-ea042d0de3cb",
   "metadata": {},
   "source": [
    "## 3. Handle Piecewise Functions Carefully\n",
    "   - Use only the expressions defined near $ x = a $.\n",
    "   - Ignore irrelevant pieces.\n"
   ]
  },
  {
   "cell_type": "markdown",
   "id": "17b44d0c-3268-4275-add7-e63be1873ce9",
   "metadata": {},
   "source": [
    "## 4. Understand Behavior of Absolute Functions in Limits\n",
    "   - For $ \\frac{|x|}{x} $ or $ \\frac{1}{|x|} $, expect D.N.E. at $ x = 0 $.\n",
    "   - For $ \\frac{x - a}{|x - a|^n} $ (odd $ n $), results like $ \\pm 1 $ or $ \\pm \\infty $ often lead to D.N.E.\n"
   ]
  },
  {
   "cell_type": "markdown",
   "id": "9d1c5c42-3444-44b1-87c8-3c414d91d8d3",
   "metadata": {},
   "source": [
    "## 5. Rationalizing the Denominator: Key Insights\n",
    "   - Rationalizing doesn’t fix division by zero without cancellation.\n",
    "   - If the denominator still approaches zero, the limit may be undefined or infinite."
   ]
  },
  {
   "cell_type": "markdown",
   "id": "96d55f66-65bb-4501-abb3-be4e5fd771b0",
   "metadata": {},
   "source": [
    "## 6. Seek Cancellation in Indeterminate Forms\n",
    "   - Simplify $ \\frac{0}{0} $ forms by factoring or rationalizing to cancel terms.\n",
    "   - If no cancellation occurs, check for infinity or D.N.E."
   ]
  },
  {
   "cell_type": "markdown",
   "id": "6085381e-6298-47e5-b775-1a2eb55b1183",
   "metadata": {},
   "source": [
    "## 7. Balance Conciseness with Clarity\n",
    "   - Favor accuracy and standard methods over shortcuts.\n",
    "   - Alternative formats (e.g., matrices) are fine if correct and clear."
   ]
  },
  {
   "cell_type": "markdown",
   "id": "5f34b2e9-9596-4572-913c-1ad353d92273",
   "metadata": {},
   "source": [
    "## 8. Formalize Insights for Broader Application\n",
    "   - Test ideas with examples.\n",
    "   - Define variables and justify steps for rigor."
   ]
  },
  {
   "cell_type": "markdown",
   "id": "ed0b8613-c08d-4a9f-aabb-f3dfa8c8cae5",
   "metadata": {},
   "source": [
    "## 9. Evaluate Limits Formally\n",
    "   - Always compute one-sided limits to confirm D.N.E., especially at discontinuities."
   ]
  },
  {
   "cell_type": "markdown",
   "id": "4379fb64-e9a8-48e6-b98b-9affe7b2478b",
   "metadata": {},
   "source": [
    "---"
   ]
  },
  {
   "cell_type": "markdown",
   "id": "ec8d86bd-e252-4f95-a99e-99813477d112",
   "metadata": {},
   "source": [
    "# Comprehensive Notes on Limit Evaluation and Related Concepts"
   ]
  },
  {
   "cell_type": "markdown",
   "id": "58d1ce00-3353-4eca-ad36-786093f98c40",
   "metadata": {},
   "source": [
    "## Guidelines and Preferences\n",
    "\n",
    "These notes reflect your learning journey and preferences as of March 17, 2025, with a focus on mathematical correctness, standard notation, and conciseness, tailored for a computer science context.\n",
    "\n",
    "- **Preference for Mathematical Correctness and Standard Notation**:\n",
    "  - Always assess whether a method or notation is:\n",
    "    - **Mathematically Standard**: Widely accepted in formal mathematics (e.g., $ \\lim $, $ = $).\n",
    "    - **Mathematically Correct/Notational Correct**: Logically valid, even if not standard.\n",
    "    - **Non-Standard/Custom**: Requires definition and isn’t formally recognized, limiting portability.\n",
    "  - Engage ideas optimistically but ground them in reality to avoid pursuing unfeasible paths.\n",
    "\n",
    "- **Avoiding Personal Habits**:\n",
    "  - Prioritize standard methods to avoid forming habits with non-standard notations, ensuring long-term consistency and portability (e.g., for exams, academic submissions).\n",
    "\n",
    "- **Conciseness and Elegance**:\n",
    "  - Seek concise and elegant presentations where possible, balancing with correctness and acceptability.\n",
    "\n",
    "- **Contextual Use**:\n",
    "  - In a computer science context, alternative presentations (e.g., matrix alignment) are more tolerated if the workings are correct, suitable for assignments where a TA may accept equivalent methods."
   ]
  },
  {
   "cell_type": "markdown",
   "id": "ac3ed2b4-e81b-431b-91b5-e4042cf23216",
   "metadata": {},
   "source": [
    "## Limits and Piecewise Functions"
   ]
  },
  {
   "cell_type": "markdown",
   "id": "a56991f1-9cb2-4fe6-977b-407f4a8d66d1",
   "metadata": {},
   "source": [
    "### Introduction\n",
    "\n",
    "This section covers the concepts of left-hand and right-hand limits, how to determine if a limit exists, and the correct notation to use, especially when dealing with piecewise functions."
   ]
  },
  {
   "cell_type": "markdown",
   "id": "1794ac4a-d13c-4e36-a9ff-81cf147c1c1a",
   "metadata": {},
   "source": [
    "### Left-Hand and Right-Hand Limits\n",
    "\n",
    "When evaluating the limit of a function $ f(x) $ as $ x $ approaches a value $ a $, we need to consider both the left-hand and right-hand limits.\n",
    "\n",
    "- **Left-Hand Limit**: The limit of $ f(x) $ as $ x $ approaches $ a $ from the left (i.e., $ x < a $) is denoted as:\n",
    "  - $ \\lim_{x \\to a^-} f(x) $ or $ \\lim_{x \\uparrow a} f(x) $\n",
    "- **Right-Hand Limit**: The limit of $ f(x) $ as $ x $ approaches $ a $ from the right (i.e., $ x > a $) is denoted as:\n",
    "  - $ \\lim_{x \\to a^+} f(x) $ or $ \\lim_{x \\downarrow a} f(x) $"
   ]
  },
  {
   "cell_type": "markdown",
   "id": "83b1837d-1068-4a6b-8376-0550110302ec",
   "metadata": {},
   "source": [
    "### Limit Existence\n",
    "\n",
    "For the limit of $ f(x) $ as $ x $ approaches $ a $ to exist, both the left-hand and right-hand limits must exist and be equal.\n",
    "\n",
    "- $ \\lim_{x \\to a} f(x) $ exists if and only if $ \\lim_{x \\to a^-} f(x) = \\lim_{x \\to a^+} f(x) $.\n",
    "\n",
    "If the left-hand and right-hand limits are not equal, the limit does not exist (D.N.E.)."
   ]
  },
  {
   "cell_type": "markdown",
   "id": "e25ad36d-19b5-484c-a897-bc660f4c1480",
   "metadata": {},
   "source": [
    "### Correct Notation\n",
    "\n",
    "- Use $ \\lim_{x \\to a^-} f(x) $ and $ \\lim_{x \\to a^+} f(x) $ to denote left-hand and right-hand limits, respectively.\n",
    "- **Do not** use the logical conjunction symbol \"$ \\land $\" to connect numerical values when evaluating limits. \"$ \\land $\" is for logical \"AND\" operations, not for showing equality of values.\n",
    "- When stating that a limit does not exist, use \"D.N.E.\" or \"The limit does not exist.\""
   ]
  },
  {
   "cell_type": "markdown",
   "id": "b753ab5b-b692-4279-8285-509aab188d77",
   "metadata": {},
   "source": [
    "### Absolute Functions in Fractions and Limit Behavior\n",
    "\n",
    "You’ve noticed that many limits involving absolute functions in fractions (e.g., $ \\frac{|x|}{x} $, $ \\frac{1}{|x|} $) result in D.N.E., especially in your recent work with problems 27–30. This pattern arises because:\n",
    "\n",
    "- **Discontinuities**: Absolute values like $ |x| $ are piecewise ($ x $ for $ x \\geq 0 $, $ -x $ for $ x < 0 $), and when in a denominator or tied to a root (e.g., $ \\frac{1}{|x|} $, $ \\frac{|x - a|}{x - a} $), they become undefined or switch signs at $ x = a $, often leading to different left-hand and right-hand limits.\n",
    "  - Example: $ \\lim_{x \\to 0} \\frac{1}{|x|} $\n",
    "    - $ \\lim_{x \\to 0^-} = \\frac{1}{-x} \\to -\\infty $\n",
    "    - $ \\lim_{x \\to 0^+} = \\frac{1}{x} \\to +\\infty $\n",
    "    - D.N.E. since $ -\\infty \\neq +\\infty $.\n",
    "\n",
    "- **Sign Changes**: When the absolute value is in the numerator or denominator (e.g., $ \\frac{|x|}{x} $), the switch at $ x = 0 $ or $ x = a $ can cause a mismatch.\n",
    "  - Example: $ \\lim_{x \\to 0} \\frac{|x|}{x} $\n",
    "    - $ \\lim_{x \\to 0^-} = \\frac{-x}{x} = -1 $\n",
    "    - $ \\lim_{x \\to 0^+} = \\frac{x}{x} = 1 $\n",
    "    - D.N.E. since $ -1 \\neq 1 $.\n",
    "\n",
    "- **Refined Hypothesis: Odd Powers and Symmetry**: You’ve refined this for absolute functions with odd powers in fractions, where the limit is taken at $ x \\to a $, $ a \\neq 0 $. For functions like $ f(x) = \\frac{x - a}{|x - a|^n} $ with $ n $ odd:\n",
    "  - For $ n = 1 $: $ \\lim_{x \\to a} \\frac{x - a}{|x - a|} $ gives $ -1 $ and $ 1 $, D.N.E., symmetric.\n",
    "  - For $ n = 3 $: $ \\lim_{x \\to a} \\frac{x - a}{|x - a|^3} $ gives $ -\\infty $ and $ +\\infty $, D.N.E., symmetric.\n",
    "  - This holds for this form, supporting your pattern from problems 27–30.\n",
    "\n",
    "- **Counterexample**: Not all such limits are D.N.E. If balanced, the limit can exist.\n",
    "  - Example: $ \\lim_{x \\to 0} \\frac{|x|}{x + 1} $\n",
    "    - $ \\lim_{x \\to 0^-} = \\frac{-x}{x + 1} \\to 0 $\n",
    "    - $ \\lim_{x \\to 0^+} = \\frac{x}{x + 1} \\to 0 $\n",
    "    - Exists and equals 0.\n",
    "\n",
    "- **Practical Note**: Even if you suspect D.N.E., evaluate formally to confirm, catch exceptions, and build intuition.\n",
    "\n",
    "**Conclusion**: Absolute functions in fractions often result in D.N.E. due to discontinuities or sign changes, especially at $ x = a $. Your hypothesis about odd-powered forms like $ \\frac{x - a}{|x - a|^n} $ (with $ a \\neq 0 $) shows symmetric D.N.E., as seen in problems 27–30."
   ]
  },
  {
   "cell_type": "markdown",
   "id": "922108d2-8da9-423e-9ec9-efcd9bf88abb",
   "metadata": {},
   "source": [
    "### Rationalizing the Denominator and Division by Zero\n",
    "\n",
    "You’ve observed that rationalizing the denominator doesn’t seem to eliminate the division-by-zero problem in limits, and you’ve refined this to suggest it only works with cancellation. Let’s analyze this, focusing on rationalizing the denominator, to confirm your insight.\n",
    "\n",
    "- **Why Rationalizing the Denominator Doesn’t Inherently Eliminate Division by Zero**:\n",
    "  - Rationalizing rewrites the denominator to eliminate radicals (e.g., $ \\frac{1}{\\sqrt{x} - 2} \\to \\frac{\\sqrt{x} + 2}{x - 4} $), but the denominator’s root persists (e.g., $ x - 4 = 0 $ at $ x = 4 $).\n",
    "  - After rationalizing, the denominator often becomes a difference of squares (e.g., $ (\\sqrt{x} - a)(\\sqrt{x} + a) = x - a^2 $), which equals 0 when $ x = a^2 $, as you noted with $ x + a = 0 $ or $ x - a = 0 $ leading to $ x^2 - a^2 = 0 $.\n",
    "  - If no cancellation occurs, the division-by-zero problem persists.\n",
    "  - Example: $ \\lim_{x \\to 4} \\frac{1}{\\sqrt{x} - 2} $:\n",
    "    - After rationalizing: $ \\lim_{x \\to 4} \\frac{\\sqrt{x} + 2}{x - 4} $.\n",
    "    - Numerator: $ \\sqrt{x} + 2 \\to 4 $.\n",
    "    - Denominator: $ x - 4 \\to 0 $.\n",
    "    - Result: $ \\frac{4}{0} $, D.N.E. as a finite limit.\n",
    "\n",
    "- **When Rationalizing the Denominator Eliminates Division by Zero**:\n",
    "  - In $ \\frac{0}{0} $ indeterminate forms, rationalizing the denominator can resolve the issue if the numerator provides a factor to cancel with the new denominator (e.g., $ x - a^2 $).\n",
    "  - Example: $ \\lim_{x \\to 9} \\frac{x - 9}{\\sqrt{x} - 3} $:\n",
    "    - Rationalize denominator: $ \\frac{(x - 9)(\\sqrt{x} + 3)}{(\\sqrt{x} - 3)(\\sqrt{x} + 3)} = \\frac{(x - 9)(\\sqrt{x} + 3)}{x - 9} = \\sqrt{x} + 3 \\quad (x \\neq 9) $.\n",
    "    - Limit: $ \\lim_{x \\to 9} (\\sqrt{x} + 3) = 6 $.\n",
    "    - The cancellation of $ x - 9 $ removed the division by zero.\n",
    "\n",
    "- **Your Insight**:\n",
    "  - You’ve concluded that rationalizing the denominator doesn’t inherently eliminate division by zero—it requires cancellation. Without it, the denominator $ x - a^2 = 0 $ at $ x = a^2 $ persists, maintaining the problem.\n",
    "  - This is confirmed: the technique’s success depends on the numerator matching the denominator’s form post-rationalization.\n",
    "\n",
    "**Conclusion**: Rationalizing the denominator doesn’t inherently eliminate the division-by-zero problem; it only does so when a cancellation occurs that removes the term (e.g., $ x - a^2 $) causing the denominator to approach zero, as you’ve insightfully concluded."
   ]
  },
  {
   "cell_type": "markdown",
   "id": "bc9f9188-ecae-4fd2-992e-713219b60b54",
   "metadata": {},
   "source": [
    "---"
   ]
  },
  {
   "cell_type": "markdown",
   "id": "1d072bf1-e390-4714-86b3-beb48ed8c535",
   "metadata": {},
   "source": [
    "## 1. Limit Evaluation (Two-Sided Limits)"
   ]
  },
  {
   "cell_type": "markdown",
   "id": "8cc1cd95-f0bc-46df-90b3-843e1df2688c",
   "metadata": {},
   "source": [
    "### Optimized Standard Method (Preferred)\n",
    "\n",
    "To evaluate $ \\lim_{x \\to a} g(x) $, compute the one-sided limits separately using standard notation, followed by an explicit comparison. This is the conventional approach in calculus and your preferred method as of March 17, 2025.\n",
    "\n",
    "- **Assessment**:\n",
    "  - **Mathematically Correct/Notational Correct**: Yes, it follows the standard rule that a two-sided limit exists if the one-sided limits are equal.\n",
    "  - **Mathematically Standard**: Yes, this is the widely accepted method in textbooks.\n",
    "- **Steps**:\n",
    "  1. State the limit:\n",
    "     $ \\lim_{x \\to a} g(x) $\n",
    "  2. Compute each one-sided limit separately:\n",
    "     $ \\lim_{x \\to a^-} g(x) = \\text{[expression at } x \\to a^-] = \\text{[simplified value]} $\n",
    "     $ \\lim_{x \\to a^+} g(x) = \\text{[expression at } x \\to a^+] = \\text{[simplified value]} $\n",
    "  3. Compare and conclude:\n",
    "     - If equal ($ L_1 = L_2 $), then $ \\lim_{x \\to a} g(x) = L_1 $.\n",
    "     - If different ($ L_1 \\neq L_2 $), then $ \\lim_{x \\to a} g(x) \\text{ D.N.E.} $."
   ]
  },
  {
   "cell_type": "markdown",
   "id": "4fc30cce-d416-4cbe-8d23-c53f0189332c",
   "metadata": {},
   "source": [
    "### Refined Matrix Approach (Optional, Explored)\n",
    "\n",
    "For a concise presentation suitable in a computer science context, you previously explored a matrix-like alignment to compute one-sided limits side by side. This is retained as an optional method for reference.\n",
    "\n",
    "- **Assessment**:\n",
    "  - **Mathematically Correct/Notational Correct**: Yes, it computes one-sided limits accurately and applies the standard rule for two-sided limits.\n",
    "  - **Mathematically Standard**: No, the table format is not standard for limit evaluations (typically used for matrices or data), but it’s a valid personal adaptation.\n",
    "  - **Acceptability**: Acceptable for personal use and CS assignments, especially if the TA recognizes the identical workings. Include a note if submitting formally (e.g., “Matrix shows parallel one-sided limit computations”).\n",
    "- **Steps**:\n",
    "  1. State the limit and present the one-sided limit computations in a side-by-side array:\n",
    "     $ \\lim_{x \\to a} g(x) \\quad \\begin{array}{c|c}\n",
    "     \\lim_{x \\to a^-} g(x) & \\lim_{x \\to a^+} g(x) \\\\\n",
    "     \\text{[expression at } x \\to a^-] \\to \\text{[simplified value]} & \\text{[expression at } x \\to a^+] \\to \\text{[simplified value]}\n",
    "     \\end{array} $\n",
    "  2. Compare the final values and conclude:\n",
    "     - If equal, the limit exists.\n",
    "     - If different, the limit D.N.E."
   ]
  },
  {
   "cell_type": "markdown",
   "id": "5d90a912-4f1c-4af2-bd8e-16b5100cc70c",
   "metadata": {},
   "source": [
    "### Inspirational $ \\wedge $ Approach (Explored, Non-Standard)\n",
    "\n",
    "You explored an elegant $ \\wedge $ notation for personal inspiration. Define $ \\wedge $ as simultaneous evaluation of one-sided limits.\n",
    "\n",
    "- **Assessment**:\n",
    "  - **Mathematically Correct/Notational Correct**: Yes, with the definition, it’s correct and elegant.\n",
    "  - **Mathematically Standard**: No, $ \\wedge $ is not a standard operator for limits (used for logical AND or set intersection instead).\n",
    "  - **Acceptability**: Acceptable for personal notes with a definition, but not for formal use due to your goal of avoiding non-standard habits.\n",
    "- **Steps**:\n",
    "  1. Define and compute:\n",
    "     $ \\lim_{x \\to a} g(x) = \\lim_{x \\to a^-} g(x) \\wedge \\lim_{x \\to a^+} g(x) $\n",
    "     (Where $ \\wedge $ means \"the two-sided limit exists if the one-sided limits are equal, or D.N.E. if different.\")\n",
    "  2. Substitute and simplify, then compare.\n",
    "  3. "
   ]
  },
  {
   "cell_type": "markdown",
   "id": "e3211d58-6be2-488b-9102-b1d8181e6e1f",
   "metadata": {},
   "source": [
    "### Initial $ = $ Method (Explored, Partially Standard)\n",
    "\n",
    "You initially used a one-liner with $ = $ to evaluate limits, which evolved over time.\n",
    "\n",
    "- **Assessment**:\n",
    "  - **Mathematically Correct/Notational Correct**: Yes, the method is correct. It states the condition that a two-sided limit exists if the one-sided limits are equal.\n",
    "  - **Mathematically Standard**: Partially. The equality $ \\lim_{x \\to a^-} g(x) = \\lim_{x \\to a^+} g(x) $ is standard, but the one-liner format with $ = $ carried through all steps is not typical, and $ = $ is overloaded (condition and computation).\n",
    "  - **Acceptability**: Moved away from this due to overloading concerns and your preference for standard notation.\n",
    "- **Steps**:\n",
    "  1. Start with:\n",
    "     $ \\lim_{x \\to a} g(x) : \\lim_{x \\to a^-} g(x) = \\lim_{x \\to a^+} g(x) $\n",
    "  2. Compute by substituting and simplifying, carrying $ = $ through.\n",
    "  3. Compare and conclude based on equality."
   ]
  },
  {
   "cell_type": "markdown",
   "id": "d373f4fc-dcee-4e8c-a94e-e3565c690348",
   "metadata": {},
   "source": [
    "## 2. Piecewise Function Context\n",
    "\n",
    "Limits are often evaluated for piecewise functions, where the expression changes based on the value of $ x $.\n",
    "\n",
    "- **Definition**: A piecewise function $ g(x) $ is defined as:\n",
    "  $ g(x) = \\begin{cases} \n",
    "  \\text{expression 1} & \\text{if condition 1} \\\\\n",
    "  \\text{expression 2} & \\text{if condition 2} \\\\\n",
    "  \\text{expression 3} & \\text{if condition 3}\n",
    "  \\end{cases} $\n",
    "- **Limit Evaluation**: Use the appropriate expression for each one-sided limit based on the piecewise definition. Only the pieces relevant to the limit point $ x = a $ are used, determined by the intervals immediately to the left and right of $ a $.\n",
    "- **Insight on Continuity and Predictability**: If the function were continuous at $ x = a $, all relevant pieces would yield the same limit value. Distant pieces are irrelevant due to their distance from the limit point.\n",
    "- **Examples**:\n",
    "  - $ g(x) = 5x + 24 $ for $ x < -3 $, $ x^2 - 3 $ for $ -3 \\leq x < 4 $, $ 1 - 2x $ for $ x \\geq 4 $.\n",
    "  - $ f(x) = x^2 $ for $ x < 1 $, $ 2x - 1 $ for $ x \\geq 1 $.\n",
    "  - $ g(t) = t^2 - t^3 $ for $ t < 2 $, $ 5t - 14 $ for $ t \\geq 2 $.\n",
    "  - $ h(z) = 6z $ for $ z < -4 $, $ -9z $ for $ z \\geq -4 $."
   ]
  },
  {
   "cell_type": "markdown",
   "id": "43b619dc-a704-4f54-b39d-e18815f499a0",
   "metadata": {},
   "source": [
    "## 3. Notation Experiments\n",
    "\n",
    "You explored various notations to achieve conciseness and elegance:\n",
    "- **$ = $ Method**: Initially used a one-liner with $ = $, which was correct but overloaded (partially standard).\n",
    "- **$ \\wedge $ Exploration**: Proposed $ \\lim_{x \\to a} g(x) = \\lim_{x \\to a^-} g(x) \\wedge \\lim_{x \\to a^+} g(x) $, elegant and correct with a definition, but non-standard.\n",
    "- **Matrix Approach**: Evolved into the refined matrix method, balancing conciseness and correctness, acceptable in CS but not standard, now retained as an optional exploration."
   ]
  },
  {
   "cell_type": "markdown",
   "id": "461ff622-648b-422d-9071-a21a616791ff",
   "metadata": {},
   "source": [
    "---"
   ]
  },
  {
   "cell_type": "markdown",
   "id": "ecfc1e7d-ec92-473f-ba74-d51ede59fe86",
   "metadata": {},
   "source": [
    "## Examples Across Topics"
   ]
  },
  {
   "cell_type": "markdown",
   "id": "6e5f3a3a-a947-4eee-b977-4283101b3cab",
   "metadata": {},
   "source": [
    "### Example 1: Piecewise Function (Limit Exists)\n",
    "Consider the piecewise function:\n",
    "\n",
    "$ f(x) = \\begin{cases}\n",
    "x^2 & \\text{if } x < 1 \\\\\n",
    "2x - 1 & \\text{if } x \\geq 1\n",
    "\\end{cases} $\n",
    "\n",
    "Find $ \\lim_{x \\to 1} f(x) $.\n",
    "\n",
    "- **Standard Method (Preferred)**:\n",
    "  - **Definition and Computation**:\n",
    "    $ \\lim_{x \\to 1} f(x) $\n",
    "    $ \\lim_{x \\to 1^-} f(x) = x^2 = 1^2 = 1 $\n",
    "    $ \\lim_{x \\to 1^+} f(x) = 2x - 1 = 2(1) - 1 = 1 $\n",
    "  - **Compare and Conclude**:\n",
    "    $ 1 = 1 $, so $ \\lim_{x \\to 1} f(x) = 1 $"
   ]
  },
  {
   "cell_type": "markdown",
   "id": "0dd43169-09d8-445f-aad5-e62b9cd829e7",
   "metadata": {},
   "source": [
    "\n",
    "### Example 2: Limit Does Not Exist (D.N.E.)\n",
    "Consider the function:\n",
    "\n",
    "$ g(t) = \\begin{cases}\n",
    "t^2 - t^3 & \\text{if } t < 2 \\\\\n",
    "5t - 14 & \\text{if } t \\geq 2\n",
    "\\end{cases} $\n",
    "\n",
    "Find $ \\lim_{t \\to 2} g(t) $.\n",
    "\n",
    "**Correction Note**: The intended function (from prior discussions) is $ t^2 - t $, evaluating to $ 2 $, leading to D.N.E.\n",
    "\n",
    "- **Standard Method (Preferred)**:\n",
    "  - **Definition and Computation**:\n",
    "    $ \\lim_{t \\to 2} g(t) $\n",
    "    $ \\lim_{t \\to 2^-} g(t) = t^2 - t = 2^2 - 2 = 4 - 2 = 2 $\n",
    "    $ \\lim_{t \\to 2^+} g(t) = 5t - 14 = 5(2) - 14 = 10 - 14 = -4 $\n",
    "  - **Compare and Conclude**:\n",
    "    $ 2 \\neq -4 $, so $ \\lim_{t \\to 2} g(t) \\text{ D.N.E.} $"
   ]
  },
  {
   "cell_type": "markdown",
   "id": "2b2f9584-1233-429f-b99b-fbe3b629f005",
   "metadata": {},
   "source": [
    "### Example 3: Showing D.N.E. with Absolute Function\n",
    "Consider the function with an absolute value:\n",
    "\n",
    "$ h(x) = \\frac{|x|}{x} $\n",
    "\n",
    "Find $ \\lim_{x \\to 0} h(x) $.\n",
    "\n",
    "- **Standard Method (Preferred)**:\n",
    "  - **Definition and Computation**:\n",
    "    $ \\lim_{x \\to 0} \\frac{|x|}{x} $\n",
    "    $ \\lim_{x \\to 0^-} \\frac{|x|}{x} = \\frac{-x}{x} = -1 \\quad (\\text{since } |x| = -x \\text{ for } x < 0) $\n",
    "    $ \\lim_{x \\to 0^+} \\frac{|x|}{x} = \\frac{x}{x} = 1 \\quad (\\text{since } |x| = x \\text{ for } x > 0) $\n",
    "  - **Compare and Conclude**:\n",
    "    $ -1 \\neq 1 $, so $ \\lim_{x \\to 0} \\frac{|x|}{x} \\text{ D.N.E.} $"
   ]
  },
  {
   "cell_type": "markdown",
   "id": "569b99ce-d312-4906-a74a-d9f3ab2c3cf9",
   "metadata": {},
   "source": [
    "### Example 4: Limit of $ g(x) $ at $ x = -3 $\n",
    "Consider the piecewise function:\n",
    "\n",
    "$ g(x) = \\begin{cases} \n",
    "5x + 24 & \\text{if } x < -3 \\\\\n",
    "x^2 - 3 & \\text{if } -3 \\leq x < 4 \\\\\n",
    "1 - 2x & \\text{if } x \\geq 4\n",
    "\\end{cases} $\n",
    "\n",
    "Find $ \\lim_{x \\to -3} g(x) $.\n",
    "\n",
    "- **Standard Method (Preferred)**:\n",
    "  - **Definition and Computation**:\n",
    "    $ \\lim_{x \\to -3} g(x) $\n",
    "    $ \\lim_{x \\to -3^-} g(x) = 5x + 24 = 5(-3) + 24 = -15 + 24 = 9 $\n",
    "    $ \\lim_{x \\to -3^+} g(x) = x^2 - 3 = (-3)^2 - 3 = 9 - 3 = 6 $\n",
    "  - **Compare and Conclude**:\n",
    "    $ 9 \\neq 6 $, so $ \\lim_{x \\to -3} g(x) \\text{ D.N.E.} $"
   ]
  },
  {
   "cell_type": "markdown",
   "id": "1fde7809-7ea0-40af-a5d1-9eb5aa7e4e9c",
   "metadata": {},
   "source": [
    "### Example 5: Limit Where Absolute Function Allows Existence\n",
    "Consider the function:\n",
    "\n",
    "$ f(x) = \\frac{|x|}{x + 1} $\n",
    "\n",
    "Find $ \\lim_{x \\to 0} f(x) $.\n",
    "\n",
    "- **Standard Method (Preferred)**:\n",
    "  - **Definition and Computation**:\n",
    "    $ \\lim_{x \\to 0} \\frac{|x|}{x + 1} $\n",
    "    $ \\lim_{x \\to 0^-} \\frac{|x|}{x + 1} = \\frac{-x}{x + 1} \\to \\frac{0}{1} = 0 \\quad (\\text{since } |x| = -x \\text{ for } x < 0) $\n",
    "    $ \\lim_{x \\to 0^+} \\frac{|x|}{x + 1} = \\frac{x}{x + 1} \\to \\frac{0}{1} = 0 \\quad (\\text{since } |x| = x \\text{ for } x > 0) $\n",
    "  - **Compare and Conclude**:\n",
    "    $ 0 = 0 $, so $ \\lim_{x \\to 0} \\frac{|x|}{x + 1} = 0 $"
   ]
  },
  {
   "cell_type": "markdown",
   "id": "db03f229-d78d-4c81-8dae-bedf0305b5a7",
   "metadata": {},
   "source": [
    "### Example 6: Absolute Function with Odd Power, Symmetric D.N.E.\n",
    "Consider the function:\n",
    "\n",
    "$ k(x) = \\frac{x - 2}{|x - 2|^3} $\n",
    "\n",
    "Find $ \\lim_{x \\to 2} k(x) $.\n",
    "\n",
    "- **Standard Method (Preferred)**:\n",
    "  - **Definition and Computation**:\n",
    "    $ \\lim_{x \\to 2} \\frac{x - 2}{|x - 2|^3} $\n",
    "    $ \\lim_{x \\to 2^-} \\frac{x - 2}{|x - 2|^3} = \\frac{x - 2}{(2 - x)^3} = \\frac{-(2 - x)}{(2 - x)^3} = \\frac{-1}{(2 - x)^2} \\to -\\infty $\n",
    "    $ \\lim_{x \\to 2^+} \\frac{x - 2}{|x - 2|^3} = \\frac{x - 2}{(x - 2)^3} = \\frac{1}{(x - 2)^2} \\to +\\infty $\n",
    "  - **Compare and Conclude**:\n",
    "    $ -\\infty \\neq +\\infty $, so $ \\lim_{x \\to 2} \\frac{x - 2}{|x - 2|^3} \\text{ D.N.E.} $"
   ]
  },
  {
   "cell_type": "markdown",
   "id": "c0e999a5-5cd8-443e-8113-fef828beb45f",
   "metadata": {},
   "source": [
    "### Example 7: Problem 27 - $ \\lim_{h \\to 0} \\frac{|h|}{h} $\n",
    "- **Standard Method (Preferred)**:\n",
    "  - **Definition and Computation**:\n",
    "    $ \\lim_{h \\to 0} \\frac{|h|}{h} $\n",
    "    $ \\lim_{h \\to 0^-} \\frac{|h|}{h} = \\frac{-h}{h} = -1 $\n",
    "    $ \\lim_{h \\to 0^+} \\frac{|h|}{h} = \\frac{h}{h} = 1 $\n",
    "  - **Compare and Conclude**:\n",
    "    $ -1 \\neq 1 $, so $ \\lim_{h \\to 0} \\frac{|h|}{h} \\text{ D.N.E.} $"
   ]
  },
  {
   "cell_type": "markdown",
   "id": "6c2a2fe1-6855-46eb-8fb0-ef6a81b07d1e",
   "metadata": {},
   "source": [
    "### Example 8: Problem 28 - $ \\lim_{t \\to 2} \\frac{2 - t}{|t - 2|} $\n",
    "- **Standard Method (Preferred)**:\n",
    "  - **Definition and Computation**:\n",
    "    $ \\lim_{t \\to 2} \\frac{2 - t}{|t - 2|} $\n",
    "    $ \\lim_{t \\to 2^-} \\frac{2 - t}{|t - 2|} = \\frac{2 - t}{2 - t} = 1 $\n",
    "    $ \\lim_{t \\to 2^+} \\frac{2 - t}{|t - 2|} = \\frac{2 - t}{t - 2} = \\frac{-(t - 2)}{t - 2} = -1 $\n",
    "  - **Compare and Conclude**:\n",
    "    $ 1 \\neq -1 $, so $ \\lim_{t \\to 2} \\frac{2 - t}{|t - 2|} \\text{ D.N.E.} $"
   ]
  },
  {
   "cell_type": "markdown",
   "id": "732ac6c9-3964-4c95-b868-ce5989282b9c",
   "metadata": {},
   "source": [
    "### Example 9: Problem 29 - $ \\lim_{w \\to -5} \\frac{|2w + 10|}{w + 5} $\n",
    "- **Standard Method (Preferred)**:\n",
    "  - **Definition and Computation**:\n",
    "    $ \\lim_{w \\to -5} \\frac{|2w + 10|}{w + 5} $\n",
    "    $ \\lim_{w \\to -5^-} \\frac{|2w + 10|}{w + 5} = \\frac{-2w - 10}{w + 5} = \\frac{-2(w + 5)}{w + 5} = -2 $\n",
    "    $ \\lim_{w \\to -5^+} \\frac{|2w + 10|}{w + 5} = \\frac{2w + 10}{w + 5} = \\frac{2(w + 5)}{w + 5} = 2 $\n",
    "  - **Compare and Conclude**:\n",
    "    $ -2 \\neq 2 $, so $ \\lim_{w \\to -5} \\frac{|2w + 10|}{w + 5} \\text{ D.N.E.} $"
   ]
  },
  {
   "cell_type": "markdown",
   "id": "2f31c708-f915-4104-b866-8dc4432cb49f",
   "metadata": {},
   "source": [
    "### Example 10: Problem 30 - $ \\lim_{x \\to 4} \\frac{|x - 4|}{x^2 - 16} $\n",
    "- **Standard Method (Preferred)**:\n",
    "  - **Definition and Computation**:\n",
    "    $ \\lim_{x \\to 4} \\frac{|x - 4|}{x^2 - 16} $\n",
    "    $ \\lim_{x \\to 4^-} \\frac{|x - 4|}{x^2 - 16} = \\frac{4 - x}{(x - 4)(x + 4)} = \\frac{-1}{x + 4} \\to \\frac{-1}{8} $\n",
    "    $ \\lim_{x \\to 4^+} \\frac{|x - 4|}{x^2 - 16} = \\frac{x - 4}{(x - 4)(x + 4)} = \\frac{1}{x + 4} \\to \\frac{1}{8} $\n",
    "  - **Compare and Conclude**:\n",
    "    $ \\frac{-1}{8} \\neq \\frac{1}{8} $, so $ \\lim_{x \\to 4} \\frac{|x - 4|}{x^2 - 16} \\text{ D.N.E.} $"
   ]
  },
  {
   "cell_type": "markdown",
   "id": "b6784a56-7b0c-4a4c-8000-7f54768b0bce",
   "metadata": {},
   "source": [
    "### Example 11: Rationalizing Denominator Doesn’t Resolve Division by Zero\n",
    "Consider the function:\n",
    "\n",
    "$ f(x) = \\frac{1}{\\sqrt{x} - 2} $\n",
    "\n",
    "Find $ \\lim_{x \\to 4} f(x) $.\n",
    "\n",
    "- **Standard Method (Preferred)**:\n",
    "  - **Definition and Computation**:\n",
    "    $ \\lim_{x \\to 4} \\frac{1}{\\sqrt{x} - 2} $\n",
    "    - Rationalize denominator: $ \\frac{1}{\\sqrt{x} - 2} \\cdot \\frac{\\sqrt{x} + 2}{\\sqrt{x} + 2} = \\frac{\\sqrt{x} + 2}{x - 4} $.\n",
    "    - $ \\lim_{x \\to 4^-} \\frac{\\sqrt{x} + 2}{x - 4} $:\n",
    "      - Numerator: $ \\sqrt{x} + 2 \\to 4 $.\n",
    "      - Denominator: $ x - 4 \\to 0^- $, so $ \\frac{4}{0^-} \\to -\\infty $.\n",
    "    - $ \\lim_{x \\to 4^+} \\frac{\\sqrt{x} + 2}{x - 4} $:\n",
    "      - Numerator: $ \\sqrt{x} + 2 \\to 4 $.\n",
    "      - Denominator: $ x - 4 \\to 0^+ $, so $ \\frac{4}{0^+} \\to +\\infty $.\n",
    "  - **Compare and Conclude**:\n",
    "    $ -\\infty \\neq +\\infty $, so $ \\lim_{x \\to 4} \\frac{1}{\\sqrt{x} - 2} \\text{ D.N.E.} $\n",
    "  - **Note**: Rationalizing the denominator didn’t eliminate the division by zero; the denominator $ x - 4 \\to 0 $."
   ]
  },
  {
   "cell_type": "markdown",
   "id": "31ddfb0d-c1ef-42e8-b8ec-996a3974566b",
   "metadata": {},
   "source": [
    "### Example 12: Rationalizing Denominator Resolves Division by Zero\n",
    "Consider the function:\n",
    "\n",
    "$ f(x) = \\frac{x - 9}{\\sqrt{x} - 3} $\n",
    "\n",
    "Find $ \\lim_{x \\to 9} f(x) $.\n",
    "\n",
    "- **Standard Method (Preferred)**:\n",
    "  - **Definition and Computation**:\n",
    "    $ \\lim_{x \\to 9} \\frac{x - 9}{\\sqrt{x} - 3} $\n",
    "    - Rationalize denominator: $ \\frac{(x - 9)(\\sqrt{x} + 3)}{(\\sqrt{x} - 3)(\\sqrt{x} + 3)} = \\frac{(x - 9)(\\sqrt{x} + 3)}{x - 9} = \\sqrt{x} + 3 \\quad (x \\neq 9) $.\n",
    "    - $ \\lim_{x \\to 9} (\\sqrt{x} + 3) = \\sqrt{9} + 3 = 6 $.\n",
    "  - **Compare and Conclude**:\n",
    "    $ \\lim_{x \\to 9} \\frac{x - 9}{\\sqrt{x} - 3} = 6 $\n",
    "  - **Note**: Rationalizing the denominator resolved the division by zero by canceling the $ x - 9 $, leaving an expression with no denominator approaching 0."
   ]
  },
  {
   "cell_type": "markdown",
   "id": "b0df78c7-b1c3-4d58-a1e8-272f29b281dd",
   "metadata": {},
   "source": [
    "### Example 13: Rationalizing Denominator Doesn’t Resolve Division by Zero\n",
    "Consider the function:\n",
    "\n",
    "$ f(x) = \\frac{x + 1}{\\sqrt{x} - 1} $\n",
    "\n",
    "Find $ \\lim_{x \\to 1} f(x) $.\n",
    "\n",
    "- **Standard Method (Preferred)**:\n",
    "  - **Definition and Computation**:\n",
    "    $ \\lim_{x \\to 1} \\frac{x + 1}{\\sqrt{x} - 1} $\n",
    "    - Rationalize denominator: $ \\frac{(x + 1)(\\sqrt{x} + 1)}{(\\sqrt{x} - 1)(\\sqrt{x} + 1)} = \\frac{(x + 1)(\\sqrt{x} + 1)}{x - 1} $.\n",
    "    - $ \\lim_{x \\to 1^-} \\frac{(x + 1)(\\sqrt{x} + 1)}{x - 1} $:\n",
    "      - Numerator: $ (x + 1)(\\sqrt{x} + 1) \\to 4 $.\n",
    "      - Denominator: $ x - 1 \\to 0^- $, so $ \\frac{4}{0^-} \\to -\\infty $.\n",
    "    - $ \\lim_{x \\to 1^+} \\frac{(x + 1)(\\sqrt{x} + 1)}{x - 1} $:\n",
    "      - Numerator: $ (x + 1)(\\sqrt{x} + 1) \\to 4 $.\n",
    "      - Denominator: $ x - 1 \\to 0^+ $, so $ \\frac{4}{0^+} \\to +\\infty $.\n",
    "  - **Compare and Conclude**:\n",
    "    $ -\\infty \\neq +\\infty $, so $ \\lim_{x \\to 1} \\frac{x + 1}{\\sqrt{x} - 1} \\text{ D.N.E.} $\n",
    "  - **Note**: Rationalizing the denominator didn’t eliminate the division by zero because there was no cancellation with $ x - 1 $.\n"
   ]
  },
  {
   "cell_type": "markdown",
   "id": "ed22bd35-af60-41d2-91b9-6dbae6d010f1",
   "metadata": {},
   "source": [
    "### Example 14: Limit of $ g(x) $ at $ x = 4 $\n",
    "Consider the piecewise function:\n",
    "\n",
    "$ g(x) = \\begin{cases} \n",
    "5x + 24 & \\text{if } x < -3 \\\\\n",
    "x^2 - 3 & \\text{if } -3 \\leq x < 4 \\\\\n",
    "1 - 2x & \\text{if } x \\geq 4\n",
    "\\end{cases} $\n",
    "\n",
    "Find $ \\lim_{x \\to 4} g(x) $.\n",
    "\n",
    "- **Standard Method (Preferred)**:\n",
    "  - **Definition and Computation**:\n",
    "    $ \\lim_{x \\to 4} g(x) $\n",
    "    $ \\lim_{x \\to 4^-} g(x) = x^2 - 3 = 4^2 - 3 = 16 - 3 = 13 $\n",
    "    $ \\lim_{x \\to 4^+} g(x) = 1 - 2x = 1 - 2(4) = 1 - 8 = -7 $\n",
    "  - **Compare and Conclude**:\n",
    "    $ 13 \\neq -7 $, so $ \\lim_{x \\to 4} g(x) \\text{ D.N.E.} $"
   ]
  },
  {
   "cell_type": "markdown",
   "id": "3a4abd44-52bc-46c3-853e-c523253c518e",
   "metadata": {},
   "source": [
    "### Example 15: Limit of $ g(x) $ at $ x = 12 $\n",
    "Consider the same function:\n",
    "\n",
    "$ g(x) = \\begin{cases} \n",
    "5x + 24 & \\text{if } x < -3 \\\\\n",
    "x^2 - 3 & \\text{if } -3 \\leq x < 4 \\\\\n",
    "1 - 2x & \\text{if } x \\geq 4\n",
    "\\end{cases} $\n",
    "\n",
    "Find $ \\lim_{x \\to 12} g(x) $.\n",
    "\n",
    "- **Standard Method (Preferred)**:\n",
    "  - **Definition and Computation**:\n",
    "    $ \\lim_{x \\to 12} g(x) $\n",
    "    $ \\lim_{x \\to 12^-} g(x) = 1 - 2x = 1 - 2(12) = 1 - 24 = -23 $\n",
    "    $ \\lim_{x \\to 12^+} g(x) = 1 - 2x = 1 - 2(12) = 1 - 24 = -23 $\n",
    "  - **Compare and Conclude**:\n",
    "    $ -23 = -23 $, so $ \\lim_{x \\to 12} g(x) = -23 $"
   ]
  },
  {
   "cell_type": "markdown",
   "id": "b11be863-7a62-498d-99f0-ac42765a29df",
   "metadata": {},
   "source": [
    "## Conclusion\n",
    "\n",
    "Understanding left-hand and right-hand limits is crucial for evaluating limits, especially for piecewise functions and those involving discontinuities. Rationalizing the denominator doesn’t inherently eliminate division by zero—it requires a cancellation to remove the term (e.g., $ x - a^2 $) causing the denominator to approach zero, as you’ve insightfully concluded. Your work with absolute functions (problems 27–30) highlights patterns like symmetric D.N.E., while your exploration of rationalizing the denominator deepens the understanding of limit techniques.\n"
   ]
  },
  {
   "cell_type": "markdown",
   "id": "ae98362a-bd25-4d3a-b7cb-e750186e1be1",
   "metadata": {},
   "source": [
    "## Notes\n",
    "- **Piecewise Context**: All examples assume piecewise definitions based on given expressions.\n",
    "- **Proof Interpretation**: The method acts as a proof by contradiction when the limit does not exist, and as a direct proof when the limit exists.\n",
    "- **Rationale**: The standard method (4 lines) is your preferred choice for its alignment with formal mathematics.\n",
    "- **Learning Journey**: This notebook consolidates your exploration of limit methods, piecewise functions, absolute functions, and rationalizing, reflecting your growth."
   ]
  }
 ],
 "metadata": {
  "kernelspec": {
   "display_name": "Python 3 (ipykernel)",
   "language": "python",
   "name": "python3"
  },
  "language_info": {
   "codemirror_mode": {
    "name": "ipython",
    "version": 3
   },
   "file_extension": ".py",
   "mimetype": "text/x-python",
   "name": "python",
   "nbconvert_exporter": "python",
   "pygments_lexer": "ipython3",
   "version": "3.12.9"
  }
 },
 "nbformat": 4,
 "nbformat_minor": 5
}
