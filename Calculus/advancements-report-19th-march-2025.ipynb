{
 "cells": [
  {
   "cell_type": "markdown",
   "id": "43b810ca-b604-421e-bce1-384a280d3edd",
   "metadata": {},
   "source": [
    "# **Summary of Key Learnings**"
   ]
  },
  {
   "cell_type": "markdown",
   "id": "4de21bf8-9ba4-44b8-bda2-a65d8f373516",
   "metadata": {},
   "source": [
    "# Leading Term Analysis for Limits\n",
    "\n",
    "- **Variable in the Base**: For expressions like $e^{\\frac{p(x)}{q(x)}}$, apply leading term analysis to the polynomials $p(x)$ and $q(x)$ by comparing highest-degree terms, then evaluate the resulting exponential.\n",
    "- **Variable in the Exponent**: For sums like $a e^{kx}$, the leading term depends on the sign of $k$ and the direction of $x$: positive $k$ dominates as $x \\to +\\infty$, negative $k$ dominates as $x \\to -\\infty$."
   ]
  },
  {
   "cell_type": "markdown",
   "id": "28c22650-082e-4ad5-bfd7-283eeb28e965",
   "metadata": {},
   "source": [
    "## 1. Leading-Term Analysis vs. Standard Way\n",
    "\n",
    "#### Leading-Term Analysis\n",
    "- **Method**: Focus on the term with the largest power.\n",
    "- **Application**: The dominant term is $4x^7$. As $x \\to -\\infty$, $x^7 \\to -\\infty$, so $4x^7 \\to -\\infty$. Smaller terms ($-18x^3$, $9$) are negligible.\n",
    "- **Result**: The limit is $-\\infty$.\n",
    "\n",
    "#### My Proposed Method for Rational Expressions\n",
    "- **Method**: For rational expressions, take the largest term in the numerator and divide by the denominator, replacing approximate equality with exact equality.\n",
    "- **Justification**: Smaller terms become negligible at large $|x|$, so the largest term dictates the tendency.\n",
    "\n",
    "#### Standard Approach\n",
    "- **Method**: Divide numerator and denominator by the highest power of $x$ in the denominator ($x^{-3}$).\n",
    "- **Application**:\n",
    "  - Numerator: $4 - \\frac{18}{x^4} + \\frac{9}{x^7} \\to 4$.\n",
    "  - Denominator: $\\frac{2}{x^3} + \\frac{5}{x^5} + \\frac{1}{x^7} \\to \\frac{2}{x^3} \\cdot x^3 = 2$.\n",
    "  - Limit: $\\frac{4}{2} = 2$.\n",
    "- **Polarity Check**: Leading terms are $-\\frac{18}{x^4}$ (numerator) and $\\frac{2}{x^3}$ (denominator). As $x \\to -\\infty$, numerator is negative, denominator is negative, so the overall polarity is positive, confirming the limit is $2$.\n",
    "\n",
    "#### Comparison\n",
    "- **Leading-Term Analysis**: Faster, skips polarity of smaller terms.\n",
    "- **Standard Approach**: More rigorous, requires an extra polarity check.\n",
    "- **Conclusion**: Both methods can yield correct results, but leading-term analysis is more efficient for quick evaluations."
   ]
  },
  {
   "cell_type": "markdown",
   "id": "6e8548b3-6dce-4f09-9c32-85775760d91e",
   "metadata": {},
   "source": [
    "## Leading-Term Analysis for Fractions\n",
    "\n",
    "#### Realization\n",
    "- **Reason**: A fraction represents a relationship between numerator and denominator. Focusing only on one part ignores the fraction as a whole.\n",
    "- **Example**: For $\\frac{x^7}{x^3}$:\n",
    "  - Largest term overall: $x^7$, suggests limit is $-\\infty$ as $x \\to -\\infty$.\n",
    "  - Correct method: $\\frac{x^7}{x^3} = x^4$, limit is $+\\infty$ (even power).\n",
    "- **Conclusion**: Leading-term analysis works best for non-fractions (denominator = 1). Fractions require considering two relative rates: within numerator/denominator and between them."
   ]
  },
  {
   "cell_type": "markdown",
   "id": "85581f19-6b42-48dd-8085-bfbd81f63145",
   "metadata": {},
   "source": [
    "## Limit Analysis of Exponential Functions\n",
    "\n",
    "We evaluate the limits of the given functions as $x \\to +\\infty$ and $x \\to -\\infty$.\n",
    "\n",
    "#### Question 2: $f(x) = e^{\\frac{6x^2 + x}{5 + 3x}}$\n",
    "\n",
    "- **As $x \\to +\\infty$**: Exponent $\\frac{6x^2}{3x} = 2x \\to +\\infty$, so $f(x) \\to +\\infty$.\n",
    "- **As $x \\to -\\infty$**: Exponent $2x \\to -\\infty$, so $f(x) \\to 0$.\n",
    "\n",
    "#### Question 3: $f(x) = 2e^{6x} - e^{-7x} - 10e^{4x}$\n",
    "\n",
    "- **As $x \\to +\\infty$**: Dominated by $2e^{6x}$, so $f(x) \\to +\\infty$.\n",
    "- **As $x \\to -\\infty$**: Dominated by $-e^{-7x}$, so $f(x) \\to -\\infty$.\n",
    "\n",
    "#### Question 4: $f(x) = 3e^{-x} - 8e^{-5x} - e^{10x}$\n",
    "\n",
    "- **As $x \\to +\\infty$**: Dominated by $-e^{10x}$, so $f(x) \\to -\\infty$.\n",
    "- **As $x \\to -\\infty$**: Dominated by $-8e^{-5x}$, so $f(x) \\to -\\infty$.\n",
    "\n",
    "#### Question 5: $f(x) = \\frac{e^{-3x} - 2e^{8x}}{9e^{8x} - 7e^{-3x}}$\n",
    "\n",
    "- **As $x \\to +\\infty$**: $f(x) \\to -\\frac{2}{9}$.\n",
    "- **As $x \\to -\\infty$**: $f(x) \\to -\\frac{1}{7}$.\n",
    "\n",
    "#### Question 6: $f(x) = \\frac{e^{-7x} - 2e^{3x} - e^{x}}{e^{-x} + 16e^{10x} + 2e^{-4x}}$\n",
    "\n",
    "- **As $x \\to +\\infty$**: $f(x) \\to 0$.\n",
    "- **As $x \\to -\\infty$**: $f(x) \\to +\\infty$.\n",
    "\n",
    "### Main Lesson: Identifying the Leading Term\n",
    "\n",
    "- **Variable in the base (e.g., Question 2)**: For $f(x) = e^{\\frac{6x^2 + x}{5 + 3x}}$, apply leading term analysis to the polynomials in the exponent. The leading terms are $6x^2$ (numerator) and $3x$ (denominator), so the exponent becomes $\\frac{6x^2}{3x} = 2x$. Then evaluate $e^{2x}$ based on the direction of $x$.\n",
    "- **Variable in the exponent (e.g., Questions 3–6)**: For $f(x) = 2e^{6x} - e^{-7x} - 10e^{4x}$, the leading term depends on the sign of the exponent and the direction of $x$:\n",
    "  - As $x \\to +\\infty$, terms with positive exponents dominate (e.g., $e^{6x}$ with the largest exponent $6x$).\n",
    "  - As $x \\to -\\infty$, terms with negative exponents dominate (e.g., $e^{-7x}$).\n",
    "- **Key Difference**: When $x$ is in the base, use polynomial leading term analysis inside the exponent. When $x$ is in the exponent, focus on the sign and magnitude of the exponents, determined by the direction of $x$."
   ]
  },
  {
   "cell_type": "markdown",
   "id": "864a24a3-4157-42f0-ae57-69be542c49d5",
   "metadata": {},
   "source": [
    "### Limits of $g(z) = 7 + 8z + \\sqrt{z^{4/3}}$\n",
    "\n",
    "## Initial Misconception\n",
    "I thought $\\sqrt{z^{4/3}}$ was the dominant term, leading to limits of $+\\infty$ in both directions due to its even power.\n",
    "\n",
    "## Corrected Analysis\n",
    "- **Dominant Term**: $8z$ (degree 1) dominates over $\\sqrt{z^{4/3}}$ (degree $\\frac{4}{3} \\div 2 = \\frac{2}{3}$).\n",
    "- **Limits**:\n",
    "  - $\\lim_{z \\to \\infty} g(z) = +\\infty$.\n",
    "  - $\\lim_{z \\to -\\infty} g(z) = -\\infty$.\n",
    "- **Range**: $(-\\infty, \\infty)$, as $g(z)$ is continuous and unbounded."
   ]
  },
  {
   "cell_type": "markdown",
   "id": "050a62b8-c077-4d0d-80b4-41e90f4f8d7a",
   "metadata": {},
   "source": [
    "---"
   ]
  },
  {
   "cell_type": "markdown",
   "id": "c6686b1a-5d44-41e0-80dc-cdf3b92b6d57",
   "metadata": {},
   "source": [
    "## 2. Asymptotes: Definitions and Methods\n",
    "\n",
    "#### Methods to Find Asymptotes\n",
    "- **Vertical Asymptotes**: Substitute $x$ values where the function is undefined (e.g., division by 0 in rational expressions).\n",
    "- **Horizontal Asymptotes**:\n",
    "  - **Limit Method**: Evaluate $\\lim_{x \\to \\pm \\infty} f(x)$. If the limit is a finite value, that’s the horizontal asymptote.\n",
    "  - **Substitution Method**: Redefine $x$ in terms of $y$, then let $y \\to \\pm \\infty$.\n",
    "\n",
    "#### Success of Leading-Term Analysis\n",
    "For the equation $2yx^4 = 4x^7$:\n",
    "- **Limit Method**: Already determined limits as $x \\to \\pm \\infty$, so no need to analyze the inverse function.\n",
    "- **Factoring Method**:\n",
    "  - Rewrite: $x^7 \\left( \\frac{2}{x^3} y - 4 \\right) = 0$.\n",
    "  - Ignore $x^7$, solve: $\\frac{2}{x^3} y - 4 = 0$, so $y = 2x^3$.\n",
    "  - Inverse: $x = \\sqrt[3]{\\frac{y}{2}}$.\n",
    "  - Simplified: From $2yx^4 = 4x^7$, reduce to $2y = 4x^3$, so $x = \\sqrt[3]{\\frac{y}{2}}$.\n",
    "- **Range of Inverse**: The cube root has a range of all real numbers, confirming the values of $y$ for which $x$ is undefined.\n",
    "\n",
    "#### Dividing by $x$\n",
    "- **Question**: Why can we divide by $x$ when finding asymptotes?\n",
    "- **Answer**: Asymptotes describe tendencies as $x \\to \\pm \\infty$, so $x = 0$ is irrelevant. We focus on large $|x|$, making division by $x$ safe.\n",
    "\n",
    "#### Trigonometric Functions\n",
    "- **Note**: When finding inverse trigonometric functions, reintroduce periodicity to preserve the correct structure."
   ]
  },
  {
   "cell_type": "markdown",
   "id": "f8a4ce66-0af7-45f4-a141-7cf6b8ac4b71",
   "metadata": {},
   "source": [
    "### Asymptotes and Range Misconception\n",
    "\n",
    "#### Misconception\n",
    "I assumed that no horizontal asymptote meant the range is all real numbers.\n",
    "\n",
    "#### Correction\n",
    "- **Clarification**: The absence of an asymptote only means no asymptote exists, not that the range is all real numbers.\n",
    "- **Example**: Functions may tend to one side of infinity without an asymptote (e.g., $x^2$, range $[0, \\infty)$).\n",
    "\n",
    "#### Application\n",
    "- **$g(z)$**: No horizontal asymptotes, range $(-\\infty, \\infty)$.\n",
    "- **$f(x)$**: Horizontal asymptotes at $\\pm \\frac{3}{2}$, range $(-\\infty, \\infty)$ due to vertical asymptote at $x = \\frac{1}{2}$."
   ]
  },
  {
   "cell_type": "markdown",
   "id": "2a7b988e-63cc-4fe6-9610-d90c9e1e736b",
   "metadata": {},
   "source": [
    "---"
   ]
  },
  {
   "cell_type": "markdown",
   "id": "81b6f984-b4cd-4f87-a46f-fa5955c12478",
   "metadata": {},
   "source": [
    "## 3. Square Root Definition and Polarity\n",
    "\n",
    "### Clarification\n",
    "- **Definition**: $\\sqrt{x^2} = |x|$, not $x$, because the square root always outputs a positive value.\n",
    "\n",
    "#### Misconception in Evaluating $f(x) = \\frac{\\sqrt{7 + 9x^2}}{1 - 2x}$\n",
    "- **Mistake**: I tried to rewrite the denominator $1 - 2x$ as $\\sqrt{(1 - 2x)^2}$, thinking $a = \\sqrt{a^2}$, but this changes the function since $\\sqrt{(1 - 2x)^2} = |1 - 2x|$.\n",
    "- **Correction**: Since $\\sqrt{a^2} = |a|$, $a = \\sqrt{a^2}$ or $a = -\\sqrt{a^2}$, depending on polarity. For $1 - 2x$, which is negative for large $x$, I should have used $-\\sqrt{(1 - 2x)^2}$.\n",
    "\n",
    "#### Reflection\n",
    "- **Surprise**: I hadn’t caught this before calculus, questioning the comprehensiveness of my resources (Paul’s Math Notes).\n",
    "- **Resolution**: I’ll write square roots as moduli (e.g., $\\sqrt{x^2} = |x|$) and simplify to $x$ or $-x$ as needed, advocating for earlier, rigorous education.\n",
    "\n",
    "#### Faster Method Using Leading-Term Analysis\n",
    "- **Method**: Avoid radicals in the denominator. For $f(x)$:\n",
    "  - Numerator: $\\sqrt{7 + 9x^2} \\sim 3|x|$.\n",
    "  - Denominator: $1 - 2x \\sim -2x$.\n",
    "  - Simplified: $\\frac{3|x|}{-2x}$.\n",
    "  - Limits: $\\frac{3x}{-2x} = -\\frac{3}{2}$ as $x \\to \\infty$, $\\frac{3(-x)}{-2x} = \\frac{3}{2}$ as $x \\to -\\infty$.\n",
    "- **Benefit**: Skips quadratic expansion, reducing complexity.\n",
    "\n",
    "#### Importance of Polarity in Leading-Term Analysis\n",
    "- **Note**: When using leading-term analysis, carry the polarity of the highest term, not just its magnitude."
   ]
  },
  {
   "cell_type": "markdown",
   "id": "437b1a7d-d932-4298-9bef-4345b82d9f0f",
   "metadata": {},
   "source": [
    "---"
   ]
  },
  {
   "cell_type": "markdown",
   "id": "0642f288-7775-40cc-af8f-5049c2b2c8ac",
   "metadata": {},
   "source": [
    "## 4. Learning Reflections and Goals\n",
    "\n",
    "#### Self-Reflection\n",
    "- **Foundation Gaps**: I was shocked to find gaps in my foundational knowledge (e.g., square root definition), despite my best efforts.\n",
    "- **Comparison with Peers**: My math-savvy friends excel due to passion, practice, and rigorous training (e.g., Olympiads). I feel slower but have time, interest, and motivation to improve before university.\n",
    "- **Natural Ability**: Natural skill amplifies both success and errors, like a fast RAM needing a smart program. Slow learners develop efficient strategies out of necessity.\n",
    "\n",
    "#### Having a Growth Mindset\n",
    "\n",
    "#### Revised Goals\n",
    "- **Math Focus**: Complete calculus via Paul’s Math Notes, then study linear algebra, discrete math, combinatorics, sequences and series, and vectors.\n",
    "- **Coding**: Incorporate small projects to build a portfolio for my computer science major, using iterative coding to overcome perfectionism.\n",
    "- **Advanced Learning**: Consider Olympiad-level math and geometric proofs to develop rigorous thinking.\n",
    "\n",
    "#### Perfectionism Challenge\n",
    "- **Issue**: I seek perfect understanding, preferring math over coding because I aim for clean code on the first try.\n",
    "- **Solution**: Adopt iterative coding to balance perfectionism with progress."
   ]
  },
  {
   "cell_type": "markdown",
   "id": "dbc3402e-1acf-4d07-a29c-b16799924d8a",
   "metadata": {},
   "source": [
    "---"
   ]
  },
  {
   "cell_type": "markdown",
   "id": "b85c4ad7-7f33-4d00-8e8d-b7b7cd5f4f25",
   "metadata": {},
   "source": [
    "## 5. Rationalization Preferences\n",
    "\n",
    "#### Initial Question\n",
    "I questioned whether final answers should be rationalized (e.g., $\\frac{1}{\\sqrt{2}} \\to \\frac{\\sqrt{2}}{2}$), unsure why rationalization is preferred despite my training.\n",
    "\n",
    "#### Conditional Strategy\n",
    "- **Initial Rule**: Rationalize only if the answer is needed for subsequent questions; otherwise, leave it unrationalized.\n",
    "\n",
    "#### Revised Preference\n",
    "- **Preference**: I prefer rationalized forms due to familiarity (e.g., $\\sin 45^\\circ = \\frac{\\sqrt{2}}{2}$) and because multiplication is simpler than division.\n",
    "- **Conclusion**: Rationalizing makes sense to move the irrational part to the numerator."
   ]
  },
  {
   "cell_type": "markdown",
   "id": "fffe2da7-e28e-41a8-9ce9-236713255edc",
   "metadata": {},
   "source": [
    "---"
   ]
  },
  {
   "cell_type": "markdown",
   "id": "b201c76d-34a7-4b7b-aa79-88128889605c",
   "metadata": {},
   "source": [
    "## 6. Behavior of $x$ in Numerator vs. Denominator\n",
    "\n",
    "#### Observation\n",
    "- **Denominator**: If $x$ is in the denominator (e.g., $\\frac{1}{x}$), the limit is 0 as $x \\to \\pm \\infty$, regardless of polarity.\n",
    "- **Numerator**: If $x$ is in the numerator, the limit diverges to $\\pm \\infty$, and polarity matters.\n",
    "\n",
    "#### Application\n",
    "- **$g(z)$**: $8z$ in the numerator, limits $\\pm \\infty$.\n",
    "- **$f(x)$**: Degrees match, finite limits $\\pm \\frac{3}{2}$."
   ]
  },
  {
   "cell_type": "markdown",
   "id": "9aadfdfd-d3e3-4ac7-91b9-2b3d6e3ba1c5",
   "metadata": {},
   "source": [
    "---"
   ]
  },
  {
   "cell_type": "markdown",
   "id": "59fcebe4-f2ea-4745-97ac-aec50fb3eaff",
   "metadata": {},
   "source": [
    "## 7. Square Roots and Opposite Limits\n",
    "\n",
    "#### Observation\n",
    "Expressions with square roots (e.g., $\\sqrt{x^2} = |x|$) often lead to opposite limits as $x \\to \\pm \\infty$, due to the absolute value changing behavior based on $x$’s sign.\n",
    "\n",
    "#### Application\n",
    "- **$g(z)$**: Limits driven by $8z$, not the square root term.\n",
    "- **$f(x)$**: Limits $\\pm \\frac{3}{2}$, reflecting $\\sqrt{9x^2} = 3|x|$."
   ]
  },
  {
   "cell_type": "markdown",
   "id": "0204fad7-2717-4594-bdd1-ec67a21fc2af",
   "metadata": {},
   "source": [
    "---"
   ]
  },
  {
   "cell_type": "markdown",
   "id": "99bc797b-aafd-4e7a-aed8-5635ed009d67",
   "metadata": {},
   "source": [
    "### Insights from Problems 14–17\n",
    "\n",
    "#### Problem 14: $f(x) = \\frac{\\sqrt{9x^4 + 2x^2 + 3}}{5x - 2x^2}$\n",
    "- **Limits**: As $x \\to \\pm \\infty$, $f(x) \\approx \\frac{\\sqrt{9x^4}}{-2x^2} = \\frac{3x^2}{-2x^2} = -\\frac{3}{2}$.\n",
    "- **Insight**: Even powers under square roots (e.g., $\\sqrt{9x^4} = 3x^2$) simplify without modulus.\n",
    "\n",
    "#### Problem 15: $f(x) = \\frac{6 + x^3}{\\sqrt{8 + 4x^6}}$\n",
    "- **Limits**:\n",
    "  - As $x \\to \\infty$, $f(x) \\approx \\frac{x^3}{\\sqrt{4x^6}} = \\frac{x^3}{2x^3} = \\frac{1}{2}$.\n",
    "  - As $x \\to -\\infty$, $f(x) \\approx \\frac{x^3}{2|x|^3} = -\\frac{1}{2}$.\n",
    "- **Insight**: Odd powers in the numerator with even roots in the denominator depend on polarity.\n",
    "\n",
    "#### Problem 16: $f(x) = \\frac{\\sqrt[3]{2 - 8x^3}}{4 + 7x}$\n",
    "- **Limits**: As $x \\to \\pm \\infty$, $f(x) \\approx \\frac{\\sqrt[3]{-8x^3}}{7x} = \\frac{-2x}{7x} = -\\frac{2}{7}$.\n",
    "- **Insight**: Odd roots (cube root) preserve the sign, simplifying analysis.\n",
    "\n",
    "#### Problem 17: $f(x) = \\frac{1 + x}{\\sqrt[4]{5 + 2x^4}}$\n",
    "- **Limits**:\n",
    "  - As $x \\to \\infty$, $f(x) \\approx \\frac{x}{\\sqrt[4]{2x^4}} = \\frac{1}{\\sqrt[4]{2}}$.\n",
    "  - As $x \\to -\\infty$, $f(x) \\approx \\frac{-|x|}{\\sqrt[4]{2} \\cdot |x|} = -\\frac{1}{\\sqrt[4]{2}}$.\n",
    "- **Rationalization**: $\\frac{1}{\\sqrt[4]{2}} = \\frac{\\sqrt[4]{8}}{2}$, and similarly for the negative case.\n",
    "- **Insight**: Even roots require modulus, rationalization aligns with my preference."
   ]
  },
  {
   "cell_type": "markdown",
   "id": "6ee64284-50bc-499a-aa46-b025a9794521",
   "metadata": {},
   "source": [
    "---"
   ]
  },
  {
   "cell_type": "markdown",
   "id": "09c08d53-8794-4705-97c2-e97b32898d7d",
   "metadata": {},
   "source": [
    "## 8. Rationalizing a 4th Root Denominator\n",
    "\n",
    "#### Problem\n",
    "Rationalize $\\frac{1}{\\sqrt[4]{2}}$.\n",
    "\n",
    "#### Solution\n",
    "- Multiply by $(\\sqrt[4]{2})^3$:\n",
    "  $\n",
    "  \\frac{1}{\\sqrt[4]{2}} \\times \\frac{(\\sqrt[4]{2})^3}{(\\sqrt[4]{2})^3} = \\frac{(\\sqrt[4]{2})^3}{(\\sqrt[4]{2})^4} = \\frac{\\sqrt[4]{8}}{2}\n",
    "  $\n",
    "\n",
    "#### Fallacy\n",
    "- **Mistake**: I interpreted “multiply by 3 more times” as $3 \\cdot \\sqrt[4]{2}$ (addition), but meant $(\\sqrt[4]{2})^3$ (exponentiation).\n",
    "- **Correction**: “Times” refers to repeated multiplication, i.e., exponentiation.\n",
    "\n",
    "#### General Method\n",
    "For $\\frac{1}{\\sqrt[n]{a}}$, multiply by $(\\sqrt[n]{a})^{n-1}$ to get $\\frac{\\sqrt[n]{a^{n-1}}}{a}$."
   ]
  },
  {
   "cell_type": "markdown",
   "id": "884d28b8-9daa-4560-bbf8-c6b182e7dd9a",
   "metadata": {},
   "source": [
    "## 9. Logarithm Behavior\n",
    "\n",
    "- For $\\ln(y)$:\n",
    "  - If $y \\to 0^+$, then $\\ln(y) \\to -\\infty$.\n",
    "  - If $y \\to \\infty$, then $\\ln(y) \\to \\infty$.\n",
    "  - If $y \\to 1$, then $\\ln(y) \\to 0$.\n",
    "\n",
    "#### Logarithm Simplification\n",
    "\n",
    "- Simplify $\\ln(8)$ to $3\\ln(2)$ in academic settings to show understanding of properties like $\\ln(a^b) = b \\ln(a)$, unless numerical computation is required or simplification adds no value."
   ]
  },
  {
   "cell_type": "markdown",
   "id": "073e8415-c1cb-4f26-a7bf-e99b398350b1",
   "metadata": {},
   "source": [
    "---"
   ]
  },
  {
   "cell_type": "markdown",
   "id": "2b196712-6579-45e4-93cc-c604a9b978ca",
   "metadata": {},
   "source": [
    "## 10. Arctangent and Arccotangent Properties\n",
    "\n",
    "- **Arctangent** $\\tan^{-1}(x)$:\n",
    "  - Range: $\\left(-\\frac{\\pi}{2}, \\frac{\\pi}{2}\\right)$.\n",
    "  - As $x \\to +\\infty$, $\\tan^{-1}(x) \\to \\frac{\\pi}{2}$; as $x \\to -\\infty$, $\\tan^{-1}(x) \\to -\\frac{\\pi}{2}$.\n",
    "- **Arccotangent** $\\cot^{-1}(x)$:\n",
    "  - Range: $(0, \\pi)$.\n",
    "  - As $x \\to +\\infty$, $\\cot^{-1}(x) \\to 0$; as $x \\to -\\infty$, $\\cot^{-1}(x) \\to \\pi$.\n",
    "\n",
    "#### Visualization of $\\tan^{-1}$ and $\\cot^{-1}$\n",
    "\n",
    "- **$\\tan^{-1}(x)$**: S-shaped curve, passes through $(0, 0)$, approaches $y = \\frac{\\pi}{2}$ as $x \\to +\\infty$, $y = -\\frac{\\pi}{2}$ as $x \\to -\\infty$.\n",
    "- **$\\cot^{-1}(x)$**: Decreasing curve, from $y = \\pi$ as $x \\to -\\infty$ to $y = 0$ as $x \\to +\\infty$, crosses $y = \\frac{\\pi}{2}$ at $x = 0$."
   ]
  },
  {
   "cell_type": "markdown",
   "id": "39d229a6-8f2e-4671-8594-06018d2d4b63",
   "metadata": {},
   "source": [
    "---"
   ]
  },
  {
   "cell_type": "markdown",
   "id": "bd4bdac8-2f37-4785-b1f7-398a45a4189f",
   "metadata": {},
   "source": [
    "## Limit Evaluations and Visualization of Inverse Trigonometric Functions\n",
    "\n",
    "We evaluate limits involving logarithms and arctangent functions and reinforce the visualization of $\\tan^{-1}$ and $\\cot^{-1}$ graphs.\n",
    "\n",
    "## Visualization of $\\tan^{-1}$ and $\\cot^{-1}$ (Mental Picture)\n",
    "\n",
    "### Arctangent: $y = \\tan^{-1}(x)$\n",
    "\n",
    "- **Shape**: S-shaped curve, flattened at the top and bottom.\n",
    "- **Range**: $\\left(-\\frac{\\pi}{2}, \\frac{\\pi}{2}\\right)$ (from $-1.57$ to $1.57$).\n",
    "- **Key Points**:\n",
    "  - At $x = 0$, $y = 0$.\n",
    "  - At $x = 1$, $y = \\frac{\\pi}{4} \\approx 0.785$.\n",
    "  - At $x = -1$, $y = -\\frac{\\pi}{4} \\approx -0.785$.\n",
    "- **Asymptotes**:\n",
    "  - As $x \\to +\\infty$, $y \\to \\frac{\\pi}{2} \\approx 1.57$.\n",
    "  - As $x \\to -\\infty$, $y \\to -\\frac{\\pi}{2} \\approx -1.57$.\n",
    "- **Mental Picture**: Starts at $(0, 0)$, rises gently to $(1, \\frac{\\pi}{4})$, flattens near $y = \\frac{\\pi}{2}$ as $x$ increases; dips symmetrically to $(-1, -\\frac{\\pi}{4})$, flattens near $y = -\\frac{\\pi}{2}$ as $x$ decreases.\n",
    "\n",
    "### Arccotangent: $y = \\cot^{-1}(x)$\n",
    "\n",
    "- **Shape**: Decreasing curve, high on the left, low on the right.\n",
    "- **Range**: $(0, \\pi)$ (from 0 to $3.14$).\n",
    "- **Key Points**:\n",
    "  - At $x = 0$, $y = \\frac{\\pi}{2} \\approx 1.571$.\n",
    "  - At $x = 1$, $y = \\frac{\\pi}{4} \\approx 0.785$.\n",
    "  - At $x = -1$, $y = \\frac{3\\pi}{4} \\approx 2.356$.\n",
    "- **Asymptotes**:\n",
    "  - As $x \\to +\\infty$, $y \\to 0$.\n",
    "  - As $x \\to -\\infty$, $y \\to \\pi \\approx 3.14$.\n",
    "- **Mental Picture**: Starts near $y = \\pi$ on the left, decreases through $(-1, \\frac{3\\pi}{4})$, $(0, \\frac{\\pi}{2})$, $(1, \\frac{\\pi}{4})$, and flattens near $y = 0$ as $x$ increases.\n",
    "\n",
    "## Previous Lessons (Recap)\n",
    "\n",
    "- **Logarithm Simplification**: Simplify $\\ln(8)$ to $3\\ln(2)$ in academic settings unless numerical computation is required.\n",
    "- **Logarithm Behavior**: For $\\ln(y)$, if $y \\to 0^+$, $\\ln(y) \\to -\\infty$; if $y \\to \\infty$, $\\ln(y) \\to \\infty$; if $y \\to 1$, $\\ln(y) \\to 0$.\n",
    "- **Leading Term Analysis**:\n",
    "  - Variable in the base: Compare highest-degree terms.\n",
    "  - Variable in the exponent: Leading term depends on the sign of the exponent and direction of $x$."
   ]
  },
  {
   "cell_type": "markdown",
   "id": "a1530625-26d8-401d-a609-2f6405507f20",
   "metadata": {},
   "source": [
    "## Resolving Discrepancy in Discontinuities of $\\tan(2x)$\n",
    "\n",
    "We address the discrepancy in the solution’s presentation of discontinuities for $g(x) = \\tan(2x)$.\n",
    "\n",
    "#### Discrepancy Analysis\n",
    "\n",
    "- **Correct Discontinuities**:\n",
    "  - $\\cos(2x) = 0 \\implies 2x = \\frac{\\pi}{2} + m\\pi \\implies x = \\frac{\\pi}{4} + \\frac{m\\pi}{2}$, $m \\in \\mathbb{Z}$, matching the direct approach using the period $\\frac{\\pi}{2}$.\n",
    "- **Solution’s Presentation**:\n",
    "  - Split into $x = \\frac{\\pi}{4} + \\pi n$ or $x = \\frac{3\\pi}{4} + \\pi n$, $n \\in \\mathbb{Z}$.\n",
    "  - The period $\\pi$ in each sequence covers all points when combined, as the two sequences are offset by $\\frac{\\pi}{2}$.\n",
    "- **Resolution**:\n",
    "  - The solution’s form is equivalent to $x = \\frac{\\pi}{4} + \\frac{m\\pi}{2}$, but less intuitive due to the split and use of $\\pi n$ instead of $\\frac{\\pi}{2} n$.\n",
    "\n",
    "#### Lesson Learned: Importance of Fundamental Period\n",
    "\n",
    "- **Direct Approach**: Use the fundamental period of $\\tan(kx)$, which is $\\frac{\\pi}{k}$, to directly find discontinuities.\n",
    "- **Solution’s Approach**: Splitting into two sequences with a larger period can work but is less clear; always simplify to the fundamental period for clarity."
   ]
  },
  {
   "cell_type": "markdown",
   "id": "94d85dc7-95ee-44a7-a5df-47acd1ebdf7c",
   "metadata": {},
   "source": [
    "## Discontinuities of Trigonometric Functions\n",
    "\n",
    "We analyze the discontinuities of trigonometric functions and note the use of the inverse for the secant function.\n",
    "\n",
    "#### Trigonometric Discontinuities\n",
    "\n",
    "- **Problem 17: $f(x) = \\frac{4x + 1}{5 \\cos\\left(\\frac{x}{2}\\right) + 1}$**:\n",
    "  - Discontinuous where $5 \\cos\\left(\\frac{x}{2}\\right) + 1 = 0 \\implies x = \\pm 2 \\arccos\\left(-\\frac{1}{5}\\right) + 4\\pi n$, $n \\in \\mathbb{Z}$.\n",
    "- **Problem 18: $h(x) = \\frac{1 - x}{x \\sin(x - 1)}$**:\n",
    "  - Discontinuous where $x \\sin(x - 1) = 0 \\implies x = 0$ or $x = 1 + \\pi n$, $n \\in \\mathbb{Z}$.\n",
    "- **Problem 21: $g(x) = \\cot(4x)$**:\n",
    "  - Discontinuous where $\\sin(4x) = 0 \\implies x = \\frac{\\pi n}{4}$, $n \\in \\mathbb{Z}$.\n",
    "- **Problem 22: $f(t) = \\sec(\\sqrt{t})$**:\n",
    "  - Discontinuous where $\\cos(\\sqrt{t}) = 0 \\implies \\sqrt{t} = \\frac{\\pi}{2} + \\pi n \\implies t = \\left(\\frac{\\pi}{2} + \\pi n\\right)^2$, $n = 0, 1, 2, \\ldots$ (since $t \\geq 0$).\n",
    "  - **Note on Inverse**: Solve $\\cos(\\sqrt{t}) = 0$ using $\\arccos(0) = \\frac{\\pi}{2}$, add $\\pi n$ for periodicity, then square to find $t$, respecting the domain.\n",
    "\n",
    "#### Lesson Learned\n",
    "\n",
    "- **Trigonometric Discontinuities**: Occur where the denominator (e.g., $\\sin$, $\\cos$) is zero, adjusted for periodicity.\n",
    "- **Secant and Inverse**: Rewrite $\\sec$ as $\\frac{1}{\\cos}$, solve using the inverse cosine, and ensure domain constraints are met."
   ]
  },
  {
   "cell_type": "markdown",
   "id": "dbe34173-1690-4ceb-9818-9dcef68c0c7f",
   "metadata": {},
   "source": [
    "## 11. Continuity of Polynomials: A Deliberate Construction\n",
    "\n",
    "We explore why polynomials are continuous everywhere due to their construction from continuous operations.\n",
    "\n",
    "#### Understanding Continuity of Polynomials\n",
    "\n",
    "- **Building Blocks**:\n",
    "  - Constants ($f(x) = c$) are continuous: $\\lim_{x \\to a} c = c$.\n",
    "  - The identity function $f(x) = x$ is continuous: $\\lim_{x \\to a} x = a$.\n",
    "  - Power functions $x^n$ are continuous, as they are products of $x$ with itself $n$ times, and products of continuous functions are continuous.\n",
    "- **Operations**:\n",
    "  - Multiplication by a constant (e.g., $a_k x^k$) preserves continuity.\n",
    "  - Addition of terms (e.g., $a_n x^n + \\cdots + a_0$) preserves continuity, as the sum of continuous functions is continuous.\n",
    "- **Deliberate Choice**: Polynomials are constructed from continuous functions (constants, powers of $x$) using only addition and multiplication, which preserve continuity, ensuring no discontinuities arise.\n",
    "\n",
    "\n",
    "- **Proof of Polynomial Continuity**: For $p(x) = a_n x^n + \\cdots + a_0$, $\\lim_{x \\to a} p(x) = p(a)$ by applying limit laws term by term, confirming continuity everywhere.\n",
    "- **Continuity of Rational Functions**: A rational function $\\frac{p(x)}{q(x)}$ is continuous where $q(x) \\neq 0$.\n"
   ]
  },
  {
   "cell_type": "markdown",
   "id": "082e5733-d7cc-4bc6-9724-80f461966f55",
   "metadata": {},
   "source": [
    "## 12. Significance of the Intermediate Value Theorem\n",
    "\n",
    "We explore the Intermediate Value Theorem (IVT) and why it’s significant despite seeming obvious.\n",
    "\n",
    "### Intermediate Value Theorem\n",
    "\n",
    "- **Statement**: If $f(x)$ is continuous on $[a, b]$ and $M$ is between $f(a)$ and $f(b)$, then there exists $c \\in [a, b]$ such that $f(c) = M$.\n",
    "- **Intuition**: A continuous function takes all values between $f(a)$ and $f(b)$ as $x$ moves from $a$ to $b$.\n",
    "\n",
    "#### Why It Seems Obvious\n",
    "\n",
    "- Continuous functions have no breaks, so they must pass through every y-value between $f(a)$ and $f(b)$, making the IVT feel intuitive.\n",
    "\n",
    "#### Why It’s Significant\n",
    "\n",
    "- **Existence**: Guarantees a $c$ exists without specifying how to find it, useful in proofs (e.g., root finding).\n",
    "- **Continuity**: Only holds for continuous functions, emphasizing the role of continuity.\n",
    "- **Applications**: Used in root finding (e.g., bisection method), real-world problems (e.g., speed, stock prices), and as a foundation for other theorems.\n",
    "- **Generality**: Applies to all continuous functions on closed intervals, not just simple ones."
   ]
  },
  {
   "cell_type": "markdown",
   "id": "52307842-d1cb-443e-bf81-1e4c0b6b4d1f",
   "metadata": {},
   "source": [
    "## Confirming IVT Application on Smallest Intervals\n",
    "\n",
    "We apply the IVT by breaking intervals into the smallest continuous subintervals and checking for sign changes, concluding if a root exists\n",
    "\n",
    "#### Solutions\n",
    "\n",
    "- **Problem 31: $f(-4) = -10$, $f(5) = 17$, $\\lim_{x \\to 1^-} f(x) = -2$, $\\lim_{x \\to 1^+} f(x) = 4$ on $[-4, 5]$**:\n",
    "  - Subintervals: $[-4, 1)$, $(1, 5]$.\n",
    "  - $[-4, 1)$: $f(-4) < 0$, $\\lim_{x \\to 1^-} f(x) < 0$, no sign change.\n",
    "  - $(1, 5]$: $\\lim_{x \\to 1^+} f(x) > 0$, $f(5) > 0$, no sign change.\n",
    "  - Across $x = 1$: Sign change, but discontinuous.\n",
    "  - Conclusion: A root likely exists in $[-4, 5]$ based on overall sign change.\n",
    "\n",
    "- **Problem 32: $f(-8) = 2$, $f(1) = 23$, $\\lim_{x \\to -4^-} f(x) = 35$, $\\lim_{x \\to -4^+} f(x) = 1$ on $[-8, 1]$**:\n",
    "  - Subintervals: $[-8, -4)$, $(-4, 1]$.\n",
    "  - $[-8, -4)$: $f(-8) > 0$, $\\lim_{x \\to -4^-} f(x) > 0$, no sign change.\n",
    "  - $(-4, 1]$: $\\lim_{x \\to -4^+} f(x) > 0$, $f(1) > 0$, no sign change.\n",
    "  - Conclusion: No root in $[-8, 1]$ via IVT.\n",
    "\n",
    "- **Problem 33: $f(0) = -1$, $f(9) = 10$, $\\lim_{x \\to 2^-} f(x) = -12$, $\\lim_{x \\to 2^+} f(x) = -3$ on $[0, 9]$**:\n",
    "  - Subintervals: $[0, 2)$, $(2, 9]$.\n",
    "  - $[0, 2)$: $f(0) < 0$, $\\lim_{x \\to 2^-} f(x) < 0$, no sign change.\n",
    "  - $(2, 9]$: $\\lim_{x \\to 2^+} f(x) < 0$, $f(9) > 0$, sign change.\n",
    "  - Conclusion: A root exists in $(2, 9] \\subset [0, 9]$.\n",
    "\n"
   ]
  },
  {
   "cell_type": "markdown",
   "id": "a09f6a7f-0295-4808-8f4c-c6fdebbd398c",
   "metadata": {},
   "source": [
    "## 13. The Power of \"Duh\" Theorems in Mathematics\n",
    "\n",
    "We reflect on the significance of \"obvious\" theorems like the Intermediate Value Theorem (IVT) and Squeeze Theorem.\n",
    "\n",
    "#### Comparison: IVT and Squeeze Theorem\n",
    "\n",
    "- **Squeeze Theorem**: If $g(x) \\leq f(x) \\leq h(x)$ near $a$ and $\\lim_{x \\to a} g(x) = \\lim_{x \\to a} h(x) = L$, then $\\lim_{x \\to a} f(x) = L$. Used for determining limits.\n",
    "- **IVT**: If $f(x)$ is continuous on $[a, b]$ and $M$ is between $f(a)$ and $f(b)$, then there exists $c \\in [a, b]$ such that $f(c) = M$. Used for continuity checks and existence.\n",
    "- **Similarity**: Both seem intuitive but are powerful when logic is complex.\n",
    "\n",
    "#### Why \"Duh\" Theorems Are Clutch\n",
    "\n",
    "- **Bridge Intuition and Rigor**: Formalize intuitive ideas into rigorous tools.\n",
    "- **Handle Edge Cases**: Solve problems where direct methods fail (e.g., oscillatory limits, existence of roots).\n",
    "- **Foundation**: Enable advanced results (e.g., Mean Value Theorem, limit evaluations).\n",
    "- **Catch Mistakes**: Ensure we don’t miss obvious properties (e.g., continuity, boundedness).\n",
    "- **Clutch in Proofs**: Provide reliable tools when logic is pushed to the limit (e.g., proving existence, convergence).\n",
    "\n",
    "#### Reflection: Importance of the Obvious\n",
    "\n",
    "- \"Duh\" theorems are often missed but become critical in complex problems, grounding our reasoning in fundamental properties."
   ]
  }
 ],
 "metadata": {
  "kernelspec": {
   "display_name": "Python 3 (ipykernel)",
   "language": "python",
   "name": "python3"
  },
  "language_info": {
   "codemirror_mode": {
    "name": "ipython",
    "version": 3
   },
   "file_extension": ".py",
   "mimetype": "text/x-python",
   "name": "python",
   "nbconvert_exporter": "python",
   "pygments_lexer": "ipython3",
   "version": "3.12.9"
  }
 },
 "nbformat": 4,
 "nbformat_minor": 5
}
