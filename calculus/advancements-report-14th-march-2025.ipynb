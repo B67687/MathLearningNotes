{
 "cells": [
  {
   "cell_type": "markdown",
   "id": "31c11810-1190-4e08-95bf-a56f1e6b39e2",
   "metadata": {},
   "source": [
    "# My Math Learnings"
   ]
  },
  {
   "cell_type": "markdown",
   "id": "4cda7a50-0c61-444a-be5a-04f52c4a54bf",
   "metadata": {},
   "source": [
    "## Lesson 1: Limits and Continuity\n",
    "- A limit $ \\lim_{x \\to a} f(x) $ evaluates the value $ f(x) $ approaches as $ x $ nears $ a $.\n",
    "- If $ f(x) $ is continuous at $ a $ (no jumps or undefined points), $ \\lim_{x \\to a} f(x) = f(a) $.\n",
    "- For discontinuities (e.g., $ \\frac{0}{0} $), check one-sided limits ($ x \\to a^- $, $ x \\to a^+ $).\n",
    "- Example: $ \\lim_{z \\to 1} \\frac{10z - 9 - z^2}{z^2 - 1} = 4 $ (after factoring).\n",
    "- Strategy: Use values near $ a $ (e.g., 1.01, 0.99) to estimate if discontinuous.\n"
   ]
  },
  {
   "cell_type": "markdown",
   "id": "d66248c7-f06a-4cfc-aee4-d306904cb885",
   "metadata": {},
   "source": [
    "## Lesson 2: One-Sided Limits and Discontinuities\n",
    "- Limits differ if left ($ x \\to a^- $) and right ($ x \\to a^+ $) values disagree (e.g., jump at $ x = 0 $ for $ \\frac{|x|}{x} $).\n",
    "- Example: $ \\lim_{x \\to 0} \\frac{|x|}{x} = -1 $ ($ x \\to 0^- $), 1 ($ x \\to 0^+ $) → limit doesn’t exist.\n",
    "- Check both sides for asymptotes (e.g., $ \\frac{1}{x-2} \\to -\\infty, \\infty $) or oscillations (e.g., $ \\sin\\left(\\frac{1}{x}\\right) $).\n"
   ]
  },
  {
   "cell_type": "markdown",
   "id": "daaca5f4-a928-4931-a282-0724891405dc",
   "metadata": {},
   "source": [
    "## Lesson 3: Absolute Value and Trigonometric Limits\n",
    "- Absolute value (e.g., $ |x - a| $) creates kinks; check both sides at the kink (e.g., $ \\lim_{x \\to 2} \\frac{|x-2|}{x-2} $).\n",
    "- Trig limits use identities: $ \\lim_{x \\to 0} \\frac{\\sin(x)}{x} = 1 $, $ \\lim_{x \\to 0} \\frac{\\cos(x)-1}{x} = 0 $.\n",
    "- Example: $ \\lim_{\\theta \\to 4} \\frac{\\cos(\\theta-4)-1}{2\\theta-8} = 0 $ (using substitution $ u = \\theta - 4 $).\n",
    "- Oscillation (e.g., $ \\sin\\left(\\frac{1}{x}\\right) $) prevents limits at 0.\n"
   ]
  },
  {
   "cell_type": "markdown",
   "id": "768ee85f-7356-4619-86ab-a1d044a198e5",
   "metadata": {},
   "source": [
    "## Lesson 4: Pseudopoints and Scale-Dependent Continuity\n",
    "- Pseudopoint: Tiny interval (e.g., $ |x - a| < 10^{-35} $) where $ f(x) $ is continuous, despite discontinuities outside.\n",
    "- Limit depends on the pseudopoint: $ \\lim_{x \\to 0} x $ (for $ |x| < 10^{-35} $) = 0, ignoring outer chaos.\n",
    "- Physical link: At Planck length ($ 10^{-35} $ m), pseudopoints model continuity in quantum foam."
   ]
  },
  {
   "cell_type": "markdown",
   "id": "635d2f76-e96a-4bbd-870f-4efe48b19050",
   "metadata": {},
   "source": [
    "## Lesson 5: Solving Equations (Squares and Exponentials)\n",
    "- $ a^2 = b \\to |a| = \\sqrt{b} $ ($ b \\geq 0 $), so $ a = \\pm \\sqrt{b} $.\n",
    "- $ a^2 = b^2 \\to |a| = |b| $, so $ a = b $ or $ a = -b $.\n",
    "- One-to-one functions (e.g., $ e^x $, $ x^5 $): If $ f(x) = f(y) $, then $ x = y $.\n",
    "- Example: $ e^x = e^{2x-1} \\to x = 1 $; $ x^5 = (2x-3)^5 \\to x = 3 $ (real)."
   ]
  },
  {
   "cell_type": "markdown",
   "id": "95fdf1bb-87bb-496b-90b4-f03af316cf43",
   "metadata": {},
   "source": [
    "## Lesson 6: Complex Roots and nth Roots\n",
    "- Fundamental Theorem of Algebra: Degree $ n $ polynomial has $ n $ roots (real/complex).\n",
    "- Monomial $ z^n = w $: $ z = w^{1/n} e^{2\\pi i k / n} $, $ k = 0 $ to $ n-1 $.\n",
    "- Example: $ z^3 = -8 \\to z = 2 e^{i(\\pi + 2\\pi k)/3} $, $ k = 0,1,2 $.\n",
    "- General polynomials ($ n \\geq 5 $) lack radical formulas (Abel-Ruffini)."
   ]
  },
  {
   "cell_type": "markdown",
   "id": "e697491a-2b35-42bb-a8d6-e21519038d74",
   "metadata": {},
   "source": [
    "## Lesson 7: Non-Functions and Equating\n",
    "- Non-function: One $ x $ maps to multiple $ y $ (fails vertical line test).\n",
    "- Examples: Circle ($ x^2 + y^2 = 1 $), Parabola ($ y^2 = x $), Inverse sin ($ x = \\sin(y) $).\n",
    "- Equating trick fails if $ y $-sets overlap (e.g., circle).\n",
    "- Works for distinct sets (e.g., $ y^2 = x $, $ y = \\pm \\sqrt{x} $ per $ x $)."
   ]
  },
  {
   "cell_type": "markdown",
   "id": "4fb36952-d17c-4c75-961e-d7dcde76cef2",
   "metadata": {},
   "source": [
    "## Lesson 8: Domain Specification and Complex Numbers\n",
    "- Specify domain (real/complex) for solutions: $ x^2 = -1 $ has no real roots, but $ x = \\pm i $ (complex).\n",
    "- Imaginary numbers ($ i = \\sqrt{-1} $) extend reals, used in quantum wave equations.\n",
    "- Example: Specify real roots for $ x^5 = (2x-3)^5 $ gives $ x = 3 $; complex roots need nth root formula."
   ]
  },
  {
   "cell_type": "markdown",
   "id": "55d64d01-d8b5-486d-9eb2-373ef33e11a7",
   "metadata": {},
   "source": [
    "## Lesson 9: Binomial Linear Conjugates and Complex Conjugates\n",
    "- Sum or difference of conjugates divided by 2 extracts terms: $ (a + b) + (a - b) = 2a \\to a = [(a + b) + (a - b)]/2 $.\n",
    "- Extended to binomial linear conjugates (e.g., $ (x + y) $ and $ (x - y) $), but for complex conjugates $ z = a + bi $, $ \\overline{z} = a - bi $:\n",
    "  - $ \\text{Re}(z) = \\frac{z + \\overline{z}}{2} $, $ \\text{Im}(z) = \\frac{z - \\overline{z}}{2i} $.\n",
    "- Nuance: Works for conjugate pairs where the operation (e.g., $ + $ or $ - $) defines the pair; generalizes to linear binomials."
   ]
  },
  {
   "cell_type": "markdown",
   "id": "9eb99e23-65d0-4efb-9247-50711af2d9c6",
   "metadata": {},
   "source": [
    "## Lesson 10: Product of Complex Conjugates and Modulus\n",
    "- Product of complex conjugates: $ z \\overline{z} = (a + bi)(a - bi) = a^2 + b^2 = |z|^2 $.\n",
    "- $ |z| $ is the modulus of $ z $, so the product equals the square of the modulus.\n",
    "- Neat property: Connects algebraic ($ z \\overline{z} $) and geometric ($ |z|^2 $) interpretations."
   ]
  },
  {
   "cell_type": "markdown",
   "id": "2855bac0-05a8-449d-b8a5-b9bb4843a699",
   "metadata": {},
   "source": [
    "## Lesson 11: Square Root as a Definition\n",
    "\n",
    "- Square root $ \\sqrt{x} $ (for $ x \\geq 0 $) is the non-negative $ y $ where $ y^2 = x $.\n",
    "- Reason is $ y \\geq 0 $ ensures $ \\sqrt{x} $ is a function (one output), e.g., $ \\sqrt{4} = 2 $, not $ \\pm 2 $.\n",
    "- Solving $ x^2 = 4 $ gives $ x = \\pm 2 $, but $ \\sqrt{4} = 2 $ by definition.\n",
    "- Implication:\n",
    "    - For $|z| \\geq |\\text{Re}(z)|$,\n",
    "    - $\\sqrt{\\text{Re}(z)^2}\\ = |\\text{Re}(z)|$\n",
    "    - not $\\text{Re}(z)$, due to this rule."
   ]
  },
  {
   "cell_type": "markdown",
   "id": "b59e8b70-f2d7-43df-bc3c-feebae778a12",
   "metadata": {},
   "source": [
    "## Lesson 12: Modulus of $ z $ and Conjugate $ \\overline{z} $ via Pythagorean Theorem\n",
    "- Modulus $ |z| = \\sqrt{(\\text{Re}(z))^2 + (\\text{Im}(z))^2} $, same as $ |\\overline{z}| = \\sqrt{(\\text{Re}(z))^2 + (\\text{Im}(z))^2} $, by Pythagorean theorem.\n",
    "- $ z = a + bi $, $ \\overline{z} = a - bi $; $ |z| = |\\overline{z}| = \\sqrt{a^2 + b^2} $ as distances in the complex plane.\n",
    "- Insight: Reflects geometric symmetry; ties to $ z \\overline{z} = |z|^2 $.\n"
   ]
  },
  {
   "cell_type": "markdown",
   "id": "50be67e3-e97e-44c7-a678-51b2407a5301",
   "metadata": {},
   "source": [
    "## Lesson 13: Modulus Properties of Complex Multiplication\n",
    "- Property: $ |z_1 z_2| = |z_1| |z_2| $, proven by $ |z_1 z_2|^2 = (z_1 z_2)(\\overline{z_1} \\overline{z_2}) = |z_1|^2 |z_2|^2 $.\n",
    "- Intuitive: Magnitudes multiply under complex multiplication (geometric scaling).\n",
    "- Property: $ |-z| = |z| $, as $ |-z| = \\sqrt{(-\\text{Re}(z))^2 + (-\\text{Im}(z))^2} = \\sqrt{(\\text{Re}(z))^2 + (\\text{Im}(z))^2} = |z| $.\n",
    "- Note: Not trivial by definition (unlike real $ |-a| = |a| $); follows from modulus symmetry, but pretty trivial once understood."
   ]
  },
  {
   "cell_type": "markdown",
   "id": "0ad6f372-d221-4fca-9ba8-d711eb6c1702",
   "metadata": {},
   "source": [
    "## Lesson 14: Triangle Inequality for Complex Numbers\n",
    "- **Property**: $ |z_1 + z_2| \\leq |z_1| + |z_2| $, the triangle inequality.\n",
    "- **Geometric Derivation**: In the complex plane, $ z_1 $ and $ z_2 $ are vectors from $ (0, 0) $ to $ (\\text{Re}(z_1), \\text{Im}(z_1)) $ and $ (\\text{Re}(z_2), \\text{Im}(z_2)) $. Adding $ z_1 + z_2 $ gives a vector to $ (\\text{Re}(z_1) + \\text{Re}(z_2), \\text{Im}(z_1) + \\text{Im}(z_2)) $. The triangle formed by $ 0 $, $ z_1 $, and $ z_1 + z_2 $ has sides $ |z_1| $, $ |z_2| $, and $ |z_1 + z_2| $. The triangle inequality states $ |z_1 + z_2| \\leq |z_1| + |z_2| $, as the direct path is at most the sum of the other two sides.\n",
    "- **Why the Triangle Inequality Holds**: In Euclidean geometry, the shortest path between two points (e.g., $ 0 $ to $ z_1 + z_2 $) is a straight line ($ |z_1 + z_2| $). The path via $ z_1 $ (length $ |z_1| + |z_2| $) must be at least as long, because a detour cannot be shorter than the direct path.\n",
    "- **Degenerate Case**: Equality holds when the points are collinear ($ z_2 = k z_1 $, $ k \\geq 0 $), forming a degenerate triangle (area = 0). A triangle is formally a set of three points with edges connecting them, including collinear cases for consistency in definitions and to handle limiting cases (e.g., when a triangle’s area approaches 0). While not a \"conventional\" triangle with area, it’s included as a boundary case, aligning with the user’s insight that it’s about the set of points, not the shape.\n",
    "- **Alternative Insight**: Drawing a triangle with components $ \\text{Re}(z_1) $, $ \\text{Re}(z_2) $, $ \\text{Im}(z_1) $, $ \\text{Im}(z_2) $ suggested a bound, refined to $ |\\text{Re}(z_1)| + |\\text{Re}(z_2)| + |\\text{Im}(z_1)| + |\\text{Im}(z_2)| \\geq |z_1 + z_2| $, a looser bound than the standard inequality.\n",
    "- **Example**: $ z_1 = 3 $, $ z_2 = 4i $, $ |z_1 + z_2| = 5 $, $ |z_1| + |z_2| = 7 $, so $ 5 \\leq 7 $.\n"
   ]
  },
  {
   "cell_type": "markdown",
   "id": "fc09ae88-b5bd-4191-8e89-d70dd7ef0a1f",
   "metadata": {},
   "source": [
    "## Lesson 15: Bounding the Modulus with Components\n",
    "- **Exploration**: $ |\\text{Re}(z_1)| + |\\text{Re}(z_2)| + |\\text{Im}(z_1)| + |\\text{Im}(z_2)| \\geq |z_1 + z_2| $ is a valid bound.\n",
    "- **Insight**: Each $ |z_i| \\leq |\\text{Re}(z_i)| + |\\text{Im}(z_i)| $, so their sum bounds $ |z_1 + z_2| $ via the triangle inequality.\n",
    "- **Connection**: This is a looser bound than $ |z_1| + |z_2| $, but still reflects the geometric idea of summing component magnitudes.\n",
    "- **Example**: $ z_1 = 1 + i $, $ z_2 = 1 + i $, left side = 4, $ |z_1 + z_2| = 2\\sqrt{2} \\approx 2.828 $, so $ 4 \\geq 2.828 $."
   ]
  }
 ],
 "metadata": {
  "kernelspec": {
   "display_name": "Python 3 (ipykernel)",
   "language": "python",
   "name": "python3"
  },
  "language_info": {
   "codemirror_mode": {
    "name": "ipython",
    "version": 3
   },
   "file_extension": ".py",
   "mimetype": "text/x-python",
   "name": "python",
   "nbconvert_exporter": "python",
   "pygments_lexer": "ipython3",
   "version": "3.13.5"
  }
 },
 "nbformat": 4,
 "nbformat_minor": 5
}
