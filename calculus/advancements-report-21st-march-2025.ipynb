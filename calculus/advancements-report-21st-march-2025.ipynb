{
 "cells": [
  {
   "cell_type": "markdown",
   "id": "72cf4113-873a-429c-861a-8a2d2f73bee4",
   "metadata": {
    "jp-MarkdownHeadingCollapsed": true
   },
   "source": [
    "## Demonstrating Inequality Manipulation with Absolute Values"
   ]
  },
  {
   "cell_type": "markdown",
   "id": "3ab52c19-563c-4439-8db2-c6d91764e43d",
   "metadata": {
    "jp-MarkdownHeadingCollapsed": true
   },
   "source": [
    "### Introduction\n",
    "\n",
    "This notebook demonstrates how to manipulate inequalities involving absolute values, specifically focusing on adding constants to all parts of the inequality. We'll emphasize the importance of applying operations to *all parts* of the expanded inequality.\n",
    "\n",
    "We'll illustrate this with an example similar to the epsilon-delta proof of $\\lim_{x \\to 2} x^2 = 4$."
   ]
  },
  {
   "cell_type": "markdown",
   "id": "ae086927-f4b4-4e60-83b3-c156ef11b081",
   "metadata": {},
   "source": [
    "### Example: Bounding |x + 2|\n",
    "\n",
    "Let's say we have $|x - 2| < c$, where $c > 0$. We want to find an upper bound for $|x + 2|$."
   ]
  },
  {
   "cell_type": "markdown",
   "id": "d93f8f75-f586-466e-ae30-43057b172900",
   "metadata": {},
   "source": [
    "### Step 1: Expand the Absolute Value Inequality\n",
    "\n",
    "$|x - 2| < c$ is equivalent to:\n",
    "\n",
    "$-c < x - 2 < c$\n",
    "\n",
    "### Step 2: Add 4 to *All Parts*\n",
    "\n",
    "This is the crucial step. We add 4 to *all three parts* of the inequality:\n",
    "\n",
    "$-c + 4 < x - 2 + 4 < c + 4$\n",
    "\n",
    "$-c + 4 < x + 2 < c + 4$\n",
    "\n",
    "**Important Note:** We must add 4 to *every* part of the inequality to maintain its validity. We cannot just add 4 inside the absolute value without also adjusting the bounds.\n",
    "\n",
    "### Step 3: Take the Absolute Value\n",
    "\n",
    "Now we want to find a bound for $|x + 2|$.\n",
    "\n",
    "Since $-c + 4 < x + 2 < c + 4$, we can say:\n",
    "\n",
    "$|x + 2| < \\max(|-c + 4|, |c + 4|)$\n",
    "\n",
    "### Step 4: Simplify (in our case)\n",
    "\n",
    "In our epsilon-delta proof, we typically choose a small positive value for 'c' (e.g., c=1).\n",
    "\n",
    "If we assume $c>0$, then $c+4$ will always be positive, and therefor $|c+4| = c+4$.\n",
    "\n",
    "If we assume $c < 4$, then $-c+4$ will be positive, and therefore $|-c+4| = -c+4$.\n",
    "\n",
    "Since $c+4 > -c+4$ for any positive c, we can simplify:\n",
    "\n",
    "$|x + 2| < c + 4$\n"
   ]
  },
  {
   "cell_type": "markdown",
   "id": "0f5af673-c628-4add-b3d2-cecfe14592d8",
   "metadata": {},
   "source": [
    "---"
   ]
  },
  {
   "cell_type": "markdown",
   "id": "7e4f134d-fe1e-4ee2-a82a-1b8c1085b3b0",
   "metadata": {
    "jp-MarkdownHeadingCollapsed": true
   },
   "source": [
    "## Keeping 1/N Direct in Limit Proofs Involving Infinity"
   ]
  },
  {
   "cell_type": "markdown",
   "id": "1408bbd2-c929-411c-9f40-b4cb85bce9f4",
   "metadata": {},
   "source": [
    "### Introduction\n",
    "\n",
    "This notebook explores the strategy of directly using `1/N` (or `-1/N`) in epsilon-delta-like proofs when dealing with limits that approach infinity, especially when the function is a reciprocal. We'll focus on why this is often a more direct and clear approach."
   ]
  },
  {
   "cell_type": "markdown",
   "id": "242e624b-33f7-4124-a318-d0334d52e90f",
   "metadata": {},
   "source": [
    "### General Principle\n",
    "\n",
    "When proving limits that approach infinity (either positive or negative) for functions involving reciprocals (like `1/x`), it's often more intuitive to work directly with the reciprocal of the target value (`N` or `-N`).\n",
    "\n",
    "Instead of introducing a separate `delta` and then trying to relate it to `N` later, we can often directly express `delta` or `-delta` in terms of `1/N` (or `-1/N`). This avoids unnecessary sign changes and makes the proof more straightforward.\n"
   ]
  },
  {
   "cell_type": "markdown",
   "id": "9907b520-e33e-4ea7-96b8-d37822afc651",
   "metadata": {},
   "source": [
    "### Example: lim (x->0-) 1/x = -infinity\n",
    "\n",
    "Let's illustrate this with the proof of:\n",
    "\n",
    "$$\\lim_{x \\to 0^-} \\frac{1}{x} = -\\infty$$\n",
    "\n",
    "**Traditional Approach (with a detour):**\n",
    "\n",
    "1.  Assume `N < 0`.\n",
    "2.  Find `delta > 0` such that if `0 > x > -delta`, then `1/x < N`.\n",
    "3.  We might initially try to relate `delta` to `N` indirectly, leading to more sign manipulations.\n",
    "\n",
    "**Direct Approach (Using 1/N):**\n",
    "\n",
    "1.  Assume `N < 0`.\n",
    "2.  Let `-delta = 1/N`. This means `delta = -1/N`. Since `N < 0`, `delta > 0`.\n",
    "3.  Assume `0 > x > -delta`.\n",
    "4.  Substitute `-delta = 1/N`: `0 > x > 1/N`.\n",
    "5.  Take the reciprocal (and flip the inequalities): `-infinity < 1/x < N`.\n",
    "\n",
    "**Why the Direct Approach is Better:**\n",
    "\n",
    "- **Avoids Sign Changes:** By directly setting `-delta = 1/N`, we avoid having to change the sign of `1/N` twice.\n",
    "- **Clarity:** The relationship between `delta` and `N` is immediately clear.\n",
    "- **Intuition:** It aligns better with the reciprocal nature of the function.\n"
   ]
  },
  {
   "cell_type": "markdown",
   "id": "1bbc8921-a937-44d6-96ff-d4202b84d4c5",
   "metadata": {},
   "source": [
    "### Key Takeaway\n",
    "\n",
    "When dealing with limits approaching infinity for reciprocal functions, consider directly using `1/N` (or `-1/N`) to express `delta` or `-delta`. This often leads to a more direct, clear, and intuitive proof."
   ]
  },
  {
   "cell_type": "markdown",
   "id": "aa39e921-373d-4235-8ea0-615ad07ba050",
   "metadata": {},
   "source": [
    "---"
   ]
  },
  {
   "cell_type": "markdown",
   "id": "265ad80e-3a21-4758-ab9b-742f08e15817",
   "metadata": {
    "jp-MarkdownHeadingCollapsed": true
   },
   "source": [
    "## Choosing the Right Notation for Minimum in Limit Proofs"
   ]
  },
  {
   "cell_type": "markdown",
   "id": "53384b91-e973-4f37-9312-0b3b3d1ce2ec",
   "metadata": {},
   "source": [
    "### Introduction\n",
    "\n",
    "In mathematical proofs, particularly those involving limits and epsilon-delta arguments, clarity and simplicity are paramount. While various notations exist for representing the minimum of a set of values, the `min()` function is often the most appropriate and best practice, especially in introductory contexts.\n",
    "\n",
    "This notebook will discuss why `min()` is generally preferred in proofs like the one shown in the image and when alternative notations might be considered."
   ]
  },
  {
   "cell_type": "markdown",
   "id": "8b4661e1-58d8-4f06-b9f9-01ef6f4c4a01",
   "metadata": {},
   "source": [
    "### Why `min()` is Best Practice in Introductory Limit Proofs\n",
    "\n",
    "- **Clarity and Simplicity:**\n",
    "    - The `min()` function directly conveys the idea of selecting the smallest value from a set of options, making the proof easier to understand.\n",
    "    - It avoids introducing potentially confusing or unfamiliar notations.\n",
    "- **Contextual Appropriateness:**\n",
    "    - Proofs like the one in the image typically involve comparing a small number of values or expressions to determine the minimum.\n",
    "    - In such cases, `min()` is perfectly adequate and widely recognized.\n",
    "- **Pedagogical Value:**\n",
    "    - For students learning about limits and epsilon-delta proofs, `min()` is a simple and effective tool.\n",
    "    - It helps them focus on the conceptual understanding of the proof rather than getting bogged down in complex notations.\n"
   ]
  },
  {
   "cell_type": "markdown",
   "id": "aac1d2dd-48b4-4e0b-8d23-767bea208638",
   "metadata": {},
   "source": [
    "### When Alternative Notations Might Be Considered\n",
    "\n",
    "- **Large Sets:**\n",
    "    - If you were dealing with the minimum of a very large or infinite set, indexed notation (e.g., $\\min_{i=1}^{n} x_i$) or the infimum (inf) might be more appropriate.\n",
    "- **Formal Mathematical Contexts:**\n",
    "    - In advanced analysis or related fields, you might encounter other notations like the wedge symbol (∧), but these are less common in introductory settings.\n",
    "- **Computer Science:**\n",
    "    - In computer science, especially in algorithms or data structures, you might see indexed notation or other specialized notations.\n"
   ]
  },
  {
   "cell_type": "markdown",
   "id": "dbbff4b4-8455-48ed-bf07-37da7b933c65",
   "metadata": {},
   "source": [
    "### Example: Proof from the Image\n",
    "\n",
    "In the proof image provided, the goal is to show:\n",
    "\n",
    "$$\\lim_{x \\to 0^-} \\frac{1}{x} = -\\infty$$\n",
    "\n",
    "In this proof, the choice of $\\delta$ is crucial. Using `min()` to define $\\delta$ is the most straightforward way to convey that we are selecting the smaller of two values to ensure the proof works.\n"
   ]
  },
  {
   "cell_type": "markdown",
   "id": "585dbc5a-5833-4091-9763-fb77094a43bb",
   "metadata": {},
   "source": [
    "### Conclusion\n",
    "\n",
    "For introductory limit proofs and similar mathematical contexts, the `min()` function is generally the best practice due to its clarity, simplicity, and contextual appropriateness. It allows for greater focus on the conceptual understanding of the proof."
   ]
  },
  {
   "cell_type": "markdown",
   "id": "26eee3d3-b489-4946-90e7-f1b81cd53400",
   "metadata": {},
   "source": [
    "---"
   ]
  },
  {
   "cell_type": "markdown",
   "id": "89e6d7d0-65d6-49ef-8a16-822f7e4eeb4a",
   "metadata": {
    "jp-MarkdownHeadingCollapsed": true
   },
   "source": [
    "## Epsilon-Delta Proof Procedure and Variable Definition Practices"
   ]
  },
  {
   "cell_type": "markdown",
   "id": "b96c1e58-d874-4c4a-b255-1d2187f976ab",
   "metadata": {},
   "source": [
    "### Epsilon-Delta Proof Procedure\n",
    "\n",
    "The epsilon-delta proof is a rigorous way to show that a limit exists. Here's a general procedure:\n",
    "\n",
    "1.  **State the Limit:** Clearly write the limit you want to prove, e.g., $\\lim_{x \\to c} f(x) = L$.\n",
    "\n",
    "2.  **State the Definition:** Recall the epsilon-delta definition: For every $\\epsilon > 0$, there exists a $\\delta > 0$ such that if $0 < |x - c| < \\delta$, then $|f(x) - L| < \\epsilon$.\n",
    "\n",
    "3.  **Start with |f(x) - L|:** Begin by manipulating the expression $|f(x) - L|$ algebraically to relate it to $|x - c|$.\n",
    "\n",
    "4.  **Find a Bound for |x - c|:**\n",
    "    - If necessary, find a bound for other terms in the expression involving *x*. This often involves assuming a bound for $|x - c|$ (e.g., $|x - c| < 1$).\n",
    "    - Use this bound to find an upper limit for the other terms.\n",
    "\n",
    "5.  **Express |x - c| in Terms of Epsilon:**\n",
    "    - Use the manipulated expression and the bounds to find a condition on $|x - c|$ that ensures $|f(x) - L| < \\epsilon$.\n",
    "    - This will give you an inequality of the form $|x - c| < \\text{expression involving } \\epsilon$.\n",
    "\n",
    "6.  **Choose Delta:**\n",
    "    - Choose $\\delta$ to satisfy the condition found in the previous step.\n",
    "    - If you used a preliminary bound for $|x - c|$, you might need to choose $\\delta$ as the minimum of that bound and the expression involving $\\epsilon$.\n",
    "\n",
    "7.  **Verify the Condition:**\n",
    "    - Show that if $0 < |x - c| < \\delta$, then $|f(x) - L| < \\epsilon$.\n",
    "\n",
    "8.  **Conclusion:** State that you have shown the limit using the epsilon-delta definition."
   ]
  },
  {
   "cell_type": "markdown",
   "id": "d85a70d7-0f25-4a14-b45c-e7b6ed35d2d9",
   "metadata": {},
   "source": [
    "### Common Practice: Defining Variables in Proofs\n",
    "\n",
    "In mathematical proofs, it's essential to define variables clearly and unambiguously. Here's a common practice:\n",
    "\n",
    "* **Direct Definition:** You can directly define a variable with its properties using set notation and inequalities. For example:\n",
    "    - `c ∈ R, c > 0` (This defines 'c' as a positive real number).\n",
    "    - `n ∈ Z, n > 5` (This defines 'n' as an integer greater than 5).\n",
    "\n",
    "* **Why This Works:**\n",
    "    - It is concise and removes any ambiguity.\n",
    "    - It is a standard way to introduce variables in mathematical writing.\n",
    "\n",
    "* **Optional Explicit Introduction:** If you want to be extra explicit, you can add a phrase before the direct definition:\n",
    "    - \"Let 'c' be a positive real number. That is, let `c ∈ R, c > 0`.\"\n",
    "\n",
    "* **Clarity is Key:** Always prioritize clarity and avoid any potential misinterpretations when defining variables."
   ]
  },
  {
   "cell_type": "markdown",
   "id": "ffdc9bb0-9365-4fc8-bc92-6fc736b92f65",
   "metadata": {},
   "source": [
    "---"
   ]
  },
  {
   "cell_type": "markdown",
   "id": "316bf5e2-3228-4aeb-a5a9-13abc7102c9a",
   "metadata": {
    "jp-MarkdownHeadingCollapsed": true
   },
   "source": [
    "## Squaring Inequalities in Epsilon-Delta Proofs: A Cautionary Note"
   ]
  },
  {
   "cell_type": "markdown",
   "id": "40165716-51fb-4196-8763-eb9547d65780",
   "metadata": {},
   "source": [
    "### Introduction\n",
    "\n",
    "When working with epsilon-delta proofs, we often need to manipulate inequalities involving absolute values. A common operation is squaring the terms within an inequality. However, it's crucial to understand when this operation is valid and when it requires extra care."
   ]
  },
  {
   "cell_type": "markdown",
   "id": "839fb814-d2f0-4385-8fab-edb0ddf1a507",
   "metadata": {},
   "source": [
    "### The Pitfall: Squaring Without Considering Signs\n",
    "\n",
    "A common misconception is that if $a < b < c$, then $a^2 < b^2 < c^2$ always holds. This is **not true** in general.\n",
    "\n",
    "**The Correct Principle:**\n",
    "\n",
    "* If $0 \\le a < b < c$, then $a^2 < b^2 < c^2$.\n",
    "* However, if you have negative numbers or a mix of positive and negative numbers, you cannot simply square all parts of the inequality."
   ]
  },
  {
   "cell_type": "markdown",
   "id": "120b3e67-40c2-43cf-a9bc-db3f8921c04c",
   "metadata": {},
   "source": [
    "### Example: |x - 1| < c\n",
    "\n",
    "Let's illustrate this with an example from a typical epsilon-delta proof:\n",
    "\n",
    "1.  We start with $|x - 1| < c$, where 'c' is a positive number.\n",
    "2.  This means $-c < x - 1 < c$.\n",
    "3.  Adding 1 to all sides, we get $1 - c < x < 1 + c$.\n",
    "\n",
    "**When Squaring is Safe:**\n",
    "\n",
    "* If $c \\le 1$, then $1 - c \\ge 0$, and we can safely square all parts: $(1 - c)^2 < x^2 < (1 + c)^2$.\n",
    "* In this case, $|x^2|$ is bounded by the larger of $(1 - c)^2$ and $(1 + c)^2$.\n",
    "\n",
    "**When Squaring Requires Caution:**\n",
    "\n",
    "* If $c > 1$, then $1 - c < 0$. In this case, we cannot directly square all parts.\n",
    "* We need to consider the range of $x^2$ more carefully. The smallest value of $x^2$ will be 0, and the largest value will be $(1 + c)^2$."
   ]
  },
  {
   "cell_type": "markdown",
   "id": "471dc5f4-d28d-4dc9-ad36-713a8dfa48c6",
   "metadata": {},
   "source": [
    "### Context: Epsilon-Delta Proofs and Small 'c'\n",
    "\n",
    "In epsilon-delta proofs, we typically choose 'c' (or our initial bound for |x-a|) to be a small positive number (often c = 1) to simplify the bounding process.\n",
    "\n",
    "**Therefore, in many cases, we *can* directly square the inequality.**"
   ]
  },
  {
   "cell_type": "markdown",
   "id": "7d7ce362-68f1-4e90-9e57-90f21016c2d3",
   "metadata": {},
   "source": [
    "### Key Takeaway\n",
    "\n",
    "* Always consider the signs of the numbers when squaring inequalities.\n",
    "* In epsilon-delta proofs, where we typically choose small positive bounds, squaring is often safe.\n",
    "* However, it's essential to understand the underlying principle to avoid errors."
   ]
  },
  {
   "cell_type": "markdown",
   "id": "083525c2-d7df-474e-9b32-9cc215b09025",
   "metadata": {},
   "source": [
    "---"
   ]
  },
  {
   "cell_type": "markdown",
   "id": "30f88c57-afa1-42d7-8060-ce2099401cb4",
   "metadata": {
    "jp-MarkdownHeadingCollapsed": true
   },
   "source": [
    "## Inequalities: The Impact of Negatives and Reciprocals"
   ]
  },
  {
   "cell_type": "markdown",
   "id": "ddce4169-5741-4736-a944-2d5d4c61280d",
   "metadata": {},
   "source": [
    "### Introduction\n",
    "\n",
    "When working with inequalities in mathematics, it's crucial to be mindful of certain operations that can change the direction of the inequality signs. This notebook focuses on two such operations: multiplying/dividing by negatives and taking reciprocals."
   ]
  },
  {
   "cell_type": "markdown",
   "id": "1a53af59-f5c3-41f1-bbf8-3a431ac51470",
   "metadata": {},
   "source": [
    "### 1. Multiplying/Dividing by Negatives\n",
    "\n",
    "**Rule:** When you multiply or divide all parts of an inequality by a negative number, you *must* reverse the direction of the inequality signs.\n",
    "\n",
    "**Example:**\n",
    "\n",
    "-   If $2 < 4$, then multiplying by -1 gives $-2 > -4$.\n",
    "-   If $-6 < -3$, then dividing by -3 gives $2 > 1$.\n",
    "\n",
    "**Explanation:**\n",
    "\n",
    "Multiplying or dividing by a negative number reflects the numbers across the number line, effectively reversing their relative order.\n"
   ]
  },
  {
   "cell_type": "markdown",
   "id": "fc88d420-03b7-436e-b4e1-2a1de6ae2d07",
   "metadata": {},
   "source": [
    "### 2. Taking Reciprocals\n",
    "\n",
    "**Rule:** When you take the reciprocal (1/x) of all parts of an inequality, you *must* reverse the direction of the inequality signs, but *only if* the numbers have the same sign.\n",
    "\n",
    "**Example (Same Sign):**\n",
    "\n",
    "-   If $2 < 4$, then taking reciprocals gives $1/2 > 1/4$.\n",
    "-   If $-4 < -2$, then taking reciprocals gives $-1/4 > -1/2$.\n",
    "\n",
    "**Example (Mixed Signs):**\n",
    "\n",
    "-   If $-2 < 4$, you cannot simply take reciprocals. You need to consider the ranges carefully.\n",
    "\n",
    "**Explanation:**\n",
    "\n",
    "The reciprocal function (1/x) is a decreasing function for positive numbers and decreasing for negative numbers. This means that as a number increases, its reciprocal decreases, and vice versa."
   ]
  },
  {
   "cell_type": "markdown",
   "id": "0ed83013-ed0e-410f-a9d6-28883d202828",
   "metadata": {},
   "source": [
    "### Key Takeaways\n",
    "\n",
    "-   **Always be mindful of negatives** when multiplying or dividing inequalities.\n",
    "-   **Always be mindful of reciprocals** when taking reciprocals of inequalities.\n",
    "-   **Consider the signs of the numbers** involved to determine whether the inequality signs need to be flipped.\n",
    "\n",
    "By remembering these points, you can accurately manipulate inequalities in your mathematical work."
   ]
  },
  {
   "cell_type": "markdown",
   "id": "22d6936e-93e3-4ebc-bdb3-bdc27495d6cd",
   "metadata": {},
   "source": [
    "---"
   ]
  },
  {
   "cell_type": "markdown",
   "id": "f6e04cb8-df25-405c-b83b-f522e73bf4d1",
   "metadata": {
    "jp-MarkdownHeadingCollapsed": true
   },
   "source": [
    "## Interval Width and Center in Inequalities with Absolute Values"
   ]
  },
  {
   "cell_type": "markdown",
   "id": "8f8b8511-bbc1-44c0-96b6-a4108f65937b",
   "metadata": {},
   "source": [
    "### Introduction\n",
    "\n",
    "When manipulating inequalities with absolute values, it's crucial to understand how operations affect the interval's width and center. This notebook explores this concept and its relevance in epsilon-delta proofs."
   ]
  },
  {
   "cell_type": "markdown",
   "id": "791ca8c6-63a9-43c7-8d94-7a92c0ffa2e2",
   "metadata": {},
   "source": [
    "### Interval Width and Center\n",
    "\n",
    "Consider the inequality |a| < b, where b > 0.\n",
    "\n",
    "-   **Center:** The interval is centered at 0.\n",
    "-   **Width:** The width of the interval is 2b.\n",
    "\n",
    "Now, consider the inequality |a - 3| < b + 3, where b > 0.\n",
    "\n",
    "-   **Center:** The interval is centered at 3.\n",
    "-   **Width:** The width of the interval is still 2b."
   ]
  },
  {
   "cell_type": "markdown",
   "id": "29ad662c-fe0d-4540-882d-f2c66161772b",
   "metadata": {},
   "source": [
    "### Effect of Operations Inside Absolute Values\n",
    "\n",
    "When you perform operations *inside* an absolute value (e.g., |a - 3|), you are shifting the center of the interval.\n",
    "\n",
    "**However:**\n",
    "\n",
    "-   The *width* of the interval remains the same.\n",
    "-   In epsilon-delta proofs, we are primarily concerned with the *width* of the interval, not its center."
   ]
  },
  {
   "cell_type": "markdown",
   "id": "661827c4-22b9-4f08-a703-d67ded59eca9",
   "metadata": {},
   "source": [
    "### Relevance in Epsilon-Delta Proofs\n",
    "\n",
    "In epsilon-delta proofs, we often manipulate inequalities to find bounds. The shifting of the interval's center is acceptable as long as the width remains consistent.\n",
    "\n",
    "**Example:**\n",
    "\n",
    "-   If |x - 2| < δ, we can derive |x + 1| < δ + 3.\n",
    "-   The center has shifted, but the width remains consistent."
   ]
  },
  {
   "cell_type": "markdown",
   "id": "188cea09-43ef-4c1d-aee2-d33d460d361a",
   "metadata": {},
   "source": [
    "### Key Takeaways\n",
    "\n",
    "-   Operations inside absolute values shift the interval's center.\n",
    "-   The width of the interval remains consistent.\n",
    "-   In epsilon-delta proofs, we are primarily concerned with the width.\n"
   ]
  },
  {
   "cell_type": "markdown",
   "id": "7c214b19-f397-4c0c-a0a3-a65716fcd941",
   "metadata": {},
   "source": [
    "---"
   ]
  },
  {
   "cell_type": "markdown",
   "id": "862bb2c0-b932-452a-9eaa-385826028dbb",
   "metadata": {
    "jp-MarkdownHeadingCollapsed": true
   },
   "source": [
    "## Square Roots and Modulus: A Reminder"
   ]
  },
  {
   "cell_type": "markdown",
   "id": "2f0e12c8-635a-4cb5-bf29-1e165b6a15d6",
   "metadata": {},
   "source": [
    "### Introduction\n",
    "\n",
    "When taking the square root of a number, it's crucial to remember that the result is always the modulus (absolute value) of the number, unless we know the number is positive."
   ]
  },
  {
   "cell_type": "markdown",
   "id": "fd27c496-8bdf-413a-a5b0-428f7837f6ae",
   "metadata": {},
   "source": [
    "### Square Root and Modulus\n",
    "\n",
    "-   The square root of a number is defined as the non-negative value that, when squared, gives the original number.\n",
    "-   Therefore, the square root of x² is |x|, not x.\n",
    "\n",
    "**Example:**\n",
    "\n",
    "-   √((-3)²) = √9 = 3 = |-3|\n",
    "-   √(3²) = √9 = 3 = |3|"
   ]
  },
  {
   "cell_type": "markdown",
   "id": "af9d1143-96a0-48d0-9a6d-979dced0e3f9",
   "metadata": {},
   "source": [
    "### When Modulus is Not Needed\n",
    "\n",
    "-   If we know that the number inside the square root is positive, we can omit the modulus sign.\n",
    "\n",
    "**Example:**\n",
    "\n",
    "-   If x > 0, then √(x²) = x"
   ]
  },
  {
   "cell_type": "markdown",
   "id": "e802e7ef-7c63-424e-afcd-b033383e6c9d",
   "metadata": {},
   "source": [
    "### Relevance in Limit Proofs\n",
    "\n",
    "This concept is particularly relevant in limit proofs, especially when dealing with limits that tend to infinity.\n",
    "\n",
    "**Example:**\n",
    "\n",
    "-   When simplifying expressions involving square roots, always remember to include the modulus sign unless you know the number is positive.\n"
   ]
  },
  {
   "cell_type": "markdown",
   "id": "3b26da02-8d3f-4023-b2db-88dbe8efe00a",
   "metadata": {},
   "source": [
    "### Reminder again"
   ]
  },
  {
   "cell_type": "markdown",
   "id": "1ba2fcee-ac0b-4fcc-8d78-e6282bce52df",
   "metadata": {},
   "source": [
    "- When taking the square root of both sides of an inequality involving a squared variable, remember to use the absolute value of that variable. For example, if $M^2 > \\frac{3}{N}$, then $\\sqrt{M^2} > \\sqrt{\\frac{3}{N}}$, which leads to $|M| > \\sqrt{\\frac{3}{N}}$.\n",
    "\n",
    "- You do not need the absolute value on the side of the inequality that does not contain the squared variable.\n",
    "\n",
    "- Square roots of negative numbers are imaginary numbers. Therefore, $-\\sqrt{-\\frac{3}{N}}$ is an imaginary number, while $\\sqrt{\\frac{3}{N}}$ is a real number (assuming N is positive). Consequently, these two expressions cannot be combined or considered equal."
   ]
  },
  {
   "cell_type": "markdown",
   "id": "78175205-518f-4509-8d54-6f592404ec10",
   "metadata": {},
   "source": [
    "### Key Takeaways\n",
    "\n",
    "-   The square root of x² is |x|.\n",
    "-   Omit the modulus sign only when you know the number is positive.\n",
    "-   Be mindful of this rule in limit proofs."
   ]
  },
  {
   "cell_type": "markdown",
   "id": "2577cff8-c4ab-4508-b319-76fd914853ae",
   "metadata": {},
   "source": [
    "---"
   ]
  },
  {
   "cell_type": "markdown",
   "id": "a7f934a4-ec50-457d-83a8-453ff21f36a9",
   "metadata": {
    "jp-MarkdownHeadingCollapsed": true
   },
   "source": [
    "## Limits as $x$ Approaches Negative Infinity: Key Concepts"
   ]
  },
  {
   "cell_type": "markdown",
   "id": "04d35df4-acc3-4e8e-a217-8ffdb652f177",
   "metadata": {},
   "source": [
    "### Introduction\n",
    "\n",
    "When dealing with limits as $x$ approaches negative infinity, there are some important concepts to remember. This notebook will outline the key things to keep in mind, especially when working with absolute values and inequalities."
   ]
  },
  {
   "cell_type": "markdown",
   "id": "99d6eb35-1dbe-41bb-81ab-78866f421c1a",
   "metadata": {},
   "source": [
    "### Understanding the Limit\n",
    "\n",
    "-   When we write $\\lim_{x \\to -\\infty} f(x) = L$, we're interested in the behavior of the function $f(x)$ as $x$ becomes increasingly negative.\n",
    "-   This means we're looking for a negative number $N$ such that if $x < N$, then $f(x)$ satisfies the epsilon condition.\n",
    "\n",
    "### Absolute Values and Inequalities\n",
    "\n",
    "-   When dealing with inequalities involving absolute values, remember that $|x| > a$ means $x > a$ or $x < -a$.\n",
    "-   In the context of limits as $x \\to -\\infty$, we're primarily interested in the $x < -a$ solution.\n",
    "\n",
    "### Converting $|x| > a$ to $x < -a$\n",
    "\n",
    "-   When you have $|x| > a$ and you're considering the limit as $x \\to -\\infty$, you need to convert it to $x < -a$.\n",
    "-   This is because we're only interested in the negative values of $x$ that satisfy the inequality.\n",
    "\n",
    "### Relationship Changes, Implication Holds\n",
    "\n",
    "-   When you convert $|x| > a$ to $x < -a$, the relationship between $x$ and $a$ changes.\n",
    "-   However, the implication still holds: if $x < -a$, then $|x| > a$.\n",
    "-   We're not trying to preserve the exact same relationship; we're trying to find a condition on $x$ that guarantees the epsilon condition is met.\n"
   ]
  },
  {
   "cell_type": "markdown",
   "id": "4f9418b1-c7ff-468a-96ba-ecd2ef59515d",
   "metadata": {
    "jp-MarkdownHeadingCollapsed": true
   },
   "source": [
    "### Example: $\\lim_{x \\to -\\infty} \\frac{1}{x^2} = 0$\n",
    "\n",
    "- In the proof of $\\lim_{x \\to -\\infty} \\frac{1}{x^2} = 0$, we encounter the inequality: $|x| > \\frac{1}{\\sqrt{\\epsilon}}$.\n",
    "- Since we're considering the limit as $x \\to -\\infty$, we convert this to: $x < -\\frac{1}{\\sqrt{\\epsilon}}$.\n",
    "- We then set $N = -\\frac{1}{\\sqrt{\\epsilon}}$ to complete the proof."
   ]
  },
  {
   "cell_type": "markdown",
   "id": "958f0a4d-9dc1-4f76-be80-3cc566bd604c",
   "metadata": {},
   "source": [
    "### Key Takeaways\n",
    "\n",
    "-   When dealing with limits as $x \\to -\\infty$, focus on the negative values of $x$.\n",
    "-   Convert $|x| > a$ to $x < -a$ when appropriate.\n",
    "-   Remember that the relationship changes, but the implication still holds."
   ]
  },
  {
   "cell_type": "markdown",
   "id": "4b664fb0-55c9-486d-9991-7d7fdc55334a",
   "metadata": {},
   "source": [
    "---"
   ]
  },
  {
   "cell_type": "markdown",
   "id": "b101d84d-30af-4294-8a96-5f6e7d091314",
   "metadata": {
    "jp-MarkdownHeadingCollapsed": true
   },
   "source": [
    "## The \"Devious\" Cancellation in lim (x->0) -3/x² = -∞"
   ]
  },
  {
   "cell_type": "markdown",
   "id": "d8cdf9a3-260f-40c6-a6de-21bc1311f0da",
   "metadata": {},
   "source": [
    "### Introduction\n",
    "\n",
    "The limit $\\lim_{x \\to 0} \\frac{-3}{x^2} = -\\infty$ presents a subtle interplay between the negative numerator and the reciprocal nature of the function. This notebook explores why this limit behaves as it does and why it can be considered \"devious.\""
   ]
  },
  {
   "cell_type": "markdown",
   "id": "419fcc16-68fd-4853-a008-3d29545f592b",
   "metadata": {},
   "source": [
    "### Understanding the Limit\n",
    "\n",
    "We are investigating the behavior of the function $f(x) = \\frac{-3}{x^2}$ as $x$ approaches 0 from both sides. We want to show that for any negative number $M$ (no matter how large in magnitude), we can find a $\\delta > 0$ such that if $0 < |x| < \\delta$, then $\\frac{-3}{x^2} < M$."
   ]
  },
  {
   "cell_type": "markdown",
   "id": "0a9ed50b-4024-425d-aeb2-0ee39867cf6d",
   "metadata": {},
   "source": [
    "### The \"Devious\" Cancellation\n",
    "\n",
    "1.  **Negative Numerator (-3):** The negative sign in the numerator ensures that the function's output is always negative for any non-zero value of $x$.\n",
    "\n",
    "2.  **Reciprocal (1/x²):** The $x^2$ in the denominator means that as $x$ approaches 0, the denominator becomes very small, causing the magnitude of the fraction to become very large.\n",
    "\n",
    "3.  **The Result:** The combination of these two factors leads to the function approaching negative infinity as $x$ approaches 0."
   ]
  },
  {
   "cell_type": "markdown",
   "id": "f872c3d7-af06-4ece-88d7-89e2a765b56f",
   "metadata": {},
   "source": [
    "### Why It's \"Devious\"\n",
    "\n",
    "-   **Counterintuitive Nature:** It might seem counterintuitive that the negative sign doesn't directly affect the limit's behavior in the same way it would in other cases.\n",
    "-   **Sign Changes:** The sign changes that occur when multiplying/dividing by negative numbers and taking reciprocals can be confusing and obscure the overall trend.\n",
    "-   **Focus on Magnitude:** The focus shifts to the magnitude of the function, rather than the sign, which can be misleading.\n"
   ]
  },
  {
   "cell_type": "markdown",
   "id": "65cbbd0d-55a1-4241-9509-a25374f26b53",
   "metadata": {},
   "source": [
    "### The Key Insight\n",
    "\n",
    "The effects of the negative sign and the reciprocal \"cancel out\" in terms of the limit's overall behavior.\n",
    "\n",
    "-   The negative sign ensures that the function approaches negative infinity.\n",
    "-   The reciprocal ensures that the function's magnitude becomes infinitely large."
   ]
  },
  {
   "cell_type": "markdown",
   "id": "04d9196b-6538-43a6-b45d-e259017b3888",
   "metadata": {},
   "source": [
    "### Conclusion\n",
    "\n",
    "The limit $\\lim_{x \\to 0} \\frac{-3}{x^2} = -\\infty$ highlights the importance of carefully considering the interplay between different factors in a function, especially when dealing with limits involving infinity."
   ]
  }
 ],
 "metadata": {
  "kernelspec": {
   "display_name": "Python 3 (ipykernel)",
   "language": "python",
   "name": "python3"
  },
  "language_info": {
   "codemirror_mode": {
    "name": "ipython",
    "version": 3
   },
   "file_extension": ".py",
   "mimetype": "text/x-python",
   "name": "python",
   "nbconvert_exporter": "python",
   "pygments_lexer": "ipython3",
   "version": "3.12.9"
  }
 },
 "nbformat": 4,
 "nbformat_minor": 5
}
