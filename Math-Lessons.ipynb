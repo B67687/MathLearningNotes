{
 "cells": [
  {
   "cell_type": "markdown",
   "id": "ece587c0-b73d-4932-b1b5-90747dfd9d2d",
   "metadata": {},
   "source": [
    "# BEFORE YOU START\n",
    "\n",
    "Notes are always secondary to practice and self-learning. It is not truly useful unless you do the work yourself.\n",
    "\n",
    "Knowledge doesn't stick unless you practice using them correctly.\n",
    "\n",
    "- They can be great support material but fuel is nothing without an engine, and the engine is nothing without the operator.\n",
    "\n",
    "Do the work, and the support will work its magic.\n",
    "\n",
    "With that said, let's dive into the meat of it all\n"
   ]
  },
  {
   "cell_type": "markdown",
   "id": "736b1e41-d61c-462b-a718-31541c5d420c",
   "metadata": {},
   "source": [
    "# GENERAL NOTES\n",
    "Seek to understand the whys of everything, not just the hows, it will be more convincing to you and more obvious why you would do this step in this way when you know the reasons behind it. \n",
    "You can get help from Youtube, AI Assistants, friends, family, teachers and peers to this end. Tedious as it may, it will not stick unless you have done enough of the work and understood the whys of it all\n",
    "\n",
    "- Don’t be afraid of weird and novel names for things, go beyond the veil of this scary new thing to focus on understanding what that it is describing. If you can’t, reframe the name of the new term with something already familiar in your mind, like hypotenuse = slanted line which is longest line, use the easy reference for your own reference, and connect it as hypotenuse for other people’s reference\n",
    "\n",
    "- Don’t be afraid to write down all the expressions when doing math, clarity is of utmost importance in logical subjects much like what mathematics is literally all about\n",
    "\n",
    "- Showing work is important for marking. Some work may be skipped but some are not so obvious to the teacher how you got it so incorporate that into your workings too\n",
    "\n",
    "- Repeated Errors mean you don’t understand it enough or there is systematic skipping of some crucial step that keeps skipping memory.\n",
    "\n",
    "- Read the problem twice, first to get the idea of what is happening and what to find, second to get clearer idea and note down the information given\n",
    "\n",
    "- Move on from problems if you are stuck at it, or you may end up spending too much time on it and not enough on problems you can do. However, do write down whatever work you have for those that you can't, extra marks.\n",
    "\n",
    "- Rework problems from each topic until you can do them with ease\n",
    "\n",
    "- Always helpful to draw out the question so as to visualise better\n",
    "\n",
    "- As always, making the question into the familiar form is very helpful, don’t be arrogant and then make mistakes later, we are all human, we see this and we think oh I can do it I got this intuitively, and then some simple mistake is made because it slipped your mortal non-machine minds\n"
   ]
  },
  {
   "cell_type": "markdown",
   "id": "a273f5c9-79c8-4adb-9ef2-8f52570cc6e6",
   "metadata": {},
   "source": [
    "# LIST OF ERRORS\n",
    "- Glossing over working too rapidly thus making calculation mistakes\n",
    "- Expand everything, do not skip steps\n",
    "- Be sure to look through all possible restrictions.\n",
    "i.e. radicands on both the numerator and denominator,\n",
    "denominator radicands can't be equal to zero\n",
    "- Look out when different units are involved, they can only be calculated together if they are the same units\n",
    "- Forgetting to carry some units like $\\pi$"
   ]
  },
  {
   "cell_type": "markdown",
   "id": "2870e48c-500d-409a-9b23-aeabd3ead64c",
   "metadata": {},
   "source": [
    "# TECHNICAL NOTES\n",
    "- When deriving something, aim for to manipulate algebraic terms with a goal in mind, you might find a pattern that applies equally to all of the terms\n",
    "- Write out things clearly, the accuracy of your calculations depends heavily on knowing what you are calculating\n",
    "- Keep up with basic arithmetic, don't pride yourself with your intuition too much, use the barebones method for consistency\n",
    "- Leverage the zero-product property to find solutions and factors \n",
    "If ab =0, then a=0 or b=0\n",
    "- When required to give answers with radicals, rationalise them, but keep them in radical form if they are also required for intermediate calculations\n",
    "- Mouth the expansion with (a + b)^2, catches small mistakes\n",
    "- Shapes are relative in nature, what is its height at one point of view when turned sideways becomes the base. You have to shift the view point so that it is relative to whatever is important, for example, finding the opposite side of a right angle triangle, you have to take note of the angle then find the opposite side to that angle, you have to view the problem relative to the triangle’s orientation, but when it is in your face, the problem is simplified because your viewpoint and the triangles orientation has synced.\n"
   ]
  }
 ],
 "metadata": {
  "kernelspec": {
   "display_name": "Python 3 (ipykernel)",
   "language": "python",
   "name": "python3"
  },
  "language_info": {
   "codemirror_mode": {
    "name": "ipython",
    "version": 3
   },
   "file_extension": ".py",
   "mimetype": "text/x-python",
   "name": "python",
   "nbconvert_exporter": "python",
   "pygments_lexer": "ipython3",
   "version": "3.12.9"
  }
 },
 "nbformat": 4,
 "nbformat_minor": 5
}
