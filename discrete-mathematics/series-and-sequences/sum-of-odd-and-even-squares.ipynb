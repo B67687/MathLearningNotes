{
 "cells": [
  {
   "cell_type": "markdown",
   "id": "3fb1a858-3a9e-4f32-8d86-cd1135574f47",
   "metadata": {},
   "source": [
    "# Sum of Squares\n",
    "\n",
    "The sums of squares formula is as such\n",
    "\n",
    "$$\n",
    "\\sum_{k=1}^n k^2 = \\dfrac{n(n+1)(2n+1)}{6}\n",
    "$$"
   ]
  },
  {
   "cell_type": "markdown",
   "id": "fe0f3bbc-ec46-4e92-94dd-d5338dd52284",
   "metadata": {},
   "source": [
    "# Sum of Even Squares\n",
    "\n",
    "The sum of even squares is like this\n",
    "\n",
    "$$\n",
    "\\sum_{k=1}^n (2k)^2\n",
    "$$\n",
    "\n",
    "Which when be separate it into parts, we get\n",
    "\n",
    "$$\n",
    "\\begin{align}\n",
    "    \\sum_{k=1}^n (2k)^2 &= \\sum_{k=1}^n 4k^2 \\\\\n",
    "    &= 4 \\sum_{k=1}^n k^2\n",
    "\\end{align}\n",
    "$$\n",
    "\n",
    "Then substitute the sum of square formula, we have\n",
    "\n",
    "$$\n",
    "\\begin{align}\n",
    "    4 \\sum_{k=1}^n k^2 &= 4 \\cdot \\dfrac{n(n+1)(2n+1)}{6} \\\\\n",
    "    &= \\dfrac{2n(n+1)(2n+1)}{3}\n",
    "\\end{align}\n",
    "$$\n",
    "\n",
    "Thus, the `sum of even squares` up to the `n-th even number` is as such:\n",
    "\n",
    "$$\n",
    "\\boxed{\n",
    "    \\sum_{k=1}^n (2k)^2 = \\dfrac{2n(n+1)(2n+1)}{3}\n",
    "}\n",
    "$$\n"
   ]
  },
  {
   "cell_type": "markdown",
   "id": "2e45820f-1ad5-4ac8-9859-a86a82232a44",
   "metadata": {},
   "source": [
    "# Sum of Odd Squares\n",
    "\n",
    "The sum of odd squares is like this\n",
    "\n",
    "$$\n",
    "\\sum_{k=1}^n (2k-1)^2\n",
    "$$\n",
    "\n",
    "We could expand it out and do simplification\n",
    "\n",
    "$$\n",
    "\\begin{align}\n",
    "    \\sum_{k=1}^n (2k-1)^2 &= \\sum_{k=1}^n 4k^2 -4k + 1 \\\\\n",
    "    &= 4 \\sum_{k=1}^n k^2 -4 \\sum_{k=1}^n k + \\sum_{k=1}^n 1 \\\\\n",
    "    \\\\\n",
    "    &= 4 \\cdot \\dfrac{n(n+1)(2n+1)}{6} - 4 \\cdot \\dfrac{n(n+1)}{2} + n \\\\\n",
    "    \\\\\n",
    "    &= \\dfrac{2n(n+1)(2n+1)}{3} - 2n(n+1) + n \\\\\n",
    "    \\\\\n",
    "    &= \\dfrac{2n(n+1)(2n+1)-6n(n+1)+3n}{3} \\\\\n",
    "    \\\\\n",
    "    &= \\dfrac{(2n^2 + 2n)(2n+1) -6n^2 - 6n +3n}{3} \\\\\n",
    "    \\\\\n",
    "    &= \\dfrac{\\boxed{4n^3 + 2n^2 + 4n^2 + 2n} \\space \\boxed{- 6n^2 - 6n} \\space \\boxed{+ 3n}}{3} \\\\\n",
    "    \\\\\n",
    "    &= \\dfrac{4n^3 + \\boxed{2n^2 + 4n^2 - 6n^2} + \\boxed{2n - 6n + 3n}}{3} \\\\\n",
    "    \\\\\n",
    "    &= \\dfrac{4n^3 - n}{3} \\\\\n",
    "    \\\\\n",
    "    &= \\dfrac{n(4n^2 - 1)}{3} \\\\\n",
    "\\end{align}\n",
    "$$\n",
    "\n",
    "Thus, the `sum of odd squares` up to the `n-th odd number` is as such:\n",
    "\n",
    "$$\n",
    "\\boxed{\n",
    "    \\sum_{k=1}^n (2k-1)^2 = \\dfrac{n(4n^2 - 1)}{3}\n",
    "}\n",
    "$$"
   ]
  }
 ],
 "metadata": {
  "kernelspec": {
   "display_name": "Python 3 (ipykernel)",
   "language": "python",
   "name": "python3"
  },
  "language_info": {
   "codemirror_mode": {
    "name": "ipython",
    "version": 3
   },
   "file_extension": ".py",
   "mimetype": "text/x-python",
   "name": "python",
   "nbconvert_exporter": "python",
   "pygments_lexer": "ipython3",
   "version": "3.12.9"
  }
 },
 "nbformat": 4,
 "nbformat_minor": 5
}
