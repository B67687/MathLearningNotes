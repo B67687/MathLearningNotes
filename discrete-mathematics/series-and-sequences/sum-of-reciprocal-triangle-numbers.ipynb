{
 "cells": [
  {
   "cell_type": "markdown",
   "id": "13a06639-7ee8-437f-b0d5-6939ece187a3",
   "metadata": {},
   "source": [
    "Lets find the `sum` of `reciprocal triangle numbers`\n",
    "\n",
    "$$\n",
    "\\dfrac{1}{1} + \\dfrac{1}{1+2} + \\dfrac{1}{1+2+3} + \\cdots + \\dfrac{1}{1+2+3+\\cdots+n} \n",
    "$$\n",
    "\n",
    "It can be expressed like so using the formula for triangle numbers\n",
    "\n",
    "$$\n",
    "\\sum_{k=1}^n \\dfrac{1}{\\left( \\dfrac{k(k+1)}{2} \\right) } \n",
    "$$\n",
    "\n",
    "Which when we `simplify the fraction` turns into this\n",
    "\n",
    "$$\n",
    "\\sum_{k=1}^n \\dfrac{2}{k(k+1)} \n",
    "$$\n",
    "\n",
    "And with the `constant factored out`\n",
    "\n",
    "$$\n",
    "2 \\sum_{k=1}^n \\dfrac{1}{k(k+1)} \n",
    "$$\n",
    "\n",
    "Focusing on this sum\n",
    "\n",
    "$$\n",
    "\\textcolor{lightgray}{2} \\sum_{k=1}^n \\dfrac{1}{k(k+1)} \n",
    "$$\n",
    "\n",
    "We derived in another notebook:\n",
    "> The `sum of reciprocal 2 consecutive multiples` is this\n",
    "\n",
    "$$\n",
    "\\sum_{k=1}^n \\dfrac{1}{k(k+1)} = \\dfrac{n}{n+1} \n",
    "$$\n",
    "\n",
    "Thus, `twice of that` is equal to this\n",
    "\n",
    "$$\n",
    "2 \\sum_{k=1}^n \\dfrac{1}{k(k+1)} = 2 \\cdot \\dfrac{n}{n+1} \n",
    "$$\n",
    "\n",
    "Which is\n",
    "\n",
    "$$\n",
    "2 \\sum_{k=1}^n \\dfrac{1}{k(k+1)} = \\dfrac{2n}{n+1} \n",
    "$$\n",
    "\n",
    "Thus, the `sum of reciprocal triangle numbers` is \n",
    "- Where `n` is the `n-th` triangle number\n",
    "\n",
    "$$\n",
    "\\boxed{\n",
    "    \\text{Sum of Reciprocal Triangle Numbers}  = \\dfrac{2n}{n+1} \n",
    "}\n",
    "$$\n"
   ]
  }
 ],
 "metadata": {
  "kernelspec": {
   "display_name": "Python 3 (ipykernel)",
   "language": "python",
   "name": "python3"
  },
  "language_info": {
   "codemirror_mode": {
    "name": "ipython",
    "version": 3
   },
   "file_extension": ".py",
   "mimetype": "text/x-python",
   "name": "python",
   "nbconvert_exporter": "python",
   "pygments_lexer": "ipython3",
   "version": "3.12.9"
  }
 },
 "nbformat": 4,
 "nbformat_minor": 5
}
