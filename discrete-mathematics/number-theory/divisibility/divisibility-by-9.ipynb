{
 "cells": [
  {
   "cell_type": "markdown",
   "id": "3914f565-8c76-49c0-9858-8048a8c7e34f",
   "metadata": {
    "jp-MarkdownHeadingCollapsed": true
   },
   "source": [
    "# The Composition of a Number\n",
    "\n",
    "$$\n",
    "\\text{Number} = \\underbrace{\\overline{k \\space m \\space \\cdots \\space c \\space b \\space a}}_{\\text{n places}} =\n",
    "\\space \\underline{k \\cdot 10^{n-1}} + \n",
    "\\underline{m \\cdot 10^{n-2}} + \n",
    "\\cdots + \n",
    "\\underline{c \\cdot 10^{2}} + \n",
    "\\underline{b \\cdot 10^{1}} + \n",
    "\\underline{a \\cdot 10^{0}}\n",
    "$$\n",
    "\n",
    "Lets look into the `powers of 10`"
   ]
  },
  {
   "cell_type": "markdown",
   "id": "fbea76b1-f8be-4b4c-874d-6207bc343bed",
   "metadata": {},
   "source": [
    "# Factoring Powers of 10\n",
    "\n",
    "From the `divisibility-by-3` notebook, we know that:\n",
    "\n",
    "- All the `non-negative powers of 10` can be partitioned like so\n",
    "\n",
    "$$\n",
    "10^{n} = \\underline{\n",
    "    3^2 \\cdot 10^{n-1} + 3^2 \\cdot 10^{n-2} + \\cdots + 3^2 \\cdot 10^{1} + 3^2 \\cdot 10^{0} + 1\n",
    "}\n",
    "$$\n",
    "\n",
    "\n",
    "When we `simplify it even more` than what we did for `divisibility-by-3`, we get\n",
    "\n",
    "$$\n",
    "\\boxed{\n",
    "    10^{n} = 9 \\cdot \\underbrace{\\overline{11\\cdots11}}_{\\text{n digits}} + 1\n",
    "}\n",
    "$$\n",
    "\n",
    "We realise that `powers of 10` can be split into \n",
    "- `one component divisible by 9`\n",
    "\n",
    "$$\n",
    "\\textcolor{lightgray}{10^{n} =} 9 \\cdot \\underbrace{\\overline{11\\cdots11}}_{\\text{n digits}} \\textcolor{lightgray}{+ 1}\n",
    "$$\n",
    "\n",
    "- then the `other component of 1`\n",
    "\n",
    "$$\n",
    "\\textcolor{lightgray}{10^{n} = 9 \\cdot \\underbrace{\\overline{11\\cdots11}}_{\\text{n digits}}} + 1\n",
    "$$"
   ]
  },
  {
   "cell_type": "markdown",
   "id": "a25e8143-8cc0-411a-8f9a-9351e02dcc57",
   "metadata": {},
   "source": [
    "# Factoring the Number\n",
    "\n",
    "Using the same `derivation logic` from the `divisibility-by-3` notebook, we will get\n",
    "\n",
    "> Where $q_{n} = \\underbrace{\\overline{11\\cdots11}}_{\\text{n digits}}$\n",
    "\n",
    "$$\n",
    "\\text{Number} = \\underbrace{\\overline{k \\space m \\space \\cdots \\space c \\space b \\space a}}_{\\text{n places}} =\n",
    "9 \\biggr( \n",
    "k \\cdot q_{n-1} + \n",
    "m \\cdot q_{n-2} +\n",
    "\\cdots +\n",
    "c \\cdot q_{2} + \n",
    "b\\cdot q_{1}\n",
    "\\biggr) +\n",
    "\\big( \n",
    "k + m + \\cdots + c + b + a\n",
    "\\big)\n",
    "$$"
   ]
  },
  {
   "cell_type": "markdown",
   "id": "343d82b2-47b9-485d-9af6-33b46b92289a",
   "metadata": {},
   "source": [
    "# Conclusion\n",
    "\n",
    "Thus, we see that `this part` of the number is a `multiple of 9`\n",
    "- Thus making it `divisible by 9`\n",
    "\n",
    "$$\n",
    "\\textcolor{lightgray}{\\text{Number} = }\n",
    "9 \\biggr( \n",
    "    kq_{n-1} + \n",
    "    mq_{n-2} +\n",
    "    \\cdots +\n",
    "    cq_{2} + \n",
    "    bq_{1}\n",
    "\\biggr)\n",
    "\\textcolor{lightgray}{+\n",
    "\\big( k + m + \\cdots + c + b + a \\big)}\n",
    "$$\n",
    "\n",
    "Thus for the `whole number to be divisible by 9`,  this part also has to be a `multiple of 9`\n",
    "\n",
    "$$\n",
    "\\textcolor{lightgray}{\\text{Number} = \n",
    "9 \\biggr( \n",
    "    kq_{n-1} + \n",
    "    mq_{n-2} +\n",
    "    \\cdots +\n",
    "    cq_{2} + \n",
    "    bq_{1}\n",
    "\\biggr)} +\n",
    "\\big( k + m + \\cdots + c + b + a \\big)\n",
    "$$\n",
    "\n",
    "Realise that it contains `all the digits of the number itself in order`\n",
    "\n",
    "$$\n",
    "\\text{Number} \\space = \\space \\underbrace{\\overline{k \\space m \\space \\cdots \\space c \\space b \\space a}}_{\\text{n places}}\n",
    "$$"
   ]
  },
  {
   "cell_type": "markdown",
   "id": "43060dda-5e0a-4ee2-95f1-f1aa3a974a4f",
   "metadata": {},
   "source": [
    "# Divisibility Rule\n",
    "\n",
    "Thus, to determine if the `whole number is divisible by 9`,  \n",
    "\n",
    "$$\n",
    "\\boxed{\n",
    "    \\phantom{\\biggr(} \n",
    "        \\textbf{Sum of all its the digits is a multiple of 9}\n",
    "    \\phantom{\\biggr)}\n",
    "}\n",
    "$$"
   ]
  }
 ],
 "metadata": {
  "kernelspec": {
   "display_name": "Python 3 (ipykernel)",
   "language": "python",
   "name": "python3"
  },
  "language_info": {
   "codemirror_mode": {
    "name": "ipython",
    "version": 3
   },
   "file_extension": ".py",
   "mimetype": "text/x-python",
   "name": "python",
   "nbconvert_exporter": "python",
   "pygments_lexer": "ipython3",
   "version": "3.12.9"
  }
 },
 "nbformat": 4,
 "nbformat_minor": 5
}
