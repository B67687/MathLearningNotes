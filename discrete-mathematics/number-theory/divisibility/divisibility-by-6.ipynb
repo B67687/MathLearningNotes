{
 "cells": [
  {
   "cell_type": "markdown",
   "id": "13f8c45d-5e3a-475e-9717-cd1b57a638e3",
   "metadata": {},
   "source": [
    "# Composite Numbers\n",
    "\n",
    "`6` is a `composite number` that is made up of `2` and `3`\n",
    "\n",
    "$$\n",
    "6 = 2 \\cdot 3\n",
    "$$\n",
    "\n",
    "That means as long as a number is `divisible by 2 and 3`, it is `divisible by 6`\n",
    "\n",
    "$$\n",
    "\\underline{\\text{Divisible by 6}} = \\boxed{\\text{Divisible by 2}} \\ \\& \\ \\boxed{\\text{Divisible by 3}} \n",
    "$$\n",
    "\n",
    "We have already `derived the conditions` for \n",
    "- `divisibility by 2` and\n",
    "- `divisibility by 3`\n",
    "\n",
    "in earlier `jupyter notebooks`\n",
    "\n",
    "Thus, lets just move them here\n",
    "\n",
    "## Divisibility by 2\n",
    "\n",
    "In order for a number to be `divisible by 2`, it has to fulfil this condition:\n",
    "\n",
    "$$\n",
    "\\text{The digit in the ones place has to be either of 0, 2, 4, 6, 8}\n",
    "$$\n",
    "\n",
    "## Divisibility by 3\n",
    "\n",
    "In order for a number to be `divisible by 3`, it has to fulfil this condition:\n",
    "\n",
    "$$\n",
    "\\text{Sum of all its the digits is a multiple of 3}\n",
    "$$"
   ]
  },
  {
   "cell_type": "markdown",
   "id": "6610dd3d-a6a4-422b-a536-dc96c9794139",
   "metadata": {},
   "source": [
    "# Conclusion\n",
    "\n",
    "Thus, in order for a number to be `divisible by 6`, it has to `fulfil these conditions`:\n",
    "\n",
    "---\n",
    "\n",
    "- **Divisible by 2**\n",
    "\n",
    "$$\n",
    "\\text{The digit in the ones place has to be either of 0, 2, 4, 6, 8}\n",
    "$$\n",
    "\n",
    "- **Divisible by 3**\n",
    "\n",
    "$$\n",
    "\\text{Sum of all its the digits is a multiple of 3}\n",
    "$$\n",
    "\n",
    "> ✅ Only when these **2 conditions are fulfilled** can it be **divisible by 6**"
   ]
  }
 ],
 "metadata": {
  "kernelspec": {
   "display_name": "Python 3 (ipykernel)",
   "language": "python",
   "name": "python3"
  },
  "language_info": {
   "codemirror_mode": {
    "name": "ipython",
    "version": 3
   },
   "file_extension": ".py",
   "mimetype": "text/x-python",
   "name": "python",
   "nbconvert_exporter": "python",
   "pygments_lexer": "ipython3",
   "version": "3.12.9"
  }
 },
 "nbformat": 4,
 "nbformat_minor": 5
}
