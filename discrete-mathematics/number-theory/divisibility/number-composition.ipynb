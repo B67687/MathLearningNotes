{
 "cells": [
  {
   "cell_type": "markdown",
   "id": "6a3e2c57-3fb8-481e-ac3d-8e37e41128d2",
   "metadata": {},
   "source": [
    "# Decomposition of a Number\n",
    "\n",
    "Any number can be represented in its `base-10` form like so\n",
    "- Where the variables range from `0` to `9`\n",
    "\n",
    "$$\n",
    "\\text{Number} \\space = \\space \\underbrace{\\overline{k \\space m \\space \\cdots \\space c \\space b \\space a}}_{\\text{n places}}\n",
    "$$\n",
    "\n",
    "When each place is expanded out, we get \n",
    "\n",
    "$$\n",
    "\\underbrace{\\overline{k \\space m \\space \\cdots \\space c \\space b \\space a}}_{\\text{n places}} \\space = \n",
    "\\space \\underline{k \\cdot 10^{n-1}} + \n",
    "\\underline{m \\cdot 10^{n-2}} + \n",
    "\\cdots + \n",
    "\\underline{c \\cdot 10^{2}} + \n",
    "\\underline{b \\cdot 10^{1}} + \n",
    "\\underline{a \\cdot 10^{0}}\n",
    "$$\n",
    "\n",
    "Thus\n",
    "\n",
    "$$\n",
    "\\text{Number} \\space =\n",
    "\\space \\underline{k \\cdot 10^{n-1}} + \n",
    "\\underline{m \\cdot 10^{n-2}} + \n",
    "\\cdots + \n",
    "\\underline{c \\cdot 10^{2}} + \n",
    "\\underline{b \\cdot 10^{1}} + \n",
    "\\underline{a \\cdot 10^{0}}\n",
    "$$"
   ]
  }
 ],
 "metadata": {
  "kernelspec": {
   "display_name": "Python 3 (ipykernel)",
   "language": "python",
   "name": "python3"
  },
  "language_info": {
   "codemirror_mode": {
    "name": "ipython",
    "version": 3
   },
   "file_extension": ".py",
   "mimetype": "text/x-python",
   "name": "python",
   "nbconvert_exporter": "python",
   "pygments_lexer": "ipython3",
   "version": "3.12.9"
  }
 },
 "nbformat": 4,
 "nbformat_minor": 5
}
