{
 "cells": [
  {
   "cell_type": "markdown",
   "id": "eff6b112-d6c3-4835-8a92-822cff974bef",
   "metadata": {},
   "source": [
    "# Divisibility by n\n",
    "- Where `n` is an integer\n",
    "\n",
    "When we are finding for a rule that helps us determine if a number is `fully divisible by n`\n",
    "- We will shorten that phrase to `divisible by n` instead\n",
    "- Because `technically every number is divisble by n` even if the `quotient is irrational or transcendental`, so it has `no meaningful meaning`\n",
    "- Instead, it is remapped to mean `fully divisible`"
   ]
  }
 ],
 "metadata": {
  "kernelspec": {
   "display_name": "Python 3 (ipykernel)",
   "language": "python",
   "name": "python3"
  },
  "language_info": {
   "codemirror_mode": {
    "name": "ipython",
    "version": 3
   },
   "file_extension": ".py",
   "mimetype": "text/x-python",
   "name": "python",
   "nbconvert_exporter": "python",
   "pygments_lexer": "ipython3",
   "version": "3.12.9"
  }
 },
 "nbformat": 4,
 "nbformat_minor": 5
}
