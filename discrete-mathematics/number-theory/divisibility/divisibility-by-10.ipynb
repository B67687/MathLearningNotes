{
 "cells": [
  {
   "cell_type": "markdown",
   "id": "e85ebab7-cb71-4079-822b-c1b2a9826067",
   "metadata": {},
   "source": [
    "# Special Case for the Base\n",
    "\n",
    "Since we are `dividing by the base` itself, the number itself is built on bases,\n",
    "- How we represent number in bases is basically by `grouping a quantity` by that number\n",
    "\n",
    "$$\n",
    "\\text{Number} = \\underbrace{\\overline{k \\space m \\space \\cdots \\space c \\space b \\space a}}_{\\text{n places}} =\n",
    "\\space \\underline{k \\cdot 10^{n-1}} + \n",
    "\\underline{m \\cdot 10^{n-2}} + \n",
    "\\cdots + \n",
    "\\underline{c \\cdot 10^{2}} + \n",
    "\\underline{b \\cdot 10^{1}} + \n",
    "\\underline{a \\cdot 10^{0}}\n",
    "$$\n",
    "\n",
    "- Then `grouping groups by the same number` on and on and on till it suffices\n",
    "\n",
    "$$\n",
    "\\text{Number} = \\underbrace{\\overline{k \\space m \\space \\cdots \\space c \\space b \\space \\textcolor{lightgray}{a}}}_{\\text{n places}} = \n",
    "\\space \\underline{k \\cdot 10^{n-1}} + \n",
    "\\underline{m \\cdot 10^{n-2}} + \n",
    "\\cdots + \n",
    "\\underline{c \\cdot 10^{2}} + \n",
    "\\underline{b \\cdot 10^{1}} \\textcolor{lightgray}{+ \n",
    "\\underline{a \\cdot 10^{0}}}\n",
    "$$\n",
    "\n",
    "Thus, in order to know if a number is `divisible by its base`,\n",
    "- We only need to check whether the `grouping is whole`, or in other words\n",
    "- Whether there are `no remainders`, i.e. **nothing in the ones place**\n",
    "\n",
    "$$\n",
    "\\text{Number} = \\underbrace{\\overline{\\textcolor{lightgray}{k \\space m \\space \\cdots \\space c \\space b} \\space a}}_{\\text{n places}} = \n",
    "\\textcolor{lightgray}{\\space \\underline{k \\cdot 10^{n-1}} + \n",
    "\\underline{m \\cdot 10^{n-2}} + \n",
    "\\cdots + \n",
    "\\underline{c \\cdot 10^{2}} + \n",
    "\\underline{b \\cdot 10^{1}}} + \n",
    "\\underline{a \\cdot 10^{0}}\n",
    "$$"
   ]
  },
  {
   "cell_type": "markdown",
   "id": "001c80e9-91b7-44f4-9544-04593d51cd35",
   "metadata": {},
   "source": [
    "# Divisibility Rule\n",
    "\n",
    "Thus, to determine if a number is `divisible by 10`\n",
    "\n",
    "$$\n",
    "\\textbf{The digit in the ones place has to be 0}\n",
    "$$"
   ]
  }
 ],
 "metadata": {
  "kernelspec": {
   "display_name": "Python 3 (ipykernel)",
   "language": "python",
   "name": "python3"
  },
  "language_info": {
   "codemirror_mode": {
    "name": "ipython",
    "version": 3
   },
   "file_extension": ".py",
   "mimetype": "text/x-python",
   "name": "python",
   "nbconvert_exporter": "python",
   "pygments_lexer": "ipython3",
   "version": "3.12.9"
  }
 },
 "nbformat": 4,
 "nbformat_minor": 5
}
