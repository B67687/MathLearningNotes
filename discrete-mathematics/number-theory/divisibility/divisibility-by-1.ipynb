{
 "cells": [
  {
   "cell_type": "markdown",
   "id": "4843da99-e500-49c9-8ae7-d10317b4a21e",
   "metadata": {},
   "source": [
    "## **All Numbers in Integer-Based Number Systems Are Divisible By 1**\n",
    "\n",
    "$$\n",
    "    \\textbf{This is because 1 is the unit integer}\n",
    "$$\n",
    "\n",
    "Thus，by its very definition, **all integers are divisible by 1**, **no matter its integer-base**"
   ]
  }
 ],
 "metadata": {
  "kernelspec": {
   "display_name": "Python 3 (ipykernel)",
   "language": "python",
   "name": "python3"
  },
  "language_info": {
   "codemirror_mode": {
    "name": "ipython",
    "version": 3
   },
   "file_extension": ".py",
   "mimetype": "text/x-python",
   "name": "python",
   "nbconvert_exporter": "python",
   "pygments_lexer": "ipython3",
   "version": "3.12.9"
  }
 },
 "nbformat": 4,
 "nbformat_minor": 5
}
