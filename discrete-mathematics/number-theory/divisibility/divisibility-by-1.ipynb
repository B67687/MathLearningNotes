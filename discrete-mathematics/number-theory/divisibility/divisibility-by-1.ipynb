{
 "cells": [
  {
   "cell_type": "markdown",
   "id": "4843da99-e500-49c9-8ae7-d10317b4a21e",
   "metadata": {},
   "source": [
    "## **All Numbers, in Any Number System, Are Divisible By 1**\n",
    "\n",
    "As 1 the unit number in which all other numbers are based off of\n",
    "\n",
    "$$\n",
    "\\boxed{\n",
    "    \\phantom{\\biggr(} \n",
    "        \\textbf{All Numbers Are Divisible By 1}\n",
    "    \\phantom{\\biggr)}\n",
    "}\n",
    "$$"
   ]
  }
 ],
 "metadata": {
  "kernelspec": {
   "display_name": "Python 3 (ipykernel)",
   "language": "python",
   "name": "python3"
  },
  "language_info": {
   "codemirror_mode": {
    "name": "ipython",
    "version": 3
   },
   "file_extension": ".py",
   "mimetype": "text/x-python",
   "name": "python",
   "nbconvert_exporter": "python",
   "pygments_lexer": "ipython3",
   "version": "3.12.9"
  }
 },
 "nbformat": 4,
 "nbformat_minor": 5
}
