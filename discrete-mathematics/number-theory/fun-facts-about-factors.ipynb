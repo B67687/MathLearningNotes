{
 "cells": [
  {
   "cell_type": "markdown",
   "id": "7f238d61-344d-4f1a-90c8-c5fc4ab5bfaa",
   "metadata": {},
   "source": [
    "# Factors of a number\n",
    "\n",
    "> How to find the factors of `a`?\n",
    "> - As long as we know of its `prime factorisation` we know of all of its `factor combinations`\n",
    ">\n",
    "> $$\n",
    "a = 2^k \\cdot 3^j \\cdot 5^l \\cdot 7^q \\cdot 11^p \\cdots\n",
    "$$\n",
    ">\n",
    ">> Any of its `factors` will be a combination of those `prime factors`, from `0` to their `highest power` \n",
    ">> - And it will have\n",
    ">>\n",
    ">> $$\n",
    "\\text{Number of Factors} \\space = (k+1)(j+1)(l+1)(q+1)(p+1)\\cdots\n",
    "$$"
   ]
  }
 ],
 "metadata": {
  "kernelspec": {
   "display_name": "Python 3 (ipykernel)",
   "language": "python",
   "name": "python3"
  },
  "language_info": {
   "codemirror_mode": {
    "name": "ipython",
    "version": 3
   },
   "file_extension": ".py",
   "mimetype": "text/x-python",
   "name": "python",
   "nbconvert_exporter": "python",
   "pygments_lexer": "ipython3",
   "version": "3.13.5"
  }
 },
 "nbformat": 4,
 "nbformat_minor": 5
}
