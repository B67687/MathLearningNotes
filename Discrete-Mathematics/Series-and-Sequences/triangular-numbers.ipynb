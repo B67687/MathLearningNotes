{
 "cells": [
  {
   "cell_type": "markdown",
   "id": "03dc500f-b4bb-497b-8015-ee99f8c2d502",
   "metadata": {},
   "source": [
    "# Triangular Numbers\n",
    "\n",
    "We know that the arithmetic sum is\n",
    "\n",
    "$$\n",
    "\\sum_{k=1}^{n} k = 1 + 2 + 3 + \\cdots + n = \\dfrac{n(n+1)}{2}\n",
    "$$\n",
    "\n",
    "Let's do something of recursion!\n",
    "\n",
    "Let's create a series of arithmetic sums up to that point!\n",
    "\n",
    "$$\n",
    "\\sum_{k=1}^{1} k \\quad , \\space \\sum_{k=1}^{2} k \\quad , \\space \\sum_{k=1}^{3} k \\quad , \\space \\cdots , \\sum_{k=1}^{n} k\n",
    "$$\n",
    "\n",
    "Use the formula\n",
    "\n",
    "$$\n",
    "\\dfrac{\\boxed{1}(\\boxed{1}+1)}{2}, \\dfrac{\\boxed{2}(\\boxed{2}+1)}{2}, \\dfrac{\\boxed{3}(\\boxed{3}+1)}{2}, \\cdots, \\dfrac{n(n+1)}{2}\n",
    "$$\n",
    "\n",
    "Evaluate\n",
    "\n",
    "$$\n",
    "1, 3, 6, 10, \\cdots, \\dfrac{n(n+1)}{2}\n",
    "$$\n",
    "\n",
    "These are actually the triangular numbers! \n",
    "\n",
    "Numbers that creates a growing equilateral triangle, when expressed in dots!"
   ]
  }
 ],
 "metadata": {
  "kernelspec": {
   "display_name": "Python 3 (ipykernel)",
   "language": "python",
   "name": "python3"
  },
  "language_info": {
   "codemirror_mode": {
    "name": "ipython",
    "version": 3
   },
   "file_extension": ".py",
   "mimetype": "text/x-python",
   "name": "python",
   "nbconvert_exporter": "python",
   "pygments_lexer": "ipython3",
   "version": "3.12.9"
  }
 },
 "nbformat": 4,
 "nbformat_minor": 5
}
