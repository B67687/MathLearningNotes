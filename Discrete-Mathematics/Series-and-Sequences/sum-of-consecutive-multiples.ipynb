{
 "cells": [
  {
   "cell_type": "markdown",
   "id": "f78dfdf4-df33-4a97-82ec-6bf44b925ae8",
   "metadata": {},
   "source": [
    "## Sum of Consecutive Multiples\n",
    "\n",
    "We have \n",
    "\n",
    "$$\n",
    "\\sum_{k=1}^n k(k+1)\n",
    "$$\n",
    "\n",
    "Let's start\n",
    "\n",
    "$$\n",
    "\\begin{align*}\n",
    "    \\sum_{k=1}^n k(k+1) &= \\sum_{k=1}^n \\underline{k^2 + k} \\\\\n",
    "    &= \\sum_{k=1}^n k^2 + \\sum_{k=1}^n k \\\\\n",
    "    &= \\dfrac{n(n+1)(2n+1)}{6} + \\dfrac{n(n+1)}{2} \\\\\n",
    "    &= \\dfrac{n(n+1)(2n+1)}{6} + \\dfrac{3n(n+1)}{6} \\\\\n",
    "    &= \\dfrac{n(n+1)[(2n+1) + 3]}{6} \\\\\n",
    "    &= \\dfrac{n(n+1)(2n+4)}{6} \\\\\n",
    "    &= \\dfrac{2n(n+1)(n+2)}{6} \\\\\n",
    "    &= \\dfrac{n(n+1)(n+2)}{3} \\\\\n",
    "\\end{align*}\n",
    "$$\n",
    "\n",
    "Therefore\n",
    "$$\n",
    "\\boxed{\n",
    "     \\sum_{k=1}^n k(k+1) = \\dfrac{n(n+1)(n+2)}{3}\n",
    "}\n",
    "$$"
   ]
  }
 ],
 "metadata": {
  "kernelspec": {
   "display_name": "Python 3 (ipykernel)",
   "language": "python",
   "name": "python3"
  },
  "language_info": {
   "codemirror_mode": {
    "name": "ipython",
    "version": 3
   },
   "file_extension": ".py",
   "mimetype": "text/x-python",
   "name": "python",
   "nbconvert_exporter": "python",
   "pygments_lexer": "ipython3",
   "version": "3.12.9"
  }
 },
 "nbformat": 4,
 "nbformat_minor": 5
}
