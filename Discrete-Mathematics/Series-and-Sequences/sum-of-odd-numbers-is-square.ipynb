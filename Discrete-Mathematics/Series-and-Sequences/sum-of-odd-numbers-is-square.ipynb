{
 "cells": [
  {
   "cell_type": "markdown",
   "id": "5ee7b688-b995-450b-aa52-a96bad1e9551",
   "metadata": {},
   "source": [
    "## (Sum of Odd Numbers -> Square) Identity\n",
    "We have this:\n",
    "\n",
    "$$\n",
    "\\sum_{k=1}^n (2k - 1)\n",
    "$$\n",
    "\n",
    "Expand and Simplify\n",
    "\n",
    "$$\n",
    "\\begin{align*}\n",
    "    \\sum_{k=1}^n (2k - 1) &= 2\\sum_{k=1}^n k - \\sum_{k=1}^n 1 \\\\\n",
    "    &= \\cancel{2} \\cdot \\dfrac{n(n+1)}{\\cancel{2}} - n \\\\\n",
    "    &= (n^2 + \\cancel{n}) - \\cancel{n} \\\\\n",
    "    &= n^2\n",
    "\\end{align*}\n",
    "$$\n",
    "\n",
    "Thus we have proven this cool identity!\n",
    "\n",
    "$$\n",
    "\\boxed{\\sum_{k=1}^n (2k - 1) = n^2}\n",
    "$$"
   ]
  }
 ],
 "metadata": {
  "kernelspec": {
   "display_name": "Python 3 (ipykernel)",
   "language": "python",
   "name": "python3"
  },
  "language_info": {
   "codemirror_mode": {
    "name": "ipython",
    "version": 3
   },
   "file_extension": ".py",
   "mimetype": "text/x-python",
   "name": "python",
   "nbconvert_exporter": "python",
   "pygments_lexer": "ipython3",
   "version": "3.12.9"
  }
 },
 "nbformat": 4,
 "nbformat_minor": 5
}
