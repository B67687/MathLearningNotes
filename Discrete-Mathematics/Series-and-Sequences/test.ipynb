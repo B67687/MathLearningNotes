{
 "cells": [
  {
   "cell_type": "code",
   "execution_count": 61,
   "id": "ca02dfc1-2f97-4e20-b32d-02435a2280a7",
   "metadata": {},
   "outputs": [
    {
     "name": "stdout",
     "output_type": "stream",
     "text": [
      "[1, 2, 2, 3, 3, 3, 4, 4, 4, 4, 5, 5, 5, 5, 5, 6, 6, 6, 6, 6, 6, 7, 7, 7, 7, 7, 7, 7, 8, 8, 8, 8, 8, 8, 8, 8, 9, 9, 9, 9, 9, 9, 9, 9, 9, 10, 10, 10, 10, 10, 10, 10, 10, 10, 10]\n",
      "55\n",
      "385\n",
      "7\n",
      "[1, 5, 14, 30, 55, 91, 140, 204, 285, 385]\n",
      "[1, 3, 6, 10, 15, 21, 28, 36, 45, 55]\n"
     ]
    }
   ],
   "source": [
    "\n",
    "from statistics import mean\n",
    "from fractions import Fraction\n",
    "\n",
    "def generate_terms(n):\n",
    "    # n stands for the iteration\n",
    "    series = []\n",
    "    for i in range(1, n+1):\n",
    "        for j in range(0, i):\n",
    "            series.append(i)\n",
    "\n",
    "    return series\n",
    "\n",
    "def average_terms(series):\n",
    "    return Fraction(mean(series)).limit_denominator()\n",
    "\n",
    "def generate_sum_progression(n):\n",
    "    sum_progression = []\n",
    "    for i in range(1, n+1):\n",
    "        sum_progression.append(\n",
    "            sum(generate_terms(i)))\n",
    "    return sum_progression\n",
    "\n",
    "def generate_num_terms_progression(n):\n",
    "    \n",
    "    num_terms_progression = []\n",
    "    for i in range(1, n+1):\n",
    "        series = generate_terms(i)\n",
    "        num_terms_progression.append(len(series))\n",
    "    return num_terms_progression\n",
    "\n",
    "def indie_sum_squares_stats(n):\n",
    "    series = generate_terms(n); print(series)\n",
    "    num_terms = len(series); print(num_terms)\n",
    "    sum_series = sum(series); print(sum_series)\n",
    "    average_series = average_terms(series); print(average_series)\n",
    "    sum_progression = generate_sum_progression(n); print(sum_progression)  \n",
    "    num_terms_progression = generate_num_terms_progression(n); print(num_terms_progression)\n",
    "\n",
    "n = 10\n",
    "indie_sum_squares_stats(n)"
   ]
  }
 ],
 "metadata": {
  "kernelspec": {
   "display_name": "Python 3 (ipykernel)",
   "language": "python",
   "name": "python3"
  },
  "language_info": {
   "codemirror_mode": {
    "name": "ipython",
    "version": 3
   },
   "file_extension": ".py",
   "mimetype": "text/x-python",
   "name": "python",
   "nbconvert_exporter": "python",
   "pygments_lexer": "ipython3",
   "version": "3.12.9"
  }
 },
 "nbformat": 4,
 "nbformat_minor": 5
}
