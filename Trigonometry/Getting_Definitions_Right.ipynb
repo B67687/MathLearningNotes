{
 "cells": [
  {
   "cell_type": "markdown",
   "id": "beff008a-71d5-43ce-a364-a514ebb4130c",
   "metadata": {
    "jp-MarkdownHeadingCollapsed": true
   },
   "source": [
    "# **Reflections**\n",
    "Wow so I really just refined my understanding of trigonometry, I really didnt understand it before huh! Especially about learning that the standard position where we take reference for all angles, which is really the main break through for me. And then also realising this fact about reference angles that is a neat way to reason about trigonometric functions of greater than acute angles.\n",
    "\n",
    "I dont know if I had needed to go through so much readjustment if I had learnt this correctly from the start given the right resources and attitude and schedule, alas it hard to find and take the most direct path in learning, sometimes we gotta stumble here and there and back finally to the correct understanding. I am very satisfied now but also feel sad for the lost time trying to understand trigonometry through the wrong perspective of its definition\n",
    "\n",
    "## **Conclusion**\n",
    "* An angle is defined through its rotation away from the positive `x-axis` on a Unit Circle (the **standard position**)\n",
    "    * Therefore an angle doesn't exactly refer to an acute angle, but one *rotated from standard position*\n",
    "* Angles greater than $90\\degree$, can also be referenced by their acute angle to the `x-axis`, defined as the **reference angle**, which gives us a neat and convenient way to reason about trig functions of degrees larger than a quarter rotation\n",
    "* Hence  \n",
    "  \n",
    "### **Do you really understand?**\n",
    "- How would you find the reference angles for angles in every quadrant?\n",
    "- How would you take the $sin(234\\degree)$?"
   ]
  },
  {
   "cell_type": "markdown",
   "id": "c2a2fde7-d4e3-43fe-8bbf-cfb5a0821288",
   "metadata": {},
   "source": [
    "# **Insights on Trigonometry - Reasoning about definition**\n",
    "My initial reasoning is that the height and base stays the same through about the whole angles, but it might not have worked for greater than 180 degrees because my reasoning bases very strongly on drawing a euclidean right angled triangle relative to the standard position.\n",
    "\n",
    "BUT the definition is actually much more simple and by extension flexible idea - instead of needing the triangle for the height and base, actually only the height and base are needed in this context. We can use cartesian plane centered at the origin to model change from original position, the base and height can be again be equated and simplified to the positions (x,y). The radius of the circle is not needed as it can just be depended on the positions (x,y), where the radius is sqrt(x^2 + y^2) due to the pythagorean theorem\n",
    "\n",
    "Now trig functions are essentially ratios of the sides of the right-angled triangle, and therefore it lends nicely now to the ratio between x,y, and sqrt(x^2+y^2), which are by definition linked to the angle from the standard position. Noticed now we dropped the right-angled triangle tie, going to just the points in space from the origin.\n",
    "\n",
    "Through a series of simplifying, we got to this direct trigonometric relationship between angle and coordinate.\n",
    "\n",
    "As a consequence - we can bring the right angled triangle to all 4 quadrants, corresponding to their angle from the standard position.\n",
    "* The angles are (where theta is acute):\n",
    "   * Quadrant 1: $\\theta$\n",
    "   * Quadrant 2: 180 - $\\theta$\n",
    "   * Quadrant 3: 180 + $\\theta$\n",
    "   * Quadrant 4: 360 - $\\theta$\n",
    "\n",
    "Determining the trig functions of any angles is now trivial by following the premises of this definition (cartesian plane)\n",
    "\n",
    "It is as simple and straightforward as that. \n",
    "* The point of breakthrough really is first putting the premise of angles on cartesian plane, representing direction of change from the origin.\n",
    "* The second point of breakthrough is breaking the perception that trigonometric functions depend strongly on the right angled triangle - it started from it, but by noticing that just the height and base are directly used in calculating the ratio between them (for some acute angle), we shift the concept of length of base and height tied to creating a triangle to a points in space relative to the point where the acute angle is.\n",
    "* Now it is simple, the trig ratio is literally just the ratio of the 2 numbers that represents vertical and horizontal displacement, linked to the angle of the rotation from standard position.\n",
    "\n",
    "# **Reflections on Emotional Response and Logical Thinking**\n",
    "this is an amazing breakthrough, but it taught me: \n",
    "\n",
    "- to catch habit of negative thinking, stopping a potential downward spiral, then turning to optimistic thinking to expand my resourcefulness, and start applying the logical steps below\n",
    "\n",
    "- to find the most direct connections between things, to link them to other things, that's the most basic way to look at a thing\n",
    "\n",
    "- to revisit my strong perceptions and work them out by doing point 1, see if one thing leads to another, this requires noticing then meticulous work, but meta-realisation is doing it the next time I encounter a problem\n",
    "\n",
    "These are the cornerstone thinking skills to get out of half-knowledge ditches where I was, and to do it less painfully by acknowledging the pain, calming down, switch to optimism, and then switch to logical thinking\n",
    "\n",
    "Emotional Responses are quite direct brain stimuli to situations that has posed problems in the past, that is hard to control exact amount of.\n",
    "\n",
    "Emotional responses are old and unreliable systems that require refinement and new version, which unfortunately, cannot keep pace with the change from the environment that it lives in. A tool that is difficult to control, therefore requiring analogue regulation. \n",
    "\n",
    "The best use of it then, is therefore to treat it as a general response, once you acknowledge the response exist, tune down the response, shove it in the other direction with some force so that it goes back to baseline, start thinking more logically. \n",
    "While that happens you can find the problem that caused this response,  while the logic centre takes over to break down the situation to its fundamental parts, find the interconnections between things, question the hidden relationships, and formulate a response. You might not be right the first time, but that is to be expected, continue in this loop, rest when needed, stop when needed. But ultimately learning something novel, anything from it, from yourself, is a win. Count your wins. Don't fret the win being too small, do it everyday and the win compounds on your previous progress, and you will find one day you have come so far from your previous self."
   ]
  },
  {
   "cell_type": "code",
   "execution_count": null,
   "id": "a642db86-7181-427b-97e5-51db428723f1",
   "metadata": {},
   "outputs": [],
   "source": []
  },
  {
   "cell_type": "code",
   "execution_count": null,
   "id": "28f879e1-02ae-4d00-9efb-f1a30b6bad76",
   "metadata": {},
   "outputs": [],
   "source": []
  },
  {
   "cell_type": "code",
   "execution_count": null,
   "id": "50448116-ffa6-4aea-a20c-4b08270f8f4d",
   "metadata": {},
   "outputs": [],
   "source": []
  }
 ],
 "metadata": {
  "kernelspec": {
   "display_name": "Python 3 (ipykernel)",
   "language": "python",
   "name": "python3"
  },
  "language_info": {
   "codemirror_mode": {
    "name": "ipython",
    "version": 3
   },
   "file_extension": ".py",
   "mimetype": "text/x-python",
   "name": "python",
   "nbconvert_exporter": "python",
   "pygments_lexer": "ipython3",
   "version": "3.12.9"
  }
 },
 "nbformat": 4,
 "nbformat_minor": 5
}
